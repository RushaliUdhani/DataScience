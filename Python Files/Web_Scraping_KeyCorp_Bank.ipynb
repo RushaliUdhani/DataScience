{
 "cells": [
  {
   "cell_type": "code",
   "execution_count": 1,
   "metadata": {},
   "outputs": [],
   "source": [
    "from lxml import html\n",
    "import csv\n",
    "import pandas as pd\n",
    "from requests import get\n",
    "import requests\n",
    "from bs4 import BeautifulSoup as bs\n",
    "from bs4 import SoupStrainer\n",
    "import pprint"
   ]
  },
  {
   "cell_type": "code",
   "execution_count": 11,
   "metadata": {},
   "outputs": [
    {
     "name": "stdout",
     "output_type": "stream",
     "text": [
      "['https://careers.key.com/en-US/search?pagenumber=1', 'https://careers.key.com/en-US/search?pagenumber=2', 'https://careers.key.com/en-US/search?pagenumber=3', 'https://careers.key.com/en-US/search?pagenumber=4', 'https://careers.key.com/en-US/search?pagenumber=5', 'https://careers.key.com/en-US/search?pagenumber=6', 'https://careers.key.com/en-US/search?pagenumber=7', 'https://careers.key.com/en-US/search?pagenumber=8', 'https://careers.key.com/en-US/search?pagenumber=9', 'https://careers.key.com/en-US/search?pagenumber=10', 'https://careers.key.com/en-US/search?pagenumber=11']\n"
     ]
    }
   ],
   "source": [
    "url = []\n",
    "for i in range(1,12):\n",
    "    url.append('https://careers.key.com/en-US/search?pagenumber={0}'.format(i))\n",
    "print(url)"
   ]
  },
  {
   "cell_type": "code",
   "execution_count": 18,
   "metadata": {},
   "outputs": [],
   "source": [
    "job_description = []\n",
    "job_location = []\n",
    "job_title = []\n",
    "weblinks1 = []  \n",
    "for u in url:\n",
    "    page = requests.get(u)\n",
    "    soup = bs(page.text,'html.parser')\n",
    "    container = soup.find(\"div\", id = \"job-results-page-main-content\")\n",
    "    jobs_container = container.find(\"div\", class_ = \"jrp-table-container\")\n",
    "    job = jobs_container.find_all(\"tr\", class_=\"job-result\")\n",
    "    tags=[]\n",
    "    for j in range(0,len(job)):\n",
    "        tag = job[j].find(\"a\")\n",
    "        tags.append(tag.get('href'))\n",
    "    #print(tags)\n",
    "    weblinks=[] \n",
    "    for t in range(0,len(tags)):\n",
    "        weblinks.append('https://careers.key.com'+tags[t])\n",
    "        weblinks1.append('https://careers.key.com'+tags[t])\n",
    "        response  = get(weblinks[t])\n",
    "        html_soup = bs(response.text,'html.parser')\n",
    "        #Scraping job description of all links in the weblinks\n",
    "        class_check = html_soup.find(\"div\", class_ = \"jdp-job-description-card content-card\")\n",
    "        if(class_check != None):\n",
    "            job_description.append(class_check.text)\n",
    "        else:\n",
    "            job_description.append(None)  \n",
    "        #Scraping the job location\n",
    "        check = html_soup.find('div', class_ = 'jdp-job-snapshot-card')\n",
    "        textlocation = check.find('span', class_ = 'jobLocation')\n",
    "        if(textlocation != None):\n",
    "            job_location.append(textlocation.text)\n",
    "        else:\n",
    "            job_location.append(None)\n",
    "        #scraping the job title\n",
    "        check1 = html_soup.find('div', class_ = 'jdp-title-block-position')\n",
    "        texttitle = check1.find('span', class_ = 'jdp-title-job-title')\n",
    "        if(texttitle != None):\n",
    "            job_title.append(texttitle.text)\n",
    "        else:\n",
    "            job_title.append(None)"
   ]
  },
  {
   "cell_type": "code",
   "execution_count": 27,
   "metadata": {},
   "outputs": [
    {
     "name": "stdout",
     "output_type": "stream",
     "text": [
      "21\n",
      "521\n",
      "521\n",
      "521\n"
     ]
    }
   ],
   "source": [
    "print(len(weblinks))\n",
    "print(len(job_description))\n",
    "print(len(job_title))\n",
    "print(len(job_location))"
   ]
  },
  {
   "cell_type": "code",
   "execution_count": 28,
   "metadata": {},
   "outputs": [
    {
     "name": "stdout",
     "output_type": "stream",
     "text": [
      "length word_count 100\n",
      "length wcist 100\n",
      "['financial', 'digital', 'services', 'economic', 'key', 'market', 'findings', 'platforms', 'bitcoin', 'payments', 'investors', 'insurance', 'technology', 'risk', 'transactions', 'asset', 'incumbents', 'regulators', 'institutions', 'capital', 'equity', 'global', 'investment', 'business', 'future', 'firms', 'solutions', 'management', 'infrastructure', 'potential', 'crowdfunding', 'cryptocurrency', 'contract', 'ecosystem', 'online', 'iot', 'transfer', 'kba', 'trade', 'saas', 'credit', 'markets', 'startup', 'loan', 'assets', 'validation', 'automated', 'role', 'lead', 'ledger', 'fintech', 'wef', 'lending', 'legal', 'costs', 'api', 'settlement', 'insurtech', 'partnerships', 'growth', 'evidence', 'loss', 'blockchain', 'regtech', 'mobile', 'development', 'underwriting', 'tokenization', 'exchange', 'government', 'experience', 'idps', 'money', 'stakeholders', 'innovation', 'network', 'funds', 'counterparty', 'retail', 'instech', 'unbanked', 'fico', 'interest', 'revenue', 'profit', 'recession', 'debt', 'collateral', 'debit', 'research', 'merger', 'account', 'funding', 'acquisition', 'shares', 'compliance', 'floating', 'overdraft', 'neobank', 'ai']\n",
      "length word_count 100\n",
      "length trlist 100\n",
      "['services', 'global', 'economic', 'forum', 'future', 'fintech', 'service', 'business', 'digital', 'financial', 'international', 'investment', 'regulators', 'incumbents', 'public', 'capital', 'leadership', 'revolution', 'llp', 'swift', 'markets', 'management', 'industrial', 'technology', 'firms', 'institutions', 'legal', 'stakeholders', 'innovations', 'ecosystem', 'market', 'uncertainties', 'crowdfunding', 'mapping', 'equity', 'payment', 'insurance', 'loss', 'future', 'stock', 'lending', 'assessment', 'financial services', 'management', 'portfolio', 'retail', 'capitalization', 'regulatory', 'transactions', 'quantitative', 'trading', 'chain', 'blockchain', 'underwriting', 'growth', 'competition', 'rp', 'executional', 'competitive', 'centrally', 'substantial', 'discrete', 'license', 'decrease', 'conscious', 'compliance', 'program', 'repository', 'automating', 'telecommunication', 'error', 'wallet', 'alliance', 'merger', 'takeover', 'exacerbate', 'positive', 'liability', 'attestation', 'cashflow', 'financing', 'accounting', 'fixed', 'floating', 'fundamental', 'interest', 'technique', 'governance', 'virtual', 'cls', 'leakage', 'bi', 'cryptocurrency', 'blockverify', 'scaling', 'validation', 'reliance', 'spectrum', 'ai', 'credentials']\n",
      "length word_count 100\n",
      "length tfidflist 100\n",
      "['global', 'stats', 'payments', 'mobile', 'multidimensional', 'future', 'crowdfunding', 'market ', 'equity', 'capitalise', 'settlements', 'cost', 'auction', 'marginalised', 'cobol', 'tellers', 'cybersecurity', 'register', 'mobilewallet', 'demonetization', 'currency', 'subsidized', 'custom', 'software', 'lockout', 'charting', 'remittances', 'al', 'credit', 'cfa', 'mutualizing', 'fintech', 'developer', 'payment ', 'credit', 'macroeconomic', 'bi', 'syndications', 'rerisk', 'cdo', 'blockchain', 'custodial', 'services ', 'percentages', 'brexit', 'audits', 'interest', 'tradeoffs', 'cashequity', 'management', 'longrunning', 'liquidation', 'intangible', 'reinforcement', 'machinelearning', 'mitigated', 'ledgerbased', 'accreditation', 'variances', 'neuralnetwork', 'digicash', 'visualisation', 'architectures', 'userfriendly', 'vouch', 'microeconomic', 'macroprudential', 'incentivised', 'exacerbating', 'federation', 'nonprofit', 'millennial', 'average', 'computation', 'benchmarking', 'turnover', 'overcapitalization', 'blockchain ', 'forecast', 'scrapped', 'bureaucratic', 'taxes', 'underwriter', 'selfinsurance', 'forwardlooking', 'fiduciary', 'log', 'custodianship', 'incentivizes', 'prototyping', 'crossproduct', 'synergies', 'inception', 'cyberattack', 'optimization', 'demandsupply', 'economical', 'demonetization', 'entrepreneurship', 'tokenization']\n"
     ]
    }
   ],
   "source": [
    "#CSV extraction for wordcount\n",
    "import csv\n",
    "import re\n",
    "word_count=[]\n",
    "with open ('wordcount_f.csv','r')as csvfile:\n",
    "    csvreader=csv.reader(csvfile)\n",
    "    fields=next(csvreader)  \n",
    "    for row in csvreader:\n",
    "        word_count.append(row)\n",
    "print('length word_count',len(word_count))\n",
    "wclist=[]       \n",
    "for value in word_count:\n",
    "    rowid,word=value\n",
    "    wclist.append(word)\n",
    "print('length wcist',len(wclist))\n",
    "print(wclist)\n",
    "#--------------------------------------------------------------------\n",
    "#text rank dataset\n",
    "word_count=[]\n",
    "with open ('textrank_la.csv','r')as csvfile:\n",
    "    csvreader=csv.reader(csvfile)\n",
    "    fields=next(csvreader)  \n",
    "    for row in csvreader:\n",
    "        word_count.append(row)\n",
    "print('length word_count',len(word_count))\n",
    "trlist=[]       \n",
    "for value in word_count:\n",
    "    rowid,word=value\n",
    "    trlist.append(word)\n",
    "print('length trlist',len(trlist))\n",
    "print(trlist)\n",
    "#-----------------------------------------------------------------------\n",
    "#tfidf dataset\n",
    "word_count=[]\n",
    "with open ('tfidf_f.csv','r')as csvfile:\n",
    "    csvreader=csv.reader(csvfile)\n",
    "    fields=next(csvreader)  \n",
    "    for row in csvreader:\n",
    "        word_count.append(row)\n",
    "print('length word_count',len(word_count))\n",
    "tfidflist=[]       \n",
    "for value in word_count:\n",
    "    rowid,word=value\n",
    "    tfidflist.append(word)\n",
    "print('length tfidflist',len(tfidflist))\n",
    "print(tfidflist)\n",
    "\n"
   ]
  },
  {
   "cell_type": "code",
   "execution_count": 29,
   "metadata": {},
   "outputs": [],
   "source": [
    "#print(job_description[0])\n",
    "with open('keycorp_dataset.csv', 'w') as f:\n",
    "    writer = csv.writer(f,delimiter=\",\", lineterminator=\"\\n\")\n",
    "    #writer.writerow(word1)\n",
    "    abc=['jobNo']+['Title']+['Location']+['Institution']+['List id (1,2,3)']\n",
    "    for i in range(1,101):\n",
    "        abc+=[str(i)]\n",
    "    writer.writerow(abc)"
   ]
  },
  {
   "cell_type": "code",
   "execution_count": 98,
   "metadata": {},
   "outputs": [],
   "source": [
    "with open('keycorp_final.csv','w') as f:\n",
    "    writer = csv.writer(f,delimiter=\",\", lineterminator=\"\\n\")\n",
    "    abc=['jobNo']+['Job Title']+['Job Description']+['Bank Name']+['Job Location']+['Web link']\n",
    "    writer.writerow(abc)"
   ]
  },
  {
   "cell_type": "code",
   "execution_count": 99,
   "metadata": {},
   "outputs": [],
   "source": [
    "def value(s):\n",
    "    return ''.join([i if ord(i) < 128 else ' ' for i in s])\n",
    "def cleanText(s):\n",
    "    words=word_tokenize(s)\n",
    "    wordlist=[]\n",
    "    for word in words:\n",
    "        result=value(word)\n",
    "        wordlist.append(result)    \n",
    "    y=' '.join(wordlist)\n",
    "    return y"
   ]
  },
  {
   "cell_type": "code",
   "execution_count": 106,
   "metadata": {},
   "outputs": [],
   "source": [
    "from nltk.tokenize import word_tokenize\n",
    "empty='Invalid value'\n",
    "#counter=0\n",
    "#counter+=1\n",
    "for i in range(500,521):\n",
    "    with open('keycorp_final.csv','a') as f:\n",
    "        varlength=[]\n",
    "        writer = csv.writer(f,delimiter=\",\", lineterminator=\"\\n\")\n",
    "        varlength.append(i)\n",
    "        #varlength.append(counter)#Job ID\n",
    "        #job title extraction\n",
    "        jobtit=cleanText(job_title[i])\n",
    "        varlength.append(jobtit)\n",
    "        #job description extraction\n",
    "        jobdesc=cleanText(job_description[i])\n",
    "        varlength.append(jobdesc)\n",
    "        varlength.append(['Key Corp Bank'])#Bank Name\n",
    "        varlength.append(job_location[i])#Job Location    \n",
    "        varlength.append(weblinks1[i])#Web Links\n",
    "        writer.writerow(varlength)\n",
    "    f.close"
   ]
  },
  {
   "cell_type": "code",
   "execution_count": null,
   "metadata": {},
   "outputs": [],
   "source": [
    "wclist1=[]\n",
    "tflist1=[]\n",
    "tfidflist1=[]\n",
    "empty='Invalid value'\n",
    "for i in range(500,521):\n",
    "    varlength=[]\n",
    "    list_id=1\n",
    "    if list_id==1:\n",
    "        with open('keycorp_dataset.csv', 'a') as f:\n",
    "            varlength=[]\n",
    "            writer = csv.writer(f,delimiter=\",\", lineterminator=\"\\n\")\n",
    "        #writer.writerow(word1)\n",
    "            try: \n",
    "                varlength.append(i)\n",
    "                varlength.append(job_title[i])\n",
    "                varlength.append(job_location[i])                \n",
    "                varlength.append(weblinks1[i])\n",
    "                varlength.append([list_id])\n",
    "                for value1 in wclist:\n",
    "                    count2=re.findall(value1,job_description[i])\n",
    "                    abc=str(len(count2))\n",
    "                    empty='Invalid value'\n",
    "                    varlength.append(abc)\n",
    "                    #varlength.append(empty)\n",
    "            except:\n",
    "                print('1 Error')\n",
    "                print(error)\n",
    "                varlength.append('error')     \n",
    "        #writer = csv.writer(f)\n",
    "            try:\n",
    "                writer.writerow(varlength)\n",
    "            except UnicodeEncodeError:\n",
    "                writer.writerow(empty)\n",
    "            list_id+=1\n",
    "        f.close\n",
    "    if list_id==2:\n",
    "        with open('keycorp_dataset.csv', 'a') as f:\n",
    "            varlength=[]\n",
    "            writer = csv.writer(f,delimiter=\",\", lineterminator=\"\\n\")\n",
    "            try: \n",
    "                varlength.append(i)\n",
    "                varlength.append(job_title[i])\n",
    "                varlength.append(job_location[i])                \n",
    "                varlength.append(weblinks1[i])\n",
    "                varlength.append([list_id])\n",
    "                for value1 in trlist:\n",
    "                    count2=re.findall(value1,job_description[i])\n",
    "                    abc=str(len(count2))\n",
    "                    empty='Invalid value'\n",
    "                    try:\n",
    "                        varlength.append(abc)\n",
    "                    except UnicodeEncodeError:\n",
    "                        varlength.append(empty)\n",
    "                        \n",
    "                    errormsg='InvalidValue' \n",
    "            except:\n",
    "                print('2 Error')\n",
    "                print(error)\n",
    "                varlength.append('error')     \n",
    "            try:\n",
    "                writer.writerow(varlength)\n",
    "            except UnicodeEncodeError:\n",
    "                writer.writerow(empty)\n",
    "            list_id+=1\n",
    "        f.close\n",
    "    if list_id==3:\n",
    "        with open('keycorp_dataset.csv', 'a') as f:\n",
    "            varlength=[]\n",
    "            writer = csv.writer(f,delimiter=\",\", lineterminator=\"\\n\")\n",
    "            try: \n",
    "                varlength.append(i)\n",
    "                varlength.append(job_title[i])\n",
    "                varlength.append(job_location[i])                \n",
    "                varlength.append(weblinks1[i])\n",
    "                varlength.append([list_id])\n",
    "                for value1 in tfidflist:\n",
    "                    count2=re.findall(value1,job_description[i])\n",
    "                    abc=str(len(count2))\n",
    "                    empty='Invalid value'\n",
    "                    try:\n",
    "                        varlength.append(abc)\n",
    "                        errormsg='InvalidValue' \n",
    "                    except UnicodeEncodeError:\n",
    "                        varlength.append(empty)\n",
    "                     \n",
    "            except:\n",
    "                print(' 3 Error')\n",
    "                print(error)\n",
    "                varlength.append('error')     \n",
    "            try:\n",
    "                writer.writerow(varlength)\n",
    "            except UnicodeEncodeError:\n",
    "                writer.writerow(empty)\n",
    "        f.close"
   ]
  },
  {
   "cell_type": "code",
   "execution_count": 195,
   "metadata": {},
   "outputs": [
    {
     "name": "stdout",
     "output_type": "stream",
     "text": [
      "lenloc 536 lentitle 536\n",
      "[('Akron, OH', 'Mortgage Loan Officer - Akron/Canton, OH Area '), ('Albany, NY', 'Mortgage Loan Officer '), ('Albany, NY', 'Healthcare Mortgage Lending Officer (Physician,Dentist,Veterinarian) '), ('Albany, NY', '2019 Summer Retail Banking Intern- Albany '), ('Albany, NY', 'Business Banking Relationship Manager '), ('Albany, NY', 'Associate Relationship Mgr - Private Bank '), ('Aloha, OR', 'Personal Banker - Farmington '), ('Amelia, OH', 'Personal Banker - Amelia Branch '), ('Amherst, NY', 'Personal Banker - Snyder '), ('Amsterdam, NY', 'Licensed Relationship Banker-- Maple Ave '), ('Anchorage, AK', 'Financial Advisor '), ('Anchorage, AK', 'Teller - 20 Hours - Benson '), ('Anchorage, AK', 'Personal Banker - Benson '), ('Anchorage, AK', 'Float Teller - 20 Hours - Anchorage '), ('Anchorage, AK', 'Float Teller - 20 Hours - Anchorage '), ('Anchorage, AK', 'Teller - 20 Hours - 5th Avenue '), ('Anchorage, AK', 'Teller - 20 Hours - Benson '), ('Anchorage, AK', 'Float Teller - 20 Hours - South Anchorage '), ('Angola, IN', 'Business Banking Relationship Manager '), ('Ann Arbor, MI', 'Associate Financial Advisor '), ('Ann Arbor, MI', 'Healthcare Mortgage Lending Officer (Physician,Dentist,Veterinarian) '), ('Ann Arbor, MI', 'Personal Banker - Traverwood Branch '), ('Ann Arbor, MI', 'Part Time Teller (20 hours) - Ann Arbor Main Branch '), ('Ann Arbor, MI', 'Part Time Teller (20 hours) - South State Branch '), ('Arlington, WA', 'Personal Banker - Smokey Point '), ('Arlington, WA', 'Mortgage Loan Officer - Arlington, WA '), ('Arlington, WA', 'Personal Banker - Arlington '), ('Arvada, CO', 'Teller-Fulltime-Arvada Branches '), ('Ashtabula, OH', 'CDB Loan Officer '), ('Ashtabula, OH', 'Part-Time Mobile Teller - Ashtabula '), ('Ashtabula, OH', 'Part-Time Mobile Teller - Ashtabula '), ('Atlanta, GA', 'Senior Relationship Manager, Community Development Lending '), ('Atlanta, GA', 'Lead Service Officer '), ('Auburn, WA', 'Mortgage Loan Officer - Auburn/Kent, WA '), ('Aurora, CO', 'Branch Manager-Aurora Area '), ('Aurora, CO', 'Personal Banker-Havanh Gardens '), ('Aurora, CO', 'Mortgage Loan Officer - Commerce City/Aurora, CO '), ('Ballston Spa, NY', 'Licensed Relationship Banker- Ballston Spa '), ('Barre, VT', 'Teller (36 hours)- Barre '), ('Bay Village, OH', 'Licensed Relationship Manager - Multibranch-Bay Village '), ('Bellevue, WA', 'Financial Wellness Banker-Bellevue '), ('Bellevue, WA', 'Mortgage Loan Officer - Bellevue, WA '), ('Bellevue, WA', 'Lead Teller-Belgate '), ('Bellevue, WA', 'Licensed Relationship Manager-Bellevue '), ('Bellevue, WA', 'Financial Advisor '), ('Bellingham, WA', 'Key@Work Relationship Manager - Bellingham '), ('Bellingham, WA', 'Key@Work Relationship Manager - Bellingham '), ('Benton Harbor, MI', 'Business Banking Relationship Manager '), ('Bethel, OH', 'Mortgage Loan Officer - Bethel, OH '), ('Binghamton, NY', 'Mortgage Loan Officer - Binghamton, NY '), ('Bloomfield Hills, MI', 'Healthcare Mortgage Lending Officer (Physician,Dentist,Veterinarian) '), ('Boise, ID', 'Healthcare Mortgage Lending Officer (Physician,Dentist,Veterinarian) '), ('Boise, ID', 'Regional Planning Strategist '), ('Boston, MA', 'Senior Payments Advisor, Middle Market, Boston '), ('Boston, MA', 'VP, Investment Banking, M&A Technology, Boston '), ('Boston, MA', 'Sr Relationship Manager, Community Development Lending '), ('Bothell, WA', 'Mortgage Loan Officer - Bothel/Mukiteo, WA '), ('Boulder, CO', 'Business Banking Relationship Manager '), ('Brattleboro, VT', 'On Call Teller- Brattleboro '), ('Brecksville, OH', 'Part-Time Mobile Teller-Cleveland East '), ('Brecksville, OH', 'Part-Time Mobile Teller - Brecksville '), ('Brooklyn, OH', 'Tax Analyst - Estate Tax '), ('Brooklyn, OH', 'UX Lead '), ('Brooklyn, OH', 'Digital Front-End Engineering Leader '), ('Brooklyn, OH', 'Trust Tax Administrative Assistant '), ('Brooklyn, OH', 'Compliance Officer â\\x80\\x93 Financial Crimes Governance '), ('Brooklyn, OH', 'Software Engineer /Enterprise Architect '), ('Brooklyn, OH', 'Business Resource Center RM '), ('Brooklyn, OH', 'Lead Full Stack Software Engineer '), ('Brooklyn, OH', 'Accountant, Operation B&C '), ('Brooklyn, OH', 'Lead Programmer Analyst - Physical Security '), ('Brooklyn, OH', 'Customer Service Specialist II '), ('Brooklyn, OH', 'Lead Business Systems Analyst '), ('Brooklyn, OH', 'Actimize Engineer '), ('Brooklyn, OH', 'Credit Associate - Middle Market '), ('Brooklyn, OH', 'Engineer V '), ('Brunswick, ME', 'Mortgage Loan Officer - Brunswick, ME '), ('Brunswick, ME', 'Float Teller (30 hours)- Brunswick Area '), ('Buffalo, NY', 'Lead Specialist '), ('Buffalo, NY', 'Lead Specialist (indirect lending) '), ('Buffalo, NY', 'Lead Specialist (Commercial Collections Department) '), ('Buffalo, NY', 'Business Banking Relationship Manager or Sr. Relationship Manager '), ('Buffalo, NY', '2019 Summer Retail Banking Intern- Rochester NY '), ('Buffalo, NY', '2019 Summer Retail Banking Intern- Buffalo NY '), ('Buffalo, NY', 'Senior Relationship Manager, Income Property Group '), ('Buffalo, NY', 'Healthcare Mortgage Lending Officer (Physician,Dentist,Veterinarian) '), ('Buffalo, NY', 'Teller (20 hours) - Elmwood Utica '), ('Buffalo, NY', 'Teller (20 hours) - Elmwood Utica '), ('Buffalo, NY', 'Business Resource Center RM '), ('Buffalo, NY', 'Business Resource Center Sales Specialist '), ('Buffalo, NY', 'Lead Full Stack Software Engineer '), ('Buffalo, NY', 'Mortgage Loan Officer - Amherst, NY '), ('Buffalo, NY', 'Personal Banker - Bailey Amherst '), ('Buffalo, NY', 'Key@Work Relationship Manager - Buffalo, NY '), ('Buffalo, NY', 'Teller (20 hours) - Grant Ferry '), ('Burley, ID', 'On Call Teller - Burley '), ('Burlington, VT', 'Area Retail Leader, Vermont '), ('Burlington, VT', 'Personal Banker- Burlington Area '), ('Canton, OH', 'Personal Banker - Everhard '), ('Canton, OH', 'Personal Banker - Everhard '), ('Canton, OH', 'Mortgage Loan Officer - Akron/Canton, OH Area '), ('Canton, OH', 'Personal Banker Multibranch - West Tusc. St. - Canton '), ('Canton, OH', 'Private Banking Loan Officer - Canton, OH '), ('Canton, OH', 'Mortgage Loan Officer - Canton, OH '), ('Canton, OH', 'Lead Specialist (Service Team) '), ('Castle Rock, CO', 'Financial Wellness Banker-Castle Rock '), ('Castle Rock, CO', 'Financial Wellness Banker Castle Rock '), ('Centennial, CO', 'Financial Wellness Banker- Centennial '), ('Chelsea, MI', 'Personal Banker - Chelsea Branch '), ('Chicago, IL', 'Equipment Finance Officer - Middle Market (Chicago OR Michigan) '), ('Chicago, IL', 'Sr. Quantitative/Modeling Associate - AML '), ('Chicago, IL', 'Market Risk Senior Professional - Customer Trading '), ('Chicago, IL', 'Underwriter Analyst '), ('Chicago, IL', 'Senior Banker, Income Property Group '), ('Chicago, IL', 'Banking Analytics Manager '), ('Cicero, NY', 'Personal Banker- Cicero Area '), ('Cincinnati, OH', 'Commercial Bank Relationship Officer (Loan Closing Specialist) '), ('Cincinnati, OH', 'Branch Manager - Cincinnati Area '), ('Cincinnati, OH', 'Telesales Mortgage Loan Officer '), ('Cincinnati, OH', 'Part Time Teller (20 hours) - Monfort Heights Branch '), ('Cincinnati, OH', '2019 Summer Retail Banking Intern- Cincinnati '), ('Cincinnati, OH', 'Personal Banker - Montgomery Road Area '), ('Cincinnati, OH', 'Licensed Banker - Anderson Branch '), ('Cincinnati, OH', 'Personal Banker - Cincinnati Area '), ('Cincinnati, OH', 'BDO Indirect Auto '), ('Cincinnati, OH', 'Mortgage Loan Officer - Cincinnati, OH '), ('Cleveland, OH', 'KPB Sr. Research Analyst '), ('Cleveland, OH', 'Compliance Director - Privacy '), ('Cleveland, OH', 'Sr. Payments Advisor '), ('Cleveland, OH', 'Community Development Banking Mortgage Loan Officer- Cleveland, OH '), ('Cleveland, OH', 'Market Risk Quant/Modeling Analyst '), ('Cleveland, OH', 'Healthcare Mortgage Lending Officer (Physician,Dentist,Veterinarian) '), ('Cleveland, OH', 'Instructional Designer '), ('Cleveland, OH', 'Lead Teller - Buckeye Rd. '), ('Cleveland, OH', 'Lead Teller - Buckeye Rd. '), ('Cleveland, OH', 'Business Resource Center RM '), ('Cleveland, OH', 'Quantitative Modeling Associate - Origination Management '), ('Cleveland, OH', 'Investment Banking Associate '), ('Cleveland, OH', 'Investment Banking Analyst '), ('Cleveland, OH', 'Finance Risk, Lead Analyst '), ('Cleveland, OH', '2019 Summer Retail Banking Intern- NE Ohio '), ('Cleveland, OH', 'Trust Associate III '), ('Cleveland, OH', 'Sr. Quantitative/Modeling Associate - AML '), ('Cleveland, OH', 'Relationship Manager II, Community Development Lending '), ('Cleveland, OH', 'Market Risk Senior Professional - Customer Trading '), ('Cleveland, OH', 'Banking Analytics Manager '), ('Cleveland, OH', 'Part Time Teller- 20 hours- East 105th Street '), ('Cleveland, OH', 'Regional Planning Strategist '), ('Cleveland, OH', 'Equity Research Associate, Cleveland '), ('Cleveland, OH', 'Part Time Teller - Cleveland Clinic '), ('Colorado Springs, CO', 'Mortgage Loan Officer - Colorado Springs, CO '), ('Columbus, OH', 'Branch Manager - South Columbus Area '), ('Columbus, OH', 'Healthcare Mortgage Lending Officer (Physician,Dentist,Veterinarian) '), ('Columbus, OH', 'Mortgage Loan Officer - Columbus, OH '), ('Colville, WA', 'Personal Banker-Colville '), ('Colville, WA', 'Licensed Relationship Manager-Colville '), ('Colville, WA', 'Mortgage Loan Officer - Colville, WA '), ('Commerce City, CO', 'Mortgage Loan Officer - Commerce City/Aurora, CO '), ('Conneaut, OH', 'Part-Time Teller - Conneaut '), ('Cooperstown, NY', 'Associate Financial Advisor '), ('Copake, NY', 'Personal Banker- Copake '), ('Cortlandville, NY', 'Teller (35 hours)- Cortlandville '), ('Covington, WA', 'Mortgage Loan Officer - Covington/Kent, WA '), ('Dallas, TX', 'Senior Relationship Manager, Income Property Group '), ('Dallas, TX', 'Senior Closing Officer - Fannie & Freddie '), ('Danielson, CT', 'Lead Teller - Danielson '), ('Dayton, OH', 'Business Banking Relationship Manager '), ('Dayton, OH', '2019 Summer Retail Banking Intern- Dayton '), ('Dayton, OH', 'BDO Indirect Auto '), ('Delmar, NY', 'Float Teller (40 hours)- Delmar Area '), ('Denver, CO', '2019 Summer Retail Banking Intern- Colorado '), ('Denver, CO', 'Healthcare Mortgage Lending Officer (Physician,Dentist,Veterinarian) '), ('Denver, CO', 'Personal Banker-Denver-Cherry Creek Branch '), ('Denver, CO', 'Regional Planning Strategist '), ('Denver, CO', 'Business Banking Relationship Manager '), ('Denver, CO', 'Personal Banker-Denver '), ('Depew, NY', 'Associate Financial Advisor '), ('Detroit, MI', 'Equipment Finance Officer - Middle Market (Chicago OR Michigan) '), ('Devon, PA', 'Lead Teller, Lancaster Ave '), ('Devon, PA', 'Lead Teller, Lancaster Ave '), ('Douglassville, PA', 'Personal Banker - Douglassville '), ('Downingtown, PA', 'Personal Banker - Downingtown '), ('Dresher, PA', 'Personal Banker - Dresher '), ('East Hartford, CT', 'Licensed Relationship Banker - East Hartford Silver Ln '), ('East Syracuse, NY', 'Branch Manager- East Syracuse '), ('Eastford, CT', 'Personal Banker - Eastford '), ('Eastsound, WA', 'Personal Banker - Orcas Island '), ('Edmonds, WA', 'Mortgage Loan Officer - Edmonds, WA '), ('Elkhart, IN', 'Business Banking Relationship Manager '), ('Elkhart, IN', 'Mortgage Loan Officer - Elkhart, IN '), ('Erie, PA', 'Mortgage Loan Officer '), ('Essex, VT', 'Mortgage Loan Officer - Essex Junction, VT '), ('Everett, WA', 'Licensed Relationship Manager - Everett Madison '), ('Exton, PA', 'Financial Advisor '), ('Fairbanks, AK', 'Branch Manager - Fairbanks Main '), ('Fairfield, OH', 'Full-Time Mobile Teller - Fairfield Center '), ('Fairport, NY', 'Mortgage Loan Officer - Fairport, NY '), ('Fairport, NY', 'Licensed Relationship Banker - Perinton Branch '), ('Fayetteville, NY', 'Mortgage Loan Officer - Fayetteville, NY '), ('Federal Way, WA', 'Mortgage Loan Officer - Tacoma/Federal Way, WA '), ('Federal Way, WA', 'Mortgage Loan Officer - Federal Way/Fife, WA '), ('Fishkill, NY', 'KMS Regional Sales Executive - Hudson Valley '), ('Fishkill, NY', 'Licensed Relationship Manager - Fishkill '), ('Fishkill, NY', 'Licensed Relationship Manager - Fishkill '), ('Fogelsville, PA', 'Mortgage Loan Officer - Fogelsville, PA '), ('Fort Collins, CO', 'Financial Wellness Banker-Harmony '), ('Fort Collins, CO', 'Financial Wellness Banker-Fort Collins-Drake Branch '), ('Fort Collins, CO', 'Financial Wellness Banker-Fort Collins '), ('Fort Collins, CO', 'Financial Wellness Banker-Fort Collins -Oak Branch '), ('Fort Wayne, IN', 'Business Banking Relationship Manager '), ('Frazer, PA', 'Personal Banker - Frazer '), ('Freeport, ME', 'Lead Teller- Freeport '), ('Fremont, OH', 'Personal Banker - Fremont Area '), ('Friday Harbor, WA', 'Float Teller (40 Hours) - Friday Harbor '), ('Fruitland, ID', 'Teller-On Call-Fruitland '), ('Gahanna, OH', 'Mortgage Loan Officer - Gahanna, OH '), ('Geneva, OH', 'Branch Manager - Geneva '), ('Gig Harbor, WA', 'Personal Banker - Gig Harbor North '), ('Gilbertsville, PA', 'Licensed Relationship Manager-Gilbertsville '), ('Golden, CO', 'Personal Banker-Golden '), ('Goshen, IN', 'Float Teller (40 hours) - Elkhart Area '), ('Goshen, NY', 'Licensed Relationship Manager - Goshen '), ('Goshen, NY', 'Licensed Relationship Manager - Goshen '), ('Goshen, NY', 'Licensed Relationship Manager - Goshen '), ('Graham, WA', 'Mortgage Loan Officer - Graham/Bonney Lake, WA '), ('Gray, ME', 'Personal Banker - Gray Area '), ('Greenwood Village, CO', 'Financial Wellness Banker-Greenwood Village Area '), ('Greenwood, IN', 'Mortgage Loan Officer - Greenwood, IN '), ('Gresham, OR', 'Branch Manager - Gresham Mall '), ('Grove City, OH', 'Branch Manager - Grove City Area '), ('Hamden, CT', 'KMS Regional Sales Executive - New Haven, CT '), ('Harrison, OH', 'Mortgage Loan Officer - Harrison, OH '), ('Highlands Ranch, CO', 'Licensed Relationship Manager-Highlands Ranch '), ('Highlands Ranch, CO', 'Financial Wellness Banker-Highlands Ranch '), ('Hilliard, OH', 'Mortgage Loan Officer - Hilliard, OH '), ('Houston, TX', '2019 Private Loan Mgmt, Oil & Gas Energy Internship - Houston, TX '), ('Idaho Falls, ID', 'Teller-On Call- Ammon '), ('Independence, OH', 'Mortgage Loan Officer - Independence, OH '), ('Indianapolis, IN', 'Senior Private Bank Relationship Manager '), ('Indianapolis, IN', 'Mortgage Loan Officer - Indianapolis, IN '), ('Indianapolis, IN', 'Mortgage Loan Officer - Indianapolis, IN '), ('Ithaca, NY', 'Teller (20 hours) - Ithaca '), ('Juneau, AK', 'Personal Banker - Mendenhall/Juneau Area '), ('Juneau, AK', 'Teller - 20 Hours - Mendenhall '), ('Kenmore, WA', 'Licensed Relationship Manager - Kenmore '), ('Kennebunk, ME', 'Mortgage Loan Officer - Kennebunk, ME '), ('Kent, WA', 'Mortgage Loan Officer - Auburn/Kent, WA '), ('Kent, WA', 'Mortgage Loan Officer - Covington/Kent, WA '), ('Kirkland, WA', 'Financial Wellness Banker-Totem Lake '), ('Knox, IN', 'Part Time Teller (20 hours) - Knox Branch '), ('Kokomo, IN', 'Community Development Banking Mortgage Loan Officer '), ('Lake Oswego, OR', 'Teller - 20 Hours - Lake Oswego '), ('Lakewood,', 'Personal Banker-Lakewood Area '), ('Lakewood, CO', 'Teller-Fulltime Float-Lakewood Area '), ('Lakewood, CO', 'Mortgage Loan Officer - Lakewood, CO '), ('Lambertville, MI', 'Mortgage Loan Officer - Lambertville/Ypsilanti/Ann Arbor, MI '), ('Lansford, PA', 'Lead Teller Lansford PA '), ('Lansford, PA', 'Lead Teller Lansford PA '), ('Lewiston, NY', 'Investment Associate '), ('Littleton, CO', 'Teller-Fultime-Littleton '), ('Littleton, CO', 'Personal Banker-Littleton-Chatfield Branch '), ('Liverpool, NY', 'Mortgage Loan Officer - Liverpool, NY '), ('Liverpool, NY', 'Licensed Relationship Banker- Great Northern '), ('Lockport, NY', 'Contact Center Team Leader '), ('Lockport, NY', 'Customer Service Specialist I '), ('Logan, UT', 'Mortgage Loan Officer - Logan, UT '), ('Longview, WA', 'Mortgage Loan Officer - Longview/Long Beach/Centralia, WA '), ('Longview, WA', 'Licensed Relationship Manager - Longview '), ('Los Angeles, CA', 'Senior Relationship Manager, Community Development Lending '), ('Lynnwood, WA', 'Lead Teller - Lynnwood '), ('Lynnwood, WA', 'Personal Banker - Lynnwood '), ('Mahopac, NY', 'Full-Time Mobile Teller - Mahopac '), ('Manchester, CT', 'Financial Advisor '), ('Manchester, CT', '2019 Summer Retail Banking Intern- Hartford/MA '), ('Manchester, CT', '2019 Summer Retail Banking Intern- Hartford/MA '), ('Manchester, CT', 'Licensed Relationship Banker - Manchester Main '), ('Mansfield, OH', 'Mortgage Loan Officer - Mansfield, OH '), ('Maple Valley, WA', 'Licensed Relationship Manager - Four Corners '), ('Marysville, WA', 'Licensed Relationship Manager - Marysville '), ('Mason, OH', 'Licensed Banker - Mason Branch '), ('Mayfield Heights, OH', 'Personal Banker - Mayfield Heights '), ('Medford, OR', 'On Call Teller - Medford '), ('Mentor, OH', 'Personal Banker- Mentor OH '), ('Mentor, OH', 'Personal Banker- Mentor OH '), ('Mercer Island, WA', 'Financial Wellness Banker-Mercer Island '), ('Mexico, NY', 'Branch Manager- Mexico Area '), ('Middleburg Heights, OH', 'Part-Time Teller - Middleburg Heights '), ('Middlebury, VT', 'Teller (35 hours)- Middlebury '), ('Middletown, NY', 'Licensed Rel Mgr '), ('Milwaukie, OR', 'Operations Leader - Metro East '), ('Mishawaka, IN', 'Mortgage Loan Officer - Mishawaka, IN '), ('Mount Vernon, WA', 'Float Teller - Skagit County '), ('New City, NY', 'Full-Time Mobile Teller - Cavalry '), ('New Haven, CT', 'KMS Regional Sales Executive - New Haven, CT '), ('New Haven, CT', 'Private Bank Lending Mortgage Loan Officer - New Haven, CT '), ('New Haven, CT', 'Healthcare Mortgage Lending Officer (Physician,Dentist,Veterinarian) '), ('New Haven, CT', 'Commercial Banking Relationship Manager '), ('New Haven, CT', '2019 Summer Retail Banking Intern- New Haven '), ('New Haven, CT', '2019 Summer Retail Banking Intern- New Haven '), ('New Haven, CT', 'Licensed Relationship Banker - New Haven Area '), ('New Rochelle, NY', 'Branch Manager - New Rochelle '), ('New Rochelle, NY', 'Branch Manager - New Rochelle '), ('New York, NY', 'Sr Relationship Manager, Community Development Lending '), ('New York, NY', 'Market Risk Senior Professional - Customer Trading '), ('New York, NY', 'Investment Banking Associate, Healthcare Services, NYC '), ('New York, NY', 'Equity Research Associate, NYC '), ('Newburgh, NY', 'Mortgage Loan Officer - Newburgh, NY '), ('Newcastle, WA', 'Teller (30 Hours) - Newcastle '), ('Newcastle, WA', 'Personal Banker - Newcastle '), ('Newport Beach, CA', 'Senior Mortgage Banker - Multifamily '), ('Newport Beach, CA', 'Senior Relationship Manager, Community Development Lending '), ('Norristown, PA', 'Part-Time Teller - Norristown '), ('North Canton, OH', 'Personal Banker-Multibranch - North Canton '), ('North East, PA', 'Part Time Teller 27 Main Street '), ('North East, PA', 'Part Time Teller 27 Main Street '), ('North Haven, CT', 'Mortgage Loan Officer - North Haven, CT '), ('North Haven, CT', 'Branch Manager - North Haven '), ('North White Plains, NY', 'Full-Time Mobile Teller - North White Plains '), ('Norwalk, CT', 'Part Time Teller - Norwalk '), ('Norwalk, CT', 'Part Time Teller - Norwalk '), ('Norway, ME', 'Lead Teller- Norway '), ('Oak Harbor,', 'Float Teller - Skagit County '), ('Oakmont, PA', 'Part-Time Teller: Oakmont - Mobile Position 2 '), ('Oakmont, PA', 'Part-Time Teller: Oakmont - Mobile Position 1 '), ('Ogden, UT', 'Part Time 20HR Teller- Harrison '), ('Olympia, WA', 'Personal Banker - Westside '), ('Olympia, WA', 'Mortgage Loan Officer - Olympia, WA '), ('Orangeburg, NY', 'Mortgage Loan Officer - Orangeburg, NY '), ('Ossining, NY', 'Financial Advisor '), ('Overland Park, KS', 'Surveillance Internship Program '), ('Overland Park, KS', 'Financial Analyst - Loan Surveillance '), ('Overland Park, KS', 'Commercial Insurance Specialist '), ('Overland Park, KS', 'Loan Accounting Specialist '), ('Overland Park, KS', 'Senior Closing Officer - Fannie & Freddie '), ('Overland Park, KS', 'Account Compliance Coordinator '), ('Overland Park, KS', 'Underwriter Analyst '), ('Overland Park, KS', 'Account Manager II - Agency '), ('Painesville, OH', 'Branch Manager - Painesville '), ('Pearl River, NY', 'Personal Banker - North Middletown '), ('Pepper Pike, OH', 'Licensed Relationship Manager - Pepper Pike '), ('Pepper Pike, OH', 'Mortgage Market Manager - Pepper Pike, OH '), ('Philadelphia, PA', 'Healthcare Mortgage Lending Officer (Physician,Dentist,Veterinarian) '), ('Pittsburgh, PA', 'Mortgage Loan Officer '), ('Pittsburgh, PA', 'Healthcare Mortgage Lending Officer (Physician,Dentist,Veterinarian) '), ('Pittsburgh, PA', 'Teller-Part Time-McKees Rocks (24 hours) '), ('Pittsburgh, PA', 'Private Bank Lending Officer- Pittsburgh, PA '), ('Pittsburgh, PA', 'Mortgage Market Manager - Pittsburgh, PA '), ('Pittsburgh, PA', 'Mortgage Loan Officer '), ('Pittsburgh, PA', 'Lead Full Stack Software Engineer '), ('Pittsburgh, PA', 'Part-Time Teller Mobile - Western Avenue '), ('Pittsburgh, PA', 'Part-Time Teller - Squirrel Hill '), ('Pittsburgh, PA', '2019 Summer Retail Banking Intern- Western PA '), ('Pittsburgh, PA', 'Part-Time Teller - Oliver Avenue. '), ('Pittsburgh, PA', 'Part-Time Teller - Oliver Avenue. '), ('Plymouth Meeting, PA', 'Private Bank Lending Officer - Plymouth Meeting, PA '), ('Plymouth Meeting, PA', 'Mortgage Loan Officer '), ('Plymouth Meeting, PA', 'Mortgage Loan Officer '), ('Plymouth Meeting, PA', '2019 Summer Retail Banking Intern- Eastern PA '), ('Plymouth Meeting, PA', 'Mortgage Market Manager - Plymouth Meeting, PA '), ('Pocatello, ID', 'Personal Banker-Yellowstone Area '), ('Pocatello, ID', 'Teller -On Call-Yellowstone-Pocatello Area '), ('Pocatello, ID', 'On Call Teller - West Center Pocatello '), ('Port Orchard, WA', 'Licensed Relationship Manager-Port Orchard '), ('Portland, ME', '2019 Summer Retail Banking Intern- Maine '), ('Portland, ME', 'Business Banking Relationship Manager or Sr. Relationship Manager '), ('Portland, ME', 'Private Bank Lending Officer - Portland, ME '), ('Portland, OR', 'Equity Research Associate, Semiconductors, Portland '), ('Portland, OR', '2019 KeyBanc Capital Markets Technology Internship - Portland, OR '), ('Portland, OR', 'Mortgage Loan Officer - Portland, OR '), ('Portland, OR', 'Lead Teller - Pearl '), ('Portland, OR', 'Equity Research Associate, China Internet '), ('Portland, OR', 'Personal Banker - 181st & Halsey '), ('Portland, OR', 'Teller - 20 Hours - 23rd & Everett '), ('Portland, OR', 'Senior Relationship Manager - Community Development Lending '), ('Portland, OR', 'Financial Advisor '), ('Portland, OR', 'Senior Payment Advisor, Middle Market, Portland '), ('Potsdam, NY', 'Personal Banker- Potsdam '), ('Pottstown, PA', 'Personal Banker - Pottstown '), ('Poughkeepsie, NY', 'Business Banking Relationship Manager '), ('Pound Ridge, NY', 'Lead Teller - Pound Ridge '), ('Presque Isle, ME', 'On Call Teller- Presque Isle/ Caribou Area '), ('Puyallup, WA', 'Mortgage Loan Officer - Puyallup/Enumclaw, WA '), ('Puyallup, WA', 'Mortgage Loan Officer - Puyallup, WA '), ('Quincy, WA', 'Personal Banker-Quincy '), ('Rensselaer, NY', 'Float Teller (40 hours) - Rensselaer '), ('Rensselaer, NY', 'Licensed Relationship Banker- Rensselaer County Plaza '), ('Rochester, NY', 'Mortgage Loan Officer - Greater Rochester, NY '), ('Rochester, NY', 'Sr Business Banking Relationship Manager '), ('Rochester, NY', 'Personal Banker - Rochester West Area '), ('Rochester, NY', 'Community Development Mortgage Loan Officer-Greater Rochester, NY Area '), ('Rochester, NY', 'Mortgage Loan Officer - Brighton, NY '), ('Rochester, NY', 'Teller (20 Hours) - Henrietta '), ('Rochester, NY', 'Personal Banker - Rochester Central Area '), ('Rochester, NY', 'Mortgage Loan Officer - Rochester, NY '), ('Rochester, NY', 'Mortgage Loan Officer - Rochester, NY '), ('Rochester, NY', 'Mortgage Loan Officer - Rochester, NY '), ('Rochester, WA', 'Mortgage Loan Officer - Rochester, WA '), ('Rutland, VT', 'Mortgage Loan Officer - Rutland, VT '), ('Rutland, VT', 'Community Development Banking Loan Officer - Rutland, VT '), ('Saint Joseph, MI', 'Business Banking Relationship Manager '), ('Salem, OR', 'Business Banking Relationship Manager '), ('Salem, OR', 'Mortgage Loan Officer - Salem, OR '), ('Salem, OR', 'Associate Financial Advisor '), ('Salt Lake City, UT', 'Mortgage Loan Officer - Salt Lake City, UT '), ('Salt Lake City, UT', '2019 Summer Retail Banking Intern- Utah '), ('Salt Lake City, UT', 'Healthcare Mortgage Lending Officer (Physician,Dentist,Veterinarian) '), ('Salt Lake City, UT', 'Teller-Fulltime Float-Salt Lake City Area '), ('Salt Lake City, UT', 'Regional Planning Strategist '), ('San Francisco, CA', 'Investment Banking Associate, Health Systems M&A, San Francisco '), ('San Francisco, CA', 'Senior Relationship Manager, Community Development Lending '), ('San Francisco, CA', 'VP Investment Banking, Medical Technology, San Francisco '), ('San Francisco, CA', 'Investment Banking Associate, Technology, San Francisco '), ('Scarborough, ME', 'Teller (20 hours) - Scarborough '), ('Schenectady, NY', 'Personal Banker- Bellevue '), ('Schenectady, NY', 'Licensed Relationship Banker-Union Street '), ('Seattle, WA', '2019 Summer Retail Banking Intern- Washington '), ('Seattle, WA', 'On Call Teller-Seattle '), ('Seattle, WA', 'Personal Banker - Wedgwood '), ('Seattle, WA', 'Personal Banker-Normandy Park '), ('Seattle, WA', 'Personal Banker-Belltown '), ('Seattle, WA', 'Lead Teller-Queen Anne '), ('Seattle, WA', 'Financial Wellness Banker- Upper Queen Anne '), ('Seattle, WA', 'Financial Wellness Banker-Fremont '), ('Seattle, WA', 'Licensed Relationship Manager-West Seattle '), ('Seattle, WA', 'Healthcare Mortgage Lending Officer (Physician,Dentist,Veterinarian) '), ('Seattle, WA', 'Licensed Relationsip Manager - 4th & Union '), ('Seattle, WA', 'Regional Planning Strategist '), ('Seattle, WA', 'Personal Banker - Magnolia '), ('Seattle, WA', 'Lead Teller-SoDo '), ('Seattle, WA', 'Lead Teller - Andover Park '), ('Seattle, WA', 'Business Resource Center RM '), ('Seattle, WA', 'Mortgage Loan Officer - Seattle, WA '), ('Seattle, WA', 'Lead Teller-Ballard '), ('Seattle, WA', 'Mortgage Loan Officer - Seattle, WA '), ('Seattle, WA', 'Teller (30 Hours)-SoDo '), ('Seattle, WA', 'Licensed Relationship Manager-Upper Queen Anne '), ('Seattle, WA', 'Senior Relationship Manager - Community Development Lending '), ('Seattle, WA', 'Teller (30 Hours)-Belltown '), ('Shaker Heights, OH', 'Part-Time Mobile Teller - Shaker Heights Area '), ('Shelton, CT', 'Mortgage Loan Officer - Shelton, CT '), ('Skippack, PA', 'Personal Banker - Skippack '), ('Skippack, PA', 'Personal Banker - Skippack '), ('Sodus, NY', 'Personal Banker - Sodus '), ('Solon, OH', 'Part Time Teller - Solon '), ('Solon, OH', 'Part Time Teller - Solon '), ('South Bend, IN', 'Business Banking Relationship Manager '), ('South Jordan, UT', 'Mortgage Loan Officer - South Jordan, UT '), ('South Portland, ME', 'Teller (20 hours)- Maine Mall '), ('South Windsor, CT', 'Associate Financial Advisor '), ('Springfield, OH', 'Branch Manager - Downtown Springfield '), ('Springfield, OH', 'Mortgage Loan Officer - Springfield, OH '), ('Springvale, ME', 'Personal Banker- Springvale '), ('Stamford, CT', 'Financial Advisor '), ('Stamford, CT', 'Part Time Teller 20 Hour - Harbor Point '), ('Stamford, CT', 'Part Time Teller 20 Hour - Harbor Point '), ('Stayton, OR', 'Teller - 22 Hours - Stayton '), ('Stow, OH', 'Mortgage Loan Officer - Stow, OH '), ('Sturgis, MI', 'Part Time Teller (25 hours) - Sturgis Branch '), ('Superior, CO', 'Senior Specialist (Collections) '), ('Superior, CO', 'Sales and Analytics Effectiveness Summer Undergrad Intern Superior, CO '), ('Superior, CO', 'Undergraduate Intern-Key Equipment Finance â\\x80\\x93 Originations '), ('Sweet Home, OR', 'Branch Manager - Sweet Home '), ('Sylvania, OH', '2019 Summer Retail Banking Intern- NW OH '), ('Sylvania, OH', '2019 Summer Retail Banking Intern- NW OH '), ('Syracuse, NY', 'Operation Leaders- Central Area '), ('Syracuse, NY', 'Senior Business Banking Relationship Manager '), ('Syracuse, NY', 'Mortgage Loan Officer - Syracuse, NY '), ('Syracuse, NY', 'Mortgage Loan Officer '), ('Syracuse, NY', '2019 Summer Retail Banking Intern- Syracuse '), ('Syracuse, NY', 'Private Bank Relationship Associate '), ('Tacoma, WA', 'Healthcare Mortgage Lending Officer (Physician,Dentist,Veterinarian) '), ('Tacoma, WA', 'Mortgage Loan Officer - Tacoma, WA '), ('Tacoma, WA', 'Mortgage Loan Officer - Tacoma/Federal Way, WA '), ('Tacoma, WA', 'Licensed Relationship Manager - Tacoma Westgate '), ('Tacoma, WA', 'Morgtgage Sales Assistant - Tacoma, WA '), ('Tampa, FL', 'Senior Relationship Manager, Community Development Lending '), ('Tarrytown, NY', 'Wealth Management Administrative Assistant '), ('Tarrytown, NY', '2019 Summer Retail Banking Intern- Hudson Valley/Stamford '), ('Tarrytown, NY', '2019 Summer Retail Banking Intern- Hudson Valley/Stamford '), ('Tarrytown, NY', 'Sr. Client Experience Manager '), ('Tarrytown, NY', 'Full-Time Teller - Tarrytown '), ('Tarrytown, NY', 'Full-Time Teller - Tarrytown '), ('Thornton, CO', 'Personal Banker-Thornton '), ('Toledo, OH', 'Private Bank Portfolio Management Associate III '), ('Toledo, OH', 'Senior Client Experience Manager '), ('Toledo, OH', 'Private Bank Relationship Manager or Sr Private Bank RM '), ('Toledo, OH', 'Healthcare Mortgage Lending Officer (Physician,Dentist,Veterinarian) '), ('Tolland, CT', 'Mortgage Loan Officer - Tolland, CT '), ('Trexlertown, PA', 'Mortgage Loan Officer - Trexlertown, PA '), ('Trexlertown, PA', 'Financial Advisor '), ('Tumwater, WA', 'Financial Advisor '), ('Twin Falls, ID', 'On-Call Teller-Twin Falls '), ('Upper Saint Clair, PA', 'Mortgage Loan Officer '), ('Upper Saint Clair, PA', 'Mortgage Loan Officer '), ('Valatie, NY', 'Licensed Relationship Banker- Valatie '), ('Vancouver, WA', 'Mortgage Loan Officer - Vancouver, WA '), ('Vancouver, WA', 'Float Teller - 20 Hours - Vancouver '), ('Various', 'Equity Research Associate, E&P, Austin '), ('Various', 'Equipment Finance Officer - Middle Market (Chicago OR Michigan) '), ('Various', 'BDO Indirect Auto '), ('Vernon, CT', 'Mortgage Loan Officer - Vernon, CT '), ('Wapato, WA', 'Personal Banker-Wapato '), ('Warminster, PA', 'Personal Banker - Warminster '), ('Warminster, PA', 'Personal Banker - Warminster '), ('Warren, PA', 'Personal Banker-Warren '), ('Warsaw, IN', 'Business Banking Relationship Manager '), ('Warwick, NY', 'Personal Banker - Warwick '), ('Washington, DC', 'Senior Full Stack Software Engineer '), ('Washington, DC', 'Sr. Manager, Digital Product Management - Financial Wellness '), ('Washington, DC', 'Java Lead Developer/Programmer Analyst Master '), ('Webster, NY', 'Personal Banker - Rochester East Area '), ('Wenatchee, WA', 'Licensed Relationship Manager-Wenatchee '), ('Wenatchee, WA', 'Mortgage Loan Officer - Wenatchee/Quincy, WA '), ('West Bloomfield, MI', 'Licensed Banker - West Bloomfield Branch '), ('West Chester, PA', 'Financial Advisor '), ('West Seneca, NY', 'Mortgage Loan Officer - West Seneca, NY '), ('West Springfield, MA', 'Mortgage Loan Officer - West Springfield, MA '), ('West Springfield, MA', 'Branch Manager - West Springfield Area '), ('Westerville, OH', 'Branch Manager - Westerville Branch '), ('Westlake, OH', 'Lead Teller Westlake '), ('Westlake, OH', 'Lead Teller Westlake '), ('Westlake, OH', 'Senior Private Bank Relationship Manager '), ('Westport, CT', 'Licensed Relationship Manager - Westport '), ('Westport, CT', 'Licensed Relationship Manager - Westport '), ('Westport, CT', 'Part Time Teller - Westport 20 Hours '), ('Westport, CT', 'Part Time Teller - Westport 20 Hours '), ('White Plains, NY', 'Part Time Teller 20 Hours - Martine Ave. '), ('Willimantic, CT', 'Licensed Relationship Banker - Mansfield Area '), ('Willow Grove, PA', 'Financial Advisor '), ('Wilsonville, OR', 'Personal Banker - Wilsonville '), ('Windham, NY', 'Personal Banker- Windham '), ('Woodburn, OR', 'Teller - 20 Hours - Woodburn '), ('Wynantskill, NY', 'Teller (20 hours)- Wynantskill '), ('Wynantskill, NY', 'Personal Banker- Wynantskill '), ('Yakima, WA', 'Licensed Relationship Manager-West Yakima '), ('Ypsilanti, MI', 'Part Time Teller (20 hours) - Augusta Branch ')]\n"
     ]
    }
   ],
   "source": [
    "def sortkey(val):\n",
    "    return val[0]\n",
    "#job_location=['Arvada, CO','Syracuse, NY','Lakewood, CO']\n",
    "#job_title=['Teller-Fulltime-Arvada Branches ', 'Teller-Fulltime Float-Lakewood Area ', 'Operation Leaders- Central Area ']\n",
    "lenloc=len(job_location)\n",
    "lentitle=len(job_title)\n",
    "print('lenloc',lenloc,'lentitle',lentitle)\n",
    "sorted_list=[]\n",
    "if(lenloc==lentitle):\n",
    "    list1=list(zip(job_location, job_title))\n",
    "list1.sort(key = sortkey) \n",
    "print(list1)"
   ]
  },
  {
   "cell_type": "code",
   "execution_count": 219,
   "metadata": {},
   "outputs": [
    {
     "name": "stdout",
     "output_type": "stream",
     "text": [
      "[[('Akron, OH', 'Mortgage Loan Officer - Akron/Canton, OH Area ')], [('Albany, NY', 'Mortgage Loan Officer ')], [('Albany, NY', 'Healthcare Mortgage Lending Officer (Physician,Dentist,Veterinarian) ')], [('Albany, NY', '2019 Summer Retail Banking Intern- Albany ')], [('Albany, NY', 'Business Banking Relationship Manager ')], [('Albany, NY', 'Associate Relationship Mgr - Private Bank ')], [('Aloha, OR', 'Personal Banker - Farmington ')], [('Amelia, OH', 'Personal Banker - Amelia Branch ')], [('Amherst, NY', 'Personal Banker - Snyder ')], [('Amsterdam, NY', 'Licensed Relationship Banker-- Maple Ave ')], [('Anchorage, AK', 'Financial Advisor ')], [('Anchorage, AK', 'Teller - 20 Hours - Benson '), ('Anchorage, AK', 'Teller - 20 Hours - Benson ')], [('Anchorage, AK', 'Personal Banker - Benson ')], [('Anchorage, AK', 'Float Teller - 20 Hours - Anchorage '), ('Anchorage, AK', 'Float Teller - 20 Hours - Anchorage ')], [('Anchorage, AK', 'Teller - 20 Hours - 5th Avenue ')], [('Anchorage, AK', 'Float Teller - 20 Hours - South Anchorage ')], [('Angola, IN', 'Business Banking Relationship Manager ')], [('Ann Arbor, MI', 'Associate Financial Advisor ')], [('Ann Arbor, MI', 'Healthcare Mortgage Lending Officer (Physician,Dentist,Veterinarian) ')], [('Ann Arbor, MI', 'Personal Banker - Traverwood Branch ')], [('Ann Arbor, MI', 'Part Time Teller (20 hours) - Ann Arbor Main Branch ')], [('Ann Arbor, MI', 'Part Time Teller (20 hours) - South State Branch ')], [('Arlington, WA', 'Personal Banker - Smokey Point ')], [('Arlington, WA', 'Mortgage Loan Officer - Arlington, WA ')], [('Arlington, WA', 'Personal Banker - Arlington ')], [('Arvada, CO', 'Teller-Fulltime-Arvada Branches ')], [('Ashtabula, OH', 'CDB Loan Officer ')], [('Ashtabula, OH', 'Part-Time Mobile Teller - Ashtabula '), ('Ashtabula, OH', 'Part-Time Mobile Teller - Ashtabula ')], [('Atlanta, GA', 'Senior Relationship Manager, Community Development Lending ')], [('Atlanta, GA', 'Lead Service Officer ')], [('Auburn, WA', 'Mortgage Loan Officer - Auburn/Kent, WA ')], [('Aurora, CO', 'Branch Manager-Aurora Area ')], [('Aurora, CO', 'Personal Banker-Havanh Gardens ')], [('Aurora, CO', 'Mortgage Loan Officer - Commerce City/Aurora, CO ')], [('Ballston Spa, NY', 'Licensed Relationship Banker- Ballston Spa ')], [('Barre, VT', 'Teller (36 hours)- Barre ')], [('Bay Village, OH', 'Licensed Relationship Manager - Multibranch-Bay Village ')], [('Bellevue, WA', 'Financial Wellness Banker-Bellevue ')], [('Bellevue, WA', 'Mortgage Loan Officer - Bellevue, WA ')], [('Bellevue, WA', 'Lead Teller-Belgate ')], [('Bellevue, WA', 'Licensed Relationship Manager-Bellevue ')], [('Bellevue, WA', 'Financial Advisor ')], [('Bellingham, WA', 'Key@Work Relationship Manager - Bellingham '), ('Bellingham, WA', 'Key@Work Relationship Manager - Bellingham ')], [('Benton Harbor, MI', 'Business Banking Relationship Manager ')], [('Bethel, OH', 'Mortgage Loan Officer - Bethel, OH ')], [('Binghamton, NY', 'Mortgage Loan Officer - Binghamton, NY ')], [('Bloomfield Hills, MI', 'Healthcare Mortgage Lending Officer (Physician,Dentist,Veterinarian) ')], [('Boise, ID', 'Healthcare Mortgage Lending Officer (Physician,Dentist,Veterinarian) ')], [('Boise, ID', 'Regional Planning Strategist ')], [('Boston, MA', 'Senior Payments Advisor, Middle Market, Boston ')], [('Boston, MA', 'VP, Investment Banking, M&A Technology, Boston ')], [('Boston, MA', 'Sr Relationship Manager, Community Development Lending ')], [('Bothell, WA', 'Mortgage Loan Officer - Bothel/Mukiteo, WA ')], [('Boulder, CO', 'Business Banking Relationship Manager ')], [('Brattleboro, VT', 'On Call Teller- Brattleboro ')], [('Brecksville, OH', 'Part-Time Mobile Teller-Cleveland East ')], [('Brecksville, OH', 'Part-Time Mobile Teller - Brecksville ')], [('Brooklyn, OH', 'Tax Analyst - Estate Tax ')], [('Brooklyn, OH', 'UX Lead ')], [('Brooklyn, OH', 'Digital Front-End Engineering Leader ')], [('Brooklyn, OH', 'Trust Tax Administrative Assistant ')], [('Brooklyn, OH', 'Compliance Officer â\\x80\\x93 Financial Crimes Governance ')], [('Brooklyn, OH', 'Software Engineer /Enterprise Architect ')], [('Brooklyn, OH', 'Business Resource Center RM ')], [('Brooklyn, OH', 'Lead Full Stack Software Engineer ')], [('Brooklyn, OH', 'Accountant, Operation B&C ')], [('Brooklyn, OH', 'Lead Programmer Analyst - Physical Security ')], [('Brooklyn, OH', 'Customer Service Specialist II ')], [('Brooklyn, OH', 'Lead Business Systems Analyst ')], [('Brooklyn, OH', 'Actimize Engineer ')], [('Brooklyn, OH', 'Credit Associate - Middle Market ')], [('Brooklyn, OH', 'Engineer V ')], [('Brunswick, ME', 'Mortgage Loan Officer - Brunswick, ME ')], [('Brunswick, ME', 'Float Teller (30 hours)- Brunswick Area ')], [('Buffalo, NY', 'Lead Specialist ')], [('Buffalo, NY', 'Lead Specialist (indirect lending) ')], [('Buffalo, NY', 'Lead Specialist (Commercial Collections Department) ')], [('Buffalo, NY', 'Business Banking Relationship Manager or Sr. Relationship Manager ')], [('Buffalo, NY', '2019 Summer Retail Banking Intern- Rochester NY ')], [('Buffalo, NY', '2019 Summer Retail Banking Intern- Buffalo NY ')], [('Buffalo, NY', 'Senior Relationship Manager, Income Property Group ')], [('Buffalo, NY', 'Healthcare Mortgage Lending Officer (Physician,Dentist,Veterinarian) ')], [('Buffalo, NY', 'Teller (20 hours) - Elmwood Utica '), ('Buffalo, NY', 'Teller (20 hours) - Elmwood Utica ')], [('Buffalo, NY', 'Business Resource Center RM ')], [('Buffalo, NY', 'Business Resource Center Sales Specialist ')], [('Buffalo, NY', 'Lead Full Stack Software Engineer ')], [('Buffalo, NY', 'Mortgage Loan Officer - Amherst, NY ')], [('Buffalo, NY', 'Personal Banker - Bailey Amherst ')], [('Buffalo, NY', 'Key@Work Relationship Manager - Buffalo, NY ')], [('Buffalo, NY', 'Teller (20 hours) - Grant Ferry ')], [('Burley, ID', 'On Call Teller - Burley ')], [('Burlington, VT', 'Area Retail Leader, Vermont ')], [('Burlington, VT', 'Personal Banker- Burlington Area ')], [('Canton, OH', 'Personal Banker - Everhard '), ('Canton, OH', 'Personal Banker - Everhard ')], [('Canton, OH', 'Mortgage Loan Officer - Akron/Canton, OH Area ')], [('Canton, OH', 'Personal Banker Multibranch - West Tusc. St. - Canton ')], [('Canton, OH', 'Private Banking Loan Officer - Canton, OH ')], [('Canton, OH', 'Mortgage Loan Officer - Canton, OH ')], [('Canton, OH', 'Lead Specialist (Service Team) ')], [('Castle Rock, CO', 'Financial Wellness Banker-Castle Rock ')], [('Castle Rock, CO', 'Financial Wellness Banker Castle Rock ')], [('Centennial, CO', 'Financial Wellness Banker- Centennial ')], [('Chelsea, MI', 'Personal Banker - Chelsea Branch ')], [('Chicago, IL', 'Equipment Finance Officer - Middle Market (Chicago OR Michigan) ')], [('Chicago, IL', 'Sr. Quantitative/Modeling Associate - AML ')], [('Chicago, IL', 'Market Risk Senior Professional - Customer Trading ')], [('Chicago, IL', 'Underwriter Analyst ')], [('Chicago, IL', 'Senior Banker, Income Property Group ')], [('Chicago, IL', 'Banking Analytics Manager ')], [('Cicero, NY', 'Personal Banker- Cicero Area ')], [('Cincinnati, OH', 'Commercial Bank Relationship Officer (Loan Closing Specialist) ')], [('Cincinnati, OH', 'Branch Manager - Cincinnati Area ')], [('Cincinnati, OH', 'Telesales Mortgage Loan Officer ')], [('Cincinnati, OH', 'Part Time Teller (20 hours) - Monfort Heights Branch ')], [('Cincinnati, OH', '2019 Summer Retail Banking Intern- Cincinnati ')], [('Cincinnati, OH', 'Personal Banker - Montgomery Road Area ')], [('Cincinnati, OH', 'Licensed Banker - Anderson Branch ')], [('Cincinnati, OH', 'Personal Banker - Cincinnati Area ')], [('Cincinnati, OH', 'BDO Indirect Auto ')], [('Cincinnati, OH', 'Mortgage Loan Officer - Cincinnati, OH ')], [('Cleveland, OH', 'KPB Sr. Research Analyst ')], [('Cleveland, OH', 'Compliance Director - Privacy ')], [('Cleveland, OH', 'Sr. Payments Advisor ')], [('Cleveland, OH', 'Community Development Banking Mortgage Loan Officer- Cleveland, OH ')], [('Cleveland, OH', 'Market Risk Quant/Modeling Analyst ')], [('Cleveland, OH', 'Healthcare Mortgage Lending Officer (Physician,Dentist,Veterinarian) ')], [('Cleveland, OH', 'Instructional Designer ')], [('Cleveland, OH', 'Lead Teller - Buckeye Rd. '), ('Cleveland, OH', 'Lead Teller - Buckeye Rd. ')], [('Cleveland, OH', 'Business Resource Center RM ')], [('Cleveland, OH', 'Quantitative Modeling Associate - Origination Management ')], [('Cleveland, OH', 'Investment Banking Associate ')], [('Cleveland, OH', 'Investment Banking Analyst ')], [('Cleveland, OH', 'Finance Risk, Lead Analyst ')], [('Cleveland, OH', '2019 Summer Retail Banking Intern- NE Ohio ')], [('Cleveland, OH', 'Trust Associate III ')], [('Cleveland, OH', 'Sr. Quantitative/Modeling Associate - AML ')], [('Cleveland, OH', 'Relationship Manager II, Community Development Lending ')], [('Cleveland, OH', 'Market Risk Senior Professional - Customer Trading ')], [('Cleveland, OH', 'Banking Analytics Manager ')], [('Cleveland, OH', 'Part Time Teller- 20 hours- East 105th Street ')], [('Cleveland, OH', 'Regional Planning Strategist ')], [('Cleveland, OH', 'Equity Research Associate, Cleveland ')], [('Cleveland, OH', 'Part Time Teller - Cleveland Clinic ')], [('Colorado Springs, CO', 'Mortgage Loan Officer - Colorado Springs, CO ')], [('Columbus, OH', 'Branch Manager - South Columbus Area ')], [('Columbus, OH', 'Healthcare Mortgage Lending Officer (Physician,Dentist,Veterinarian) ')], [('Columbus, OH', 'Mortgage Loan Officer - Columbus, OH ')], [('Colville, WA', 'Personal Banker-Colville ')], [('Colville, WA', 'Licensed Relationship Manager-Colville ')], [('Colville, WA', 'Mortgage Loan Officer - Colville, WA ')], [('Commerce City, CO', 'Mortgage Loan Officer - Commerce City/Aurora, CO ')], [('Conneaut, OH', 'Part-Time Teller - Conneaut ')], [('Cooperstown, NY', 'Associate Financial Advisor ')], [('Copake, NY', 'Personal Banker- Copake ')], [('Cortlandville, NY', 'Teller (35 hours)- Cortlandville ')], [('Covington, WA', 'Mortgage Loan Officer - Covington/Kent, WA ')], [('Dallas, TX', 'Senior Relationship Manager, Income Property Group ')], [('Dallas, TX', 'Senior Closing Officer - Fannie & Freddie ')], [('Danielson, CT', 'Lead Teller - Danielson ')], [('Dayton, OH', 'Business Banking Relationship Manager ')], [('Dayton, OH', '2019 Summer Retail Banking Intern- Dayton ')], [('Dayton, OH', 'BDO Indirect Auto ')], [('Delmar, NY', 'Float Teller (40 hours)- Delmar Area ')], [('Denver, CO', '2019 Summer Retail Banking Intern- Colorado ')], [('Denver, CO', 'Healthcare Mortgage Lending Officer (Physician,Dentist,Veterinarian) ')], [('Denver, CO', 'Personal Banker-Denver-Cherry Creek Branch ')], [('Denver, CO', 'Regional Planning Strategist ')], [('Denver, CO', 'Business Banking Relationship Manager ')], [('Denver, CO', 'Personal Banker-Denver ')], [('Depew, NY', 'Associate Financial Advisor ')], [('Detroit, MI', 'Equipment Finance Officer - Middle Market (Chicago OR Michigan) ')], [('Devon, PA', 'Lead Teller, Lancaster Ave '), ('Devon, PA', 'Lead Teller, Lancaster Ave ')], [('Douglassville, PA', 'Personal Banker - Douglassville ')], [('Downingtown, PA', 'Personal Banker - Downingtown ')], [('Dresher, PA', 'Personal Banker - Dresher ')], [('East Hartford, CT', 'Licensed Relationship Banker - East Hartford Silver Ln ')], [('East Syracuse, NY', 'Branch Manager- East Syracuse ')], [('Eastford, CT', 'Personal Banker - Eastford ')], [('Eastsound, WA', 'Personal Banker - Orcas Island ')], [('Edmonds, WA', 'Mortgage Loan Officer - Edmonds, WA ')], [('Elkhart, IN', 'Business Banking Relationship Manager ')], [('Elkhart, IN', 'Mortgage Loan Officer - Elkhart, IN ')], [('Erie, PA', 'Mortgage Loan Officer ')], [('Essex, VT', 'Mortgage Loan Officer - Essex Junction, VT ')], [('Everett, WA', 'Licensed Relationship Manager - Everett Madison ')], [('Exton, PA', 'Financial Advisor ')], [('Fairbanks, AK', 'Branch Manager - Fairbanks Main ')], [('Fairfield, OH', 'Full-Time Mobile Teller - Fairfield Center ')], [('Fairport, NY', 'Mortgage Loan Officer - Fairport, NY ')], [('Fairport, NY', 'Licensed Relationship Banker - Perinton Branch ')], [('Fayetteville, NY', 'Mortgage Loan Officer - Fayetteville, NY ')], [('Federal Way, WA', 'Mortgage Loan Officer - Tacoma/Federal Way, WA ')], [('Federal Way, WA', 'Mortgage Loan Officer - Federal Way/Fife, WA ')], [('Fishkill, NY', 'KMS Regional Sales Executive - Hudson Valley ')], [('Fishkill, NY', 'Licensed Relationship Manager - Fishkill '), ('Fishkill, NY', 'Licensed Relationship Manager - Fishkill ')], [('Fogelsville, PA', 'Mortgage Loan Officer - Fogelsville, PA ')], [('Fort Collins, CO', 'Financial Wellness Banker-Harmony ')], [('Fort Collins, CO', 'Financial Wellness Banker-Fort Collins-Drake Branch ')], [('Fort Collins, CO', 'Financial Wellness Banker-Fort Collins ')], [('Fort Collins, CO', 'Financial Wellness Banker-Fort Collins -Oak Branch ')], [('Fort Wayne, IN', 'Business Banking Relationship Manager ')], [('Frazer, PA', 'Personal Banker - Frazer ')], [('Freeport, ME', 'Lead Teller- Freeport ')], [('Fremont, OH', 'Personal Banker - Fremont Area ')], [('Friday Harbor, WA', 'Float Teller (40 Hours) - Friday Harbor ')], [('Fruitland, ID', 'Teller-On Call-Fruitland ')], [('Gahanna, OH', 'Mortgage Loan Officer - Gahanna, OH ')], [('Geneva, OH', 'Branch Manager - Geneva ')], [('Gig Harbor, WA', 'Personal Banker - Gig Harbor North ')], [('Gilbertsville, PA', 'Licensed Relationship Manager-Gilbertsville ')], [('Golden, CO', 'Personal Banker-Golden ')], [('Goshen, IN', 'Float Teller (40 hours) - Elkhart Area ')], [('Goshen, NY', 'Licensed Relationship Manager - Goshen '), ('Goshen, NY', 'Licensed Relationship Manager - Goshen '), ('Goshen, NY', 'Licensed Relationship Manager - Goshen ')], [('Graham, WA', 'Mortgage Loan Officer - Graham/Bonney Lake, WA ')], [('Gray, ME', 'Personal Banker - Gray Area ')], [('Greenwood Village, CO', 'Financial Wellness Banker-Greenwood Village Area ')], [('Greenwood, IN', 'Mortgage Loan Officer - Greenwood, IN ')], [('Gresham, OR', 'Branch Manager - Gresham Mall ')], [('Grove City, OH', 'Branch Manager - Grove City Area ')], [('Hamden, CT', 'KMS Regional Sales Executive - New Haven, CT ')], [('Harrison, OH', 'Mortgage Loan Officer - Harrison, OH ')], [('Highlands Ranch, CO', 'Licensed Relationship Manager-Highlands Ranch ')], [('Highlands Ranch, CO', 'Financial Wellness Banker-Highlands Ranch ')], [('Hilliard, OH', 'Mortgage Loan Officer - Hilliard, OH ')], [('Houston, TX', '2019 Private Loan Mgmt, Oil & Gas Energy Internship - Houston, TX ')], [('Idaho Falls, ID', 'Teller-On Call- Ammon ')], [('Independence, OH', 'Mortgage Loan Officer - Independence, OH ')], [('Indianapolis, IN', 'Senior Private Bank Relationship Manager ')], [('Indianapolis, IN', 'Mortgage Loan Officer - Indianapolis, IN '), ('Indianapolis, IN', 'Mortgage Loan Officer - Indianapolis, IN ')], [('Ithaca, NY', 'Teller (20 hours) - Ithaca ')], [('Juneau, AK', 'Personal Banker - Mendenhall/Juneau Area ')], [('Juneau, AK', 'Teller - 20 Hours - Mendenhall ')], [('Kenmore, WA', 'Licensed Relationship Manager - Kenmore ')], [('Kennebunk, ME', 'Mortgage Loan Officer - Kennebunk, ME ')], [('Kent, WA', 'Mortgage Loan Officer - Auburn/Kent, WA ')], [('Kent, WA', 'Mortgage Loan Officer - Covington/Kent, WA ')], [('Kirkland, WA', 'Financial Wellness Banker-Totem Lake ')], [('Knox, IN', 'Part Time Teller (20 hours) - Knox Branch ')], [('Kokomo, IN', 'Community Development Banking Mortgage Loan Officer ')], [('Lake Oswego, OR', 'Teller - 20 Hours - Lake Oswego ')], [('Lakewood,', 'Personal Banker-Lakewood Area ')], [('Lakewood, CO', 'Teller-Fulltime Float-Lakewood Area ')], [('Lakewood, CO', 'Mortgage Loan Officer - Lakewood, CO ')], [('Lambertville, MI', 'Mortgage Loan Officer - Lambertville/Ypsilanti/Ann Arbor, MI ')], [('Lansford, PA', 'Lead Teller Lansford PA '), ('Lansford, PA', 'Lead Teller Lansford PA ')], [('Lewiston, NY', 'Investment Associate ')], [('Littleton, CO', 'Teller-Fultime-Littleton ')], [('Littleton, CO', 'Personal Banker-Littleton-Chatfield Branch ')], [('Liverpool, NY', 'Mortgage Loan Officer - Liverpool, NY ')], [('Liverpool, NY', 'Licensed Relationship Banker- Great Northern ')], [('Lockport, NY', 'Contact Center Team Leader ')], [('Lockport, NY', 'Customer Service Specialist I ')], [('Logan, UT', 'Mortgage Loan Officer - Logan, UT ')], [('Longview, WA', 'Mortgage Loan Officer - Longview/Long Beach/Centralia, WA ')], [('Longview, WA', 'Licensed Relationship Manager - Longview ')], [('Los Angeles, CA', 'Senior Relationship Manager, Community Development Lending ')], [('Lynnwood, WA', 'Lead Teller - Lynnwood ')], [('Lynnwood, WA', 'Personal Banker - Lynnwood ')], [('Mahopac, NY', 'Full-Time Mobile Teller - Mahopac ')], [('Manchester, CT', 'Financial Advisor ')], [('Manchester, CT', '2019 Summer Retail Banking Intern- Hartford/MA '), ('Manchester, CT', '2019 Summer Retail Banking Intern- Hartford/MA ')], [('Manchester, CT', 'Licensed Relationship Banker - Manchester Main ')], [('Mansfield, OH', 'Mortgage Loan Officer - Mansfield, OH ')], [('Maple Valley, WA', 'Licensed Relationship Manager - Four Corners ')], [('Marysville, WA', 'Licensed Relationship Manager - Marysville ')], [('Mason, OH', 'Licensed Banker - Mason Branch ')], [('Mayfield Heights, OH', 'Personal Banker - Mayfield Heights ')], [('Medford, OR', 'On Call Teller - Medford ')], [('Mentor, OH', 'Personal Banker- Mentor OH '), ('Mentor, OH', 'Personal Banker- Mentor OH ')], [('Mercer Island, WA', 'Financial Wellness Banker-Mercer Island ')], [('Mexico, NY', 'Branch Manager- Mexico Area ')], [('Middleburg Heights, OH', 'Part-Time Teller - Middleburg Heights ')], [('Middlebury, VT', 'Teller (35 hours)- Middlebury ')], [('Middletown, NY', 'Licensed Rel Mgr ')], [('Milwaukie, OR', 'Operations Leader - Metro East ')], [('Mishawaka, IN', 'Mortgage Loan Officer - Mishawaka, IN ')], [('Mount Vernon, WA', 'Float Teller - Skagit County ')], [('New City, NY', 'Full-Time Mobile Teller - Cavalry ')], [('New Haven, CT', 'KMS Regional Sales Executive - New Haven, CT ')], [('New Haven, CT', 'Private Bank Lending Mortgage Loan Officer - New Haven, CT ')], [('New Haven, CT', 'Healthcare Mortgage Lending Officer (Physician,Dentist,Veterinarian) ')], [('New Haven, CT', 'Commercial Banking Relationship Manager ')], [('New Haven, CT', '2019 Summer Retail Banking Intern- New Haven '), ('New Haven, CT', '2019 Summer Retail Banking Intern- New Haven ')], [('New Haven, CT', 'Licensed Relationship Banker - New Haven Area ')], [('New Rochelle, NY', 'Branch Manager - New Rochelle '), ('New Rochelle, NY', 'Branch Manager - New Rochelle ')], [('New York, NY', 'Sr Relationship Manager, Community Development Lending ')], [('New York, NY', 'Market Risk Senior Professional - Customer Trading ')], [('New York, NY', 'Investment Banking Associate, Healthcare Services, NYC ')], [('New York, NY', 'Equity Research Associate, NYC ')], [('Newburgh, NY', 'Mortgage Loan Officer - Newburgh, NY ')], [('Newcastle, WA', 'Teller (30 Hours) - Newcastle ')], [('Newcastle, WA', 'Personal Banker - Newcastle ')], [('Newport Beach, CA', 'Senior Mortgage Banker - Multifamily ')], [('Newport Beach, CA', 'Senior Relationship Manager, Community Development Lending ')], [('Norristown, PA', 'Part-Time Teller - Norristown ')], [('North Canton, OH', 'Personal Banker-Multibranch - North Canton ')], [('North East, PA', 'Part Time Teller 27 Main Street '), ('North East, PA', 'Part Time Teller 27 Main Street ')], [('North Haven, CT', 'Mortgage Loan Officer - North Haven, CT ')], [('North Haven, CT', 'Branch Manager - North Haven ')], [('North White Plains, NY', 'Full-Time Mobile Teller - North White Plains ')], [('Norwalk, CT', 'Part Time Teller - Norwalk '), ('Norwalk, CT', 'Part Time Teller - Norwalk ')], [('Norway, ME', 'Lead Teller- Norway ')], [('Oak Harbor,', 'Float Teller - Skagit County ')], [('Oakmont, PA', 'Part-Time Teller: Oakmont - Mobile Position 2 ')], [('Oakmont, PA', 'Part-Time Teller: Oakmont - Mobile Position 1 ')], [('Ogden, UT', 'Part Time 20HR Teller- Harrison ')], [('Olympia, WA', 'Personal Banker - Westside ')], [('Olympia, WA', 'Mortgage Loan Officer - Olympia, WA ')], [('Orangeburg, NY', 'Mortgage Loan Officer - Orangeburg, NY ')], [('Ossining, NY', 'Financial Advisor ')], [('Overland Park, KS', 'Surveillance Internship Program ')], [('Overland Park, KS', 'Financial Analyst - Loan Surveillance ')], [('Overland Park, KS', 'Commercial Insurance Specialist ')], [('Overland Park, KS', 'Loan Accounting Specialist ')], [('Overland Park, KS', 'Senior Closing Officer - Fannie & Freddie ')], [('Overland Park, KS', 'Account Compliance Coordinator ')], [('Overland Park, KS', 'Underwriter Analyst ')], [('Overland Park, KS', 'Account Manager II - Agency ')], [('Painesville, OH', 'Branch Manager - Painesville ')], [('Pearl River, NY', 'Personal Banker - North Middletown ')], [('Pepper Pike, OH', 'Licensed Relationship Manager - Pepper Pike ')], [('Pepper Pike, OH', 'Mortgage Market Manager - Pepper Pike, OH ')], [('Philadelphia, PA', 'Healthcare Mortgage Lending Officer (Physician,Dentist,Veterinarian) ')], [('Pittsburgh, PA', 'Mortgage Loan Officer '), ('Pittsburgh, PA', 'Mortgage Loan Officer ')], [('Pittsburgh, PA', 'Healthcare Mortgage Lending Officer (Physician,Dentist,Veterinarian) ')], [('Pittsburgh, PA', 'Teller-Part Time-McKees Rocks (24 hours) ')], [('Pittsburgh, PA', 'Private Bank Lending Officer- Pittsburgh, PA ')], [('Pittsburgh, PA', 'Mortgage Market Manager - Pittsburgh, PA ')], [('Pittsburgh, PA', 'Lead Full Stack Software Engineer ')], [('Pittsburgh, PA', 'Part-Time Teller Mobile - Western Avenue ')], [('Pittsburgh, PA', 'Part-Time Teller - Squirrel Hill ')], [('Pittsburgh, PA', '2019 Summer Retail Banking Intern- Western PA ')], [('Pittsburgh, PA', 'Part-Time Teller - Oliver Avenue. '), ('Pittsburgh, PA', 'Part-Time Teller - Oliver Avenue. ')], [('Plymouth Meeting, PA', 'Private Bank Lending Officer - Plymouth Meeting, PA ')], [('Plymouth Meeting, PA', 'Mortgage Loan Officer '), ('Plymouth Meeting, PA', 'Mortgage Loan Officer ')], [('Plymouth Meeting, PA', '2019 Summer Retail Banking Intern- Eastern PA ')], [('Plymouth Meeting, PA', 'Mortgage Market Manager - Plymouth Meeting, PA ')], [('Pocatello, ID', 'Personal Banker-Yellowstone Area ')], [('Pocatello, ID', 'Teller -On Call-Yellowstone-Pocatello Area ')], [('Pocatello, ID', 'On Call Teller - West Center Pocatello ')], [('Port Orchard, WA', 'Licensed Relationship Manager-Port Orchard ')], [('Portland, ME', '2019 Summer Retail Banking Intern- Maine ')], [('Portland, ME', 'Business Banking Relationship Manager or Sr. Relationship Manager ')], [('Portland, ME', 'Private Bank Lending Officer - Portland, ME ')], [('Portland, OR', 'Equity Research Associate, Semiconductors, Portland ')], [('Portland, OR', '2019 KeyBanc Capital Markets Technology Internship - Portland, OR ')], [('Portland, OR', 'Mortgage Loan Officer - Portland, OR ')], [('Portland, OR', 'Lead Teller - Pearl ')], [('Portland, OR', 'Equity Research Associate, China Internet ')], [('Portland, OR', 'Personal Banker - 181st & Halsey ')], [('Portland, OR', 'Teller - 20 Hours - 23rd & Everett ')], [('Portland, OR', 'Senior Relationship Manager - Community Development Lending ')], [('Portland, OR', 'Financial Advisor ')], [('Portland, OR', 'Senior Payment Advisor, Middle Market, Portland ')], [('Potsdam, NY', 'Personal Banker- Potsdam ')], [('Pottstown, PA', 'Personal Banker - Pottstown ')], [('Poughkeepsie, NY', 'Business Banking Relationship Manager ')], [('Pound Ridge, NY', 'Lead Teller - Pound Ridge ')], [('Presque Isle, ME', 'On Call Teller- Presque Isle/ Caribou Area ')], [('Puyallup, WA', 'Mortgage Loan Officer - Puyallup/Enumclaw, WA ')], [('Puyallup, WA', 'Mortgage Loan Officer - Puyallup, WA ')], [('Quincy, WA', 'Personal Banker-Quincy ')], [('Rensselaer, NY', 'Float Teller (40 hours) - Rensselaer ')], [('Rensselaer, NY', 'Licensed Relationship Banker- Rensselaer County Plaza ')], [('Rochester, NY', 'Mortgage Loan Officer - Greater Rochester, NY ')], [('Rochester, NY', 'Sr Business Banking Relationship Manager ')], [('Rochester, NY', 'Personal Banker - Rochester West Area ')], [('Rochester, NY', 'Community Development Mortgage Loan Officer-Greater Rochester, NY Area ')], [('Rochester, NY', 'Mortgage Loan Officer - Brighton, NY ')], [('Rochester, NY', 'Teller (20 Hours) - Henrietta ')], [('Rochester, NY', 'Personal Banker - Rochester Central Area ')], [('Rochester, NY', 'Mortgage Loan Officer - Rochester, NY '), ('Rochester, NY', 'Mortgage Loan Officer - Rochester, NY '), ('Rochester, NY', 'Mortgage Loan Officer - Rochester, NY ')], [('Rochester, WA', 'Mortgage Loan Officer - Rochester, WA ')], [('Rutland, VT', 'Mortgage Loan Officer - Rutland, VT ')], [('Rutland, VT', 'Community Development Banking Loan Officer - Rutland, VT ')], [('Saint Joseph, MI', 'Business Banking Relationship Manager ')], [('Salem, OR', 'Business Banking Relationship Manager ')], [('Salem, OR', 'Mortgage Loan Officer - Salem, OR ')], [('Salem, OR', 'Associate Financial Advisor ')], [('Salt Lake City, UT', 'Mortgage Loan Officer - Salt Lake City, UT ')], [('Salt Lake City, UT', '2019 Summer Retail Banking Intern- Utah ')], [('Salt Lake City, UT', 'Healthcare Mortgage Lending Officer (Physician,Dentist,Veterinarian) ')], [('Salt Lake City, UT', 'Teller-Fulltime Float-Salt Lake City Area ')], [('Salt Lake City, UT', 'Regional Planning Strategist ')], [('San Francisco, CA', 'Investment Banking Associate, Health Systems M&A, San Francisco ')], [('San Francisco, CA', 'Senior Relationship Manager, Community Development Lending ')], [('San Francisco, CA', 'VP Investment Banking, Medical Technology, San Francisco ')], [('San Francisco, CA', 'Investment Banking Associate, Technology, San Francisco ')], [('Scarborough, ME', 'Teller (20 hours) - Scarborough ')], [('Schenectady, NY', 'Personal Banker- Bellevue ')], [('Schenectady, NY', 'Licensed Relationship Banker-Union Street ')], [('Seattle, WA', '2019 Summer Retail Banking Intern- Washington ')], [('Seattle, WA', 'On Call Teller-Seattle ')], [('Seattle, WA', 'Personal Banker - Wedgwood ')], [('Seattle, WA', 'Personal Banker-Normandy Park ')], [('Seattle, WA', 'Personal Banker-Belltown ')], [('Seattle, WA', 'Lead Teller-Queen Anne ')], [('Seattle, WA', 'Financial Wellness Banker- Upper Queen Anne ')], [('Seattle, WA', 'Financial Wellness Banker-Fremont ')], [('Seattle, WA', 'Licensed Relationship Manager-West Seattle ')], [('Seattle, WA', 'Healthcare Mortgage Lending Officer (Physician,Dentist,Veterinarian) ')], [('Seattle, WA', 'Licensed Relationsip Manager - 4th & Union ')], [('Seattle, WA', 'Regional Planning Strategist ')], [('Seattle, WA', 'Personal Banker - Magnolia ')], [('Seattle, WA', 'Lead Teller-SoDo ')], [('Seattle, WA', 'Lead Teller - Andover Park ')], [('Seattle, WA', 'Business Resource Center RM ')], [('Seattle, WA', 'Mortgage Loan Officer - Seattle, WA '), ('Seattle, WA', 'Mortgage Loan Officer - Seattle, WA ')], [('Seattle, WA', 'Lead Teller-Ballard ')], [('Seattle, WA', 'Teller (30 Hours)-SoDo ')], [('Seattle, WA', 'Licensed Relationship Manager-Upper Queen Anne ')], [('Seattle, WA', 'Senior Relationship Manager - Community Development Lending ')], [('Seattle, WA', 'Teller (30 Hours)-Belltown ')], [('Shaker Heights, OH', 'Part-Time Mobile Teller - Shaker Heights Area ')], [('Shelton, CT', 'Mortgage Loan Officer - Shelton, CT ')], [('Skippack, PA', 'Personal Banker - Skippack '), ('Skippack, PA', 'Personal Banker - Skippack ')], [('Sodus, NY', 'Personal Banker - Sodus ')], [('Solon, OH', 'Part Time Teller - Solon '), ('Solon, OH', 'Part Time Teller - Solon ')], [('South Bend, IN', 'Business Banking Relationship Manager ')], [('South Jordan, UT', 'Mortgage Loan Officer - South Jordan, UT ')], [('South Portland, ME', 'Teller (20 hours)- Maine Mall ')], [('South Windsor, CT', 'Associate Financial Advisor ')], [('Springfield, OH', 'Branch Manager - Downtown Springfield ')], [('Springfield, OH', 'Mortgage Loan Officer - Springfield, OH ')], [('Springvale, ME', 'Personal Banker- Springvale ')], [('Stamford, CT', 'Financial Advisor ')], [('Stamford, CT', 'Part Time Teller 20 Hour - Harbor Point '), ('Stamford, CT', 'Part Time Teller 20 Hour - Harbor Point ')], [('Stayton, OR', 'Teller - 22 Hours - Stayton ')], [('Stow, OH', 'Mortgage Loan Officer - Stow, OH ')], [('Sturgis, MI', 'Part Time Teller (25 hours) - Sturgis Branch ')], [('Superior, CO', 'Senior Specialist (Collections) ')], [('Superior, CO', 'Sales and Analytics Effectiveness Summer Undergrad Intern Superior, CO ')], [('Superior, CO', 'Undergraduate Intern-Key Equipment Finance â\\x80\\x93 Originations ')], [('Sweet Home, OR', 'Branch Manager - Sweet Home ')], [('Sylvania, OH', '2019 Summer Retail Banking Intern- NW OH '), ('Sylvania, OH', '2019 Summer Retail Banking Intern- NW OH ')], [('Syracuse, NY', 'Operation Leaders- Central Area ')], [('Syracuse, NY', 'Senior Business Banking Relationship Manager ')], [('Syracuse, NY', 'Mortgage Loan Officer - Syracuse, NY ')], [('Syracuse, NY', 'Mortgage Loan Officer ')], [('Syracuse, NY', '2019 Summer Retail Banking Intern- Syracuse ')], [('Syracuse, NY', 'Private Bank Relationship Associate ')], [('Tacoma, WA', 'Healthcare Mortgage Lending Officer (Physician,Dentist,Veterinarian) ')], [('Tacoma, WA', 'Mortgage Loan Officer - Tacoma, WA ')], [('Tacoma, WA', 'Mortgage Loan Officer - Tacoma/Federal Way, WA ')], [('Tacoma, WA', 'Licensed Relationship Manager - Tacoma Westgate ')], [('Tacoma, WA', 'Morgtgage Sales Assistant - Tacoma, WA ')], [('Tampa, FL', 'Senior Relationship Manager, Community Development Lending ')], [('Tarrytown, NY', 'Wealth Management Administrative Assistant ')], [('Tarrytown, NY', '2019 Summer Retail Banking Intern- Hudson Valley/Stamford '), ('Tarrytown, NY', '2019 Summer Retail Banking Intern- Hudson Valley/Stamford ')], [('Tarrytown, NY', 'Sr. Client Experience Manager ')], [('Tarrytown, NY', 'Full-Time Teller - Tarrytown '), ('Tarrytown, NY', 'Full-Time Teller - Tarrytown ')], [('Thornton, CO', 'Personal Banker-Thornton ')], [('Toledo, OH', 'Private Bank Portfolio Management Associate III ')], [('Toledo, OH', 'Senior Client Experience Manager ')], [('Toledo, OH', 'Private Bank Relationship Manager or Sr Private Bank RM ')], [('Toledo, OH', 'Healthcare Mortgage Lending Officer (Physician,Dentist,Veterinarian) ')], [('Tolland, CT', 'Mortgage Loan Officer - Tolland, CT ')], [('Trexlertown, PA', 'Mortgage Loan Officer - Trexlertown, PA ')], [('Trexlertown, PA', 'Financial Advisor ')], [('Tumwater, WA', 'Financial Advisor ')], [('Twin Falls, ID', 'On-Call Teller-Twin Falls ')], [('Upper Saint Clair, PA', 'Mortgage Loan Officer '), ('Upper Saint Clair, PA', 'Mortgage Loan Officer ')], [('Valatie, NY', 'Licensed Relationship Banker- Valatie ')], [('Vancouver, WA', 'Mortgage Loan Officer - Vancouver, WA ')], [('Vancouver, WA', 'Float Teller - 20 Hours - Vancouver ')], [('Various', 'Equity Research Associate, E&P, Austin ')], [('Various', 'Equipment Finance Officer - Middle Market (Chicago OR Michigan) ')], [('Various', 'BDO Indirect Auto ')], [('Vernon, CT', 'Mortgage Loan Officer - Vernon, CT ')], [('Wapato, WA', 'Personal Banker-Wapato ')], [('Warminster, PA', 'Personal Banker - Warminster '), ('Warminster, PA', 'Personal Banker - Warminster ')], [('Warren, PA', 'Personal Banker-Warren ')], [('Warsaw, IN', 'Business Banking Relationship Manager ')], [('Warwick, NY', 'Personal Banker - Warwick ')], [('Washington, DC', 'Senior Full Stack Software Engineer ')], [('Washington, DC', 'Sr. Manager, Digital Product Management - Financial Wellness ')], [('Washington, DC', 'Java Lead Developer/Programmer Analyst Master ')], [('Webster, NY', 'Personal Banker - Rochester East Area ')], [('Wenatchee, WA', 'Licensed Relationship Manager-Wenatchee ')], [('Wenatchee, WA', 'Mortgage Loan Officer - Wenatchee/Quincy, WA ')], [('West Bloomfield, MI', 'Licensed Banker - West Bloomfield Branch ')], [('West Chester, PA', 'Financial Advisor ')], [('West Seneca, NY', 'Mortgage Loan Officer - West Seneca, NY ')], [('West Springfield, MA', 'Mortgage Loan Officer - West Springfield, MA ')], [('West Springfield, MA', 'Branch Manager - West Springfield Area ')], [('Westerville, OH', 'Branch Manager - Westerville Branch ')], [('Westlake, OH', 'Lead Teller Westlake '), ('Westlake, OH', 'Lead Teller Westlake ')], [('Westlake, OH', 'Senior Private Bank Relationship Manager ')], [('Westport, CT', 'Licensed Relationship Manager - Westport '), ('Westport, CT', 'Licensed Relationship Manager - Westport ')], [('Westport, CT', 'Part Time Teller - Westport 20 Hours '), ('Westport, CT', 'Part Time Teller - Westport 20 Hours ')], [('White Plains, NY', 'Part Time Teller 20 Hours - Martine Ave. ')], [('Willimantic, CT', 'Licensed Relationship Banker - Mansfield Area ')], [('Willow Grove, PA', 'Financial Advisor ')], [('Wilsonville, OR', 'Personal Banker - Wilsonville ')], [('Windham, NY', 'Personal Banker- Windham ')], [('Woodburn, OR', 'Teller - 20 Hours - Woodburn ')], [('Wynantskill, NY', 'Teller (20 hours)- Wynantskill ')], [('Wynantskill, NY', 'Personal Banker- Wynantskill ')], [('Yakima, WA', 'Licensed Relationship Manager-West Yakima ')], [('Ypsilanti, MI', 'Part Time Teller (20 hours) - Augusta Branch ')]]\n"
     ]
    }
   ],
   "source": [
    "import collections\n",
    "C = collections.Counter(list1)\n",
    "list2=[]\n",
    "list2=[ [k,]*v for k,v in C.items()]\n",
    "print(list2)\n",
    "    "
   ]
  },
  {
   "cell_type": "code",
   "execution_count": null,
   "metadata": {},
   "outputs": [],
   "source": []
  }
 ],
 "metadata": {
  "kernelspec": {
   "display_name": "Python 3",
   "language": "python",
   "name": "python3"
  },
  "language_info": {
   "codemirror_mode": {
    "name": "ipython",
    "version": 3
   },
   "file_extension": ".py",
   "mimetype": "text/x-python",
   "name": "python",
   "nbconvert_exporter": "python",
   "pygments_lexer": "ipython3",
   "version": "3.7.1"
  }
 },
 "nbformat": 4,
 "nbformat_minor": 2
}
