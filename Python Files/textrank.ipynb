{
 "cells": [
  {
   "cell_type": "code",
   "execution_count": 2,
   "metadata": {},
   "outputs": [
    {
     "name": "stdout",
     "output_type": "stream",
     "text": [
      "Main function\n"
     ]
    }
   ],
   "source": [
    "from pdfminer.pdfinterp import PDFResourceManager, PDFPageInterpreter\n",
    "from pdfminer.converter import TextConverter\n",
    "from pdfminer.layout import LAParams\n",
    "from pdfminer.pdfpage import PDFPage\n",
    "from io import StringIO\n",
    "import re\n",
    "import collections\n",
    "import string\n",
    "import csv\n",
    "\n",
    "class PdfConverter:\n",
    "\n",
    "    def __init__(self, file_path):\n",
    "        self.file_path = file_path\n",
    "# convert pdf file to a string which has space among words\n",
    "    def convert_pdf_to_txt(self):\n",
    "        rsrcmgr = PDFResourceManager()\n",
    "        retstr = StringIO()\n",
    "        codec = 'utf-8'  # 'utf16','utf-8'\n",
    "        laparams = LAParams()\n",
    "        device = TextConverter(rsrcmgr, retstr, codec=codec, laparams=laparams)\n",
    "        fp = open(self.file_path, 'rb')\n",
    "        interpreter = PDFPageInterpreter(rsrcmgr, device)\n",
    "        password = \"\"\n",
    "        maxpages = 0\n",
    "        caching = True\n",
    "        pagenos = set()\n",
    "        for page in PDFPage.get_pages(fp, pagenos, maxpages=maxpages, password=password, caching=caching, check_extractable=True):\n",
    "            interpreter.process_page(page)\n",
    "        fp.close()\n",
    "        device.close()\n",
    "        str = retstr.getvalue()\n",
    "        retstr.close()\n",
    "        return str\n",
    "# convert pdf file text to string and save as a text_pdf.txt file\n",
    "    def save_convert_pdf_to_txt(self):\n",
    "        content = self.convert_pdf_to_txt()\n",
    "        txt_pdf = open('text_pdf.txt', 'wb')\n",
    "        txt_pdf.write(content.encode('utf-8'))\n",
    "        txt_pdf.close()\n",
    "    def Convert(string):\n",
    "        li = list(string.split(\" \"))\n",
    "        return li\n",
    "\n",
    "if __name__ == '__main__':\n",
    "    print('Main function')\n",
    "    pdfConverter = PdfConverter(file_path='result.pdf')\n",
    "    keywords=pdfConverter.convert_pdf_to_txt()\n",
    "    keyword=keywords.lower()\n",
    "    #print('1:',string.punctuation)"
   ]
  },
  {
   "cell_type": "code",
   "execution_count": null,
   "metadata": {},
   "outputs": [],
   "source": []
  }
 ],
 "metadata": {
  "kernelspec": {
   "display_name": "Python 3",
   "language": "python",
   "name": "python3"
  },
  "language_info": {
   "codemirror_mode": {
    "name": "ipython",
    "version": 3
   },
   "file_extension": ".py",
   "mimetype": "text/x-python",
   "name": "python",
   "nbconvert_exporter": "python",
   "pygments_lexer": "ipython3",
   "version": "3.7.1"
  }
 },
 "nbformat": 4,
 "nbformat_minor": 2
}
