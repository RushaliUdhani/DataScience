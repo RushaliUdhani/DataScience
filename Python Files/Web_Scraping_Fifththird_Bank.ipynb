{
 "cells": [
  {
   "cell_type": "code",
   "execution_count": 112,
   "metadata": {},
   "outputs": [
    {
     "name": "stdout",
     "output_type": "stream",
     "text": [
      "Requirement already satisfied: selenium in c:\\users\\sonal thube\\anaconda3\\lib\\site-packages (3.141.0)\n",
      "Requirement already satisfied: urllib3 in c:\\users\\sonal thube\\anaconda3\\lib\\site-packages (from selenium) (1.24.1)\n"
     ]
    }
   ],
   "source": [
    "!pip install selenium"
   ]
  },
  {
   "cell_type": "code",
   "execution_count": 1,
   "metadata": {},
   "outputs": [],
   "source": [
    "import time"
   ]
  },
  {
   "cell_type": "code",
   "execution_count": 3,
   "metadata": {},
   "outputs": [],
   "source": [
    "from selenium import webdriver"
   ]
  },
  {
   "cell_type": "code",
   "execution_count": 4,
   "metadata": {
    "scrolled": false
   },
   "outputs": [],
   "source": [
    "driver = webdriver.Chrome(r\"C:\\Users\\Admin\\Downloads\\chromedriver.exe\")"
   ]
  },
  {
   "cell_type": "code",
   "execution_count": 5,
   "metadata": {},
   "outputs": [],
   "source": [
    "driver.get('https://jobcareer.53.com/sap/public/bc/ur/YEOPGL101307/standard/ExternalJobBoard/index.html')\n"
   ]
  },
  {
   "cell_type": "code",
   "execution_count": 6,
   "metadata": {},
   "outputs": [],
   "source": [
    "#creating a list of all the id's\n",
    "titleList = ['RCtable_rc_tableListJobs_showAll_field_REST_INFO_51928383', \n",
    "             'RCtable_rc_tableListJobs_showAll_field_REST_INFO_51928619',\n",
    "            'RCtable_rc_tableListJobs_showAll_field_REST_INFO_51928291',\n",
    "            'RCtable_rc_tableListJobs_showAll_field_REST_INFO_51928284',\n",
    "            'RCtable_rc_tableListJobs_showAll_field_REST_INFO_51927998']\n",
    "\n"
   ]
  },
  {
   "cell_type": "markdown",
   "metadata": {},
   "source": [
    "# page 1"
   ]
  },
  {
   "cell_type": "code",
   "execution_count": 7,
   "metadata": {},
   "outputs": [],
   "source": [
    "jobtitle = []\n",
    "jobdescription = []\n",
    "textValue =[]\n",
    "text = []\n",
    "textlocation = []\n",
    "joblocation = []\n",
    "whole=[]\n",
    "#loop for job description of jobs on first page\n",
    "for x in titleList:\n",
    "    buttonClick = driver.find_element_by_id(x)\n",
    "    buttonClick.click()\n",
    "    time.sleep(10)\n",
    "    jobdescription = driver.find_element_by_id(\"value_PROJECT_DESC\")\n",
    "    time\n",
    "    var=jobdescription.text\n",
    "    textValue.append(var)\n",
    "    jobtitle = driver.find_element_by_id(\"rc_details_title_div\")\n",
    "    joblocation = driver.find_element_by_id(\"value_STATE\")\n",
    "    var1 = jobtitle.text\n",
    "    var2 = joblocation.text\n",
    "    text.append(var1)\n",
    "    textlocation.append(var2)   \n",
    "    driver.get('https://jobcareer.53.com/sap/public/bc/ur/YEOPGL101307/standard/ExternalJobBoard/index.html')\n",
    "    time.sleep(5)\n",
    "    whole.append([var1]+[var2]+[var])\n",
    "nextpage = driver.find_element_by_id(\"rc_table_rc_tableListJobs_showAlltableKit_next_but\")\n",
    "nextpage.click()\n",
    "time.sleep(10)"
   ]
  },
  {
   "cell_type": "code",
   "execution_count": 9,
   "metadata": {},
   "outputs": [
    {
     "name": "stdout",
     "output_type": "stream",
     "text": [
      "['Lead Platform Engineer', 'Card Services - Manager Collections Strategy', 'Lead CSR / Teller - Chesterton BC - Full Time', 'CSR / Teller - Chesterton BC - Part Time', 'Retail Personal Banker Associate I.']\n",
      "['Ohio', 'Ohio', 'Indiana', 'Indiana', 'Michigan']\n"
     ]
    }
   ],
   "source": [
    "print(text)\n",
    "print(textlocation)"
   ]
  },
  {
   "cell_type": "markdown",
   "metadata": {},
   "source": [
    "# page 2"
   ]
  },
  {
   "cell_type": "code",
   "execution_count": 10,
   "metadata": {},
   "outputs": [],
   "source": [
    "titleList2= ['RCtable_rc_tableListJobs_showAll_field_REST_INFO_51927997',\n",
    "            'RCtable_rc_tableListJobs_showAll_field_REST_INFO_51928561',\n",
    "            'RCtable_rc_tableListJobs_showAll_field_REST_INFO_51922298',\n",
    "            'RCtable_rc_tableListJobs_showAll_field_REST_INFO_51928382',\n",
    "            'RCtable_rc_tableListJobs_showAll_field_REST_INFO_51925710']"
   ]
  },
  {
   "cell_type": "code",
   "execution_count": 95,
   "metadata": {},
   "outputs": [],
   "source": [
    "from selenium.webdriver.common import action_chains, keys"
   ]
  },
  {
   "cell_type": "code",
   "execution_count": 11,
   "metadata": {},
   "outputs": [],
   "source": [
    "for x in titleList2:\n",
    "    buttonClick = driver.find_element_by_id(x)\n",
    "    buttonClick.click()\n",
    "    time.sleep(10)\n",
    "    jobdescription = driver.find_element_by_id(\"value_PROJECT_DESC\")\n",
    "    var=jobdescription.text\n",
    "    textValue.append(var)\n",
    "    jobtitle = driver.find_element_by_id(\"rc_details_title_div\")\n",
    "    joblocation = driver.find_element_by_id(\"value_STATE\")\n",
    "    var1 = jobtitle.text\n",
    "    var2 = joblocation.text\n",
    "    text.append(var1)\n",
    "    textlocation.append(var2) \n",
    "    backButton = driver.find_element_by_id(\"rc_backButton_\")\n",
    "    backButton.click()\n",
    "    time.sleep(10)\n",
    "    whole.append([var1]+[var2]+[var])\n",
    "nextpage2 = driver.find_element_by_id(\"rc_table_rc_tableListJobs_showAlltableKit_next_but\")\n",
    "nextpage2.click()"
   ]
  },
  {
   "cell_type": "code",
   "execution_count": null,
   "metadata": {},
   "outputs": [],
   "source": []
  },
  {
   "cell_type": "code",
   "execution_count": 12,
   "metadata": {},
   "outputs": [
    {
     "name": "stdout",
     "output_type": "stream",
     "text": [
      "10\n"
     ]
    }
   ],
   "source": [
    "print(len(whole))"
   ]
  },
  {
   "cell_type": "markdown",
   "metadata": {},
   "source": [
    "# page3"
   ]
  },
  {
   "cell_type": "code",
   "execution_count": 13,
   "metadata": {},
   "outputs": [],
   "source": [
    "titleList3= ['RCtable_rc_tableListJobs_showAll_field_REST_INFO_51928189',\n",
    "            'RCtable_rc_tableListJobs_showAll_field_REST_INFO_51928519',\n",
    "            'RCtable_rc_tableListJobs_showAll_field_REST_INFO_51928283',\n",
    "            'RCtable_rc_tableListJobs_showAll_field_REST_INFO_51927946',\n",
    "            'RCtable_rc_tableListJobs_showAll_field_REST_INFO_51928457']"
   ]
  },
  {
   "cell_type": "code",
   "execution_count": 14,
   "metadata": {},
   "outputs": [],
   "source": [
    "for x in titleList3:    \n",
    "    buttonClick = driver.find_element_by_id(x)\n",
    "    buttonClick.click()\n",
    "    time.sleep(10)\n",
    "    jobtitle = driver.find_element_by_id(\"rc_details_title_div\")\n",
    "    joblocation = driver.find_element_by_id(\"value_STATE\")\n",
    "    var1=jobtitle.text\n",
    "    var2 = joblocation.text\n",
    "    text.append(var1)\n",
    "    textlocation.append(var2)\n",
    "    jobdescription = driver.find_element_by_id(\"value_PROJECT_DESC\")\n",
    "    var=jobdescription.text\n",
    "    textValue.append(var)\n",
    "    backButton = driver.find_element_by_id(\"rc_backButton_\")\n",
    "    backButton.click()\n",
    "    time.sleep(10)\n",
    "    whole.append([var1]+[var2]+[var])    \n",
    "nextpage3 = driver.find_element_by_id(\"rc_table_rc_tableListJobs_showAlltableKit_next_but\")\n",
    "nextpage3.click()"
   ]
  },
  {
   "cell_type": "markdown",
   "metadata": {},
   "source": [
    "# page4"
   ]
  },
  {
   "cell_type": "code",
   "execution_count": 15,
   "metadata": {},
   "outputs": [],
   "source": [
    "titleList4= ['RCtable_rc_tableListJobs_showAll_field_REST_INFO_51928135',\n",
    "            'RCtable_rc_tableListJobs_showAll_field_REST_INFO_51928524',\n",
    "            'RCtable_rc_tableListJobs_showAll_field_REST_INFO_51869213',\n",
    "            'RCtable_rc_tableListJobs_showAll_field_REST_INFO_51927992',\n",
    "            'RCtable_rc_tableListJobs_showAll_field_REST_INFO_51928379']"
   ]
  },
  {
   "cell_type": "code",
   "execution_count": 16,
   "metadata": {},
   "outputs": [],
   "source": [
    "#loop for job description of jobs on fourth page\n",
    "for x in titleList4:    \n",
    "    buttonClick = driver.find_element_by_id(x)\n",
    "    buttonClick.click()\n",
    "    time.sleep(10)\n",
    "    jobtitle = driver.find_element_by_id(\"rc_details_title_div\")\n",
    "    joblocation = driver.find_element_by_id(\"value_STATE\")\n",
    "    var1=jobtitle.text\n",
    "    var2 = joblocation.text\n",
    "    text.append(var1)\n",
    "    textlocation.append(var2)\n",
    "    jobdescription = driver.find_element_by_id(\"value_PROJECT_DESC\")\n",
    "    var=jobdescription.text\n",
    "    textValue.append(var)\n",
    "    backButton = driver.find_element_by_id(\"rc_backButton_\")\n",
    "    backButton.click()\n",
    "    time.sleep(10)\n",
    "    whole.append([var1]+[var2]+[var])  \n",
    "    \n",
    "nextpage4 = driver.find_element_by_id(\"rc_table_rc_tableListJobs_showAlltableKit_next_but\")\n",
    "nextpage4.click()"
   ]
  },
  {
   "cell_type": "code",
   "execution_count": 17,
   "metadata": {},
   "outputs": [
    {
     "name": "stdout",
     "output_type": "stream",
     "text": [
      "20\n"
     ]
    }
   ],
   "source": [
    "print(len(whole))"
   ]
  },
  {
   "cell_type": "markdown",
   "metadata": {},
   "source": [
    "# page5"
   ]
  },
  {
   "cell_type": "code",
   "execution_count": 18,
   "metadata": {},
   "outputs": [],
   "source": [
    "titleList5= ['RCtable_rc_tableListJobs_showAll_field_REST_INFO_51928558',\n",
    "            'RCtable_rc_tableListJobs_showAll_field_REST_INFO_51926878',\n",
    "            'RCtable_rc_tableListJobs_showAll_field_REST_INFO_51840974',\n",
    "            'RCtable_rc_tableListJobs_showAll_field_REST_INFO_51926593',\n",
    "            'RCtable_rc_tableListJobs_showAll_field_REST_INFO_51926577']"
   ]
  },
  {
   "cell_type": "code",
   "execution_count": 19,
   "metadata": {},
   "outputs": [],
   "source": [
    "#loop for job description of jobs on fourth page\n",
    "for x in titleList5:    \n",
    "    buttonClick = driver.find_element_by_id(x)\n",
    "    buttonClick.click()\n",
    "    time.sleep(10)\n",
    "    jobtitle = driver.find_element_by_id(\"rc_details_title_div\")\n",
    "    joblocation = driver.find_element_by_id(\"value_STATE\")\n",
    "    var1=jobtitle.text\n",
    "    var2 = joblocation.text\n",
    "    text.append(var1)\n",
    "    textlocation.append(var2)\n",
    "    jobdescription = driver.find_element_by_id(\"value_PROJECT_DESC\")\n",
    "    var=jobdescription.text\n",
    "    textValue.append(var)\n",
    "    backButton = driver.find_element_by_id(\"rc_backButton_\")\n",
    "    backButton.click()\n",
    "    time.sleep(10)\n",
    "    whole.append([var1]+[var2]+[var])  \n",
    "\n",
    "    \n",
    "nextpage5 = driver.find_element_by_id(\"rc_table_rc_tableListJobs_showAlltableKit_next_but\")\n",
    "nextpage5.click()"
   ]
  },
  {
   "cell_type": "markdown",
   "metadata": {},
   "source": [
    "# page6"
   ]
  },
  {
   "cell_type": "code",
   "execution_count": 20,
   "metadata": {},
   "outputs": [],
   "source": [
    "titleList6= ['RCtable_rc_tableListJobs_showAll_field_REST_INFO_51926727',\n",
    "            'RCtable_rc_tableListJobs_showAll_field_REST_INFO_51927297',\n",
    "            'RCtable_rc_tableListJobs_showAll_field_REST_INFO_51927284',\n",
    "            'RCtable_rc_tableListJobs_showAll_field_REST_INFO_51918268',\n",
    "            'RCtable_rc_tableListJobs_showAll_field_REST_INFO_51926895']"
   ]
  },
  {
   "cell_type": "code",
   "execution_count": 21,
   "metadata": {},
   "outputs": [],
   "source": [
    "#loop for job description of jobs on fourth page\n",
    "for x in titleList6:    \n",
    "    buttonClick = driver.find_element_by_id(x)\n",
    "    buttonClick.click()\n",
    "    time.sleep(10)\n",
    "    jobtitle = driver.find_element_by_id(\"rc_details_title_div\")\n",
    "    joblocation = driver.find_element_by_id(\"value_STATE\")\n",
    "    var1=jobtitle.text\n",
    "    var2 = joblocation.text\n",
    "    text.append(var1)\n",
    "    textlocation.append(var2)\n",
    "    jobdescription = driver.find_element_by_id(\"value_PROJECT_DESC\")\n",
    "    var=jobdescription.text\n",
    "    textValue.append(var)\n",
    "    backButton = driver.find_element_by_id(\"rc_backButton_\")\n",
    "    backButton.click()\n",
    "    time.sleep(10)\n",
    "    whole.append([var1]+[var2]+[var])  \n",
    "\n",
    "    \n",
    "nextpage6 = driver.find_element_by_id(\"rc_table_rc_tableListJobs_showAlltableKit_next_but\")\n",
    "nextpage6.click()"
   ]
  },
  {
   "cell_type": "markdown",
   "metadata": {},
   "source": [
    "# page7"
   ]
  },
  {
   "cell_type": "code",
   "execution_count": null,
   "metadata": {},
   "outputs": [],
   "source": []
  },
  {
   "cell_type": "code",
   "execution_count": 22,
   "metadata": {},
   "outputs": [],
   "source": [
    "titleList7= ['RCtable_rc_tableListJobs_showAll_field_REST_INFO_51927502',\n",
    "            'RCtable_rc_tableListJobs_showAll_field_REST_INFO_51926636',\n",
    "            'RCtable_rc_tableListJobs_showAll_field_REST_INFO_51926715',\n",
    "            'RCtable_rc_tableListJobs_showAll_field_REST_INFO_51926591',\n",
    "            'RCtable_rc_tableListJobs_showAll_field_REST_INFO_51927151']"
   ]
  },
  {
   "cell_type": "code",
   "execution_count": 23,
   "metadata": {},
   "outputs": [],
   "source": [
    "#loop for job description of jobs on fourth page\n",
    "for x in titleList7:    \n",
    "    buttonClick = driver.find_element_by_id(x)\n",
    "    buttonClick.click()\n",
    "    time.sleep(10)\n",
    "    jobtitle = driver.find_element_by_id(\"rc_details_title_div\")\n",
    "    joblocation = driver.find_element_by_id(\"value_STATE\")\n",
    "    var1=jobtitle.text\n",
    "    var2 = joblocation.text\n",
    "    text.append(var1)\n",
    "    textlocation.append(var2)\n",
    "    jobdescription = driver.find_element_by_id(\"value_PROJECT_DESC\")\n",
    "    var=jobdescription.text\n",
    "    textValue.append(var)\n",
    "    backButton = driver.find_element_by_id(\"rc_backButton_\")\n",
    "    backButton.click()\n",
    "    time.sleep(10)\n",
    "    whole.append([var1]+[var2]+[var]) \n",
    "    \n",
    "nextpage7 = driver.find_element_by_id(\"rc_table_rc_tableListJobs_showAlltableKit_next_but\")\n",
    "nextpage7.click()"
   ]
  },
  {
   "cell_type": "markdown",
   "metadata": {},
   "source": [
    "# page8"
   ]
  },
  {
   "cell_type": "code",
   "execution_count": 24,
   "metadata": {},
   "outputs": [
    {
     "name": "stdout",
     "output_type": "stream",
     "text": [
      "35\n"
     ]
    }
   ],
   "source": [
    "print(len(whole))"
   ]
  },
  {
   "cell_type": "code",
   "execution_count": 27,
   "metadata": {},
   "outputs": [],
   "source": [
    "titleList8= ['RCtable_rc_tableListJobs_showAll_field_REST_INFO_51926514',\n",
    "            'RCtable_rc_tableListJobs_showAll_field_REST_INFO_51926605',\n",
    "            'RCtable_rc_tableListJobs_showAll_field_REST_INFO_51927298',\n",
    "            'RCtable_rc_tableListJobs_showAll_field_REST_INFO_51901827',\n",
    "            'RCtable_rc_tableListJobs_showAll_field_REST_INFO_51926891']"
   ]
  },
  {
   "cell_type": "code",
   "execution_count": 28,
   "metadata": {},
   "outputs": [],
   "source": [
    "#loop for job description of jobs on fourth page\n",
    "for x in titleList8:    \n",
    "    buttonClick = driver.find_element_by_id(x)\n",
    "    buttonClick.click()\n",
    "    time.sleep(10)\n",
    "    jobtitle = driver.find_element_by_id(\"rc_details_title_div\")\n",
    "    joblocation = driver.find_element_by_id(\"value_STATE\")\n",
    "    var1=jobtitle.text\n",
    "    var2 = joblocation.text\n",
    "    text.append(var1)\n",
    "    textlocation.append(var2)\n",
    "    jobdescription = driver.find_element_by_id(\"value_PROJECT_DESC\")\n",
    "    var=jobdescription.text\n",
    "    textValue.append(var)\n",
    "    backButton = driver.find_element_by_id(\"rc_backButton_\")\n",
    "    backButton.click()\n",
    "    time.sleep(10)\n",
    "    whole.append([var1]+[var2]+[var])     \n",
    "nextpage8 = driver.find_element_by_id(\"rc_table_rc_tableListJobs_showAlltableKit_next_but\")\n",
    "nextpage8.click()"
   ]
  },
  {
   "cell_type": "markdown",
   "metadata": {},
   "source": [
    "# page9"
   ]
  },
  {
   "cell_type": "code",
   "execution_count": 29,
   "metadata": {},
   "outputs": [
    {
     "name": "stdout",
     "output_type": "stream",
     "text": [
      "40\n"
     ]
    }
   ],
   "source": [
    "print(len(whole))"
   ]
  },
  {
   "cell_type": "code",
   "execution_count": 30,
   "metadata": {},
   "outputs": [],
   "source": [
    "titleList9= ['RCtable_rc_tableListJobs_showAll_field_REST_INFO_51926547',\n",
    "            'RCtable_rc_tableListJobs_showAll_field_REST_INFO_51924259',\n",
    "            'RCtable_rc_tableListJobs_showAll_field_REST_INFO_51925728',\n",
    "            'RCtable_rc_tableListJobs_showAll_field_REST_INFO_51925178',\n",
    "            'RCtable_rc_tableListJobs_showAll_field_REST_INFO_51925384']"
   ]
  },
  {
   "cell_type": "code",
   "execution_count": 116,
   "metadata": {},
   "outputs": [],
   "source": [
    "backButton = driver.find_element_by_id(\"rc_backButton_\")\n",
    "backButton.click()"
   ]
  },
  {
   "cell_type": "code",
   "execution_count": 33,
   "metadata": {},
   "outputs": [
    {
     "name": "stdout",
     "output_type": "stream",
     "text": [
      "45\n"
     ]
    }
   ],
   "source": [
    "print(len(whole))"
   ]
  },
  {
   "cell_type": "code",
   "execution_count": 32,
   "metadata": {},
   "outputs": [],
   "source": [
    "#loop for job description of jobs on fourth page\n",
    "for x in titleList9:    \n",
    "    buttonClick = driver.find_element_by_id(x)\n",
    "    buttonClick.click()\n",
    "    time.sleep(10)\n",
    "    jobtitle = driver.find_element_by_id(\"rc_details_title_div\")\n",
    "    joblocation = driver.find_element_by_id(\"value_STATE\")\n",
    "    var1=jobtitle.text\n",
    "    var2 = joblocation.text\n",
    "    text.append(var1)\n",
    "    textlocation.append(var2)\n",
    "    jobdescription = driver.find_element_by_id(\"value_PROJECT_DESC\")\n",
    "    var=jobdescription.text\n",
    "    textValue.append(var)\n",
    "    backButton = driver.find_element_by_id(\"rc_backButton_\")\n",
    "    backButton.click()\n",
    "    time.sleep(10)\n",
    "    whole.append([var1]+[var2]+[var]) \n",
    "    \n",
    "nextpage9 = driver.find_element_by_id(\"rc_table_rc_tableListJobs_showAlltableKit_next_but\")\n",
    "nextpage9.click()"
   ]
  },
  {
   "cell_type": "markdown",
   "metadata": {},
   "source": [
    "# page10"
   ]
  },
  {
   "cell_type": "code",
   "execution_count": 34,
   "metadata": {},
   "outputs": [],
   "source": [
    "titleList10= ['RCtable_rc_tableListJobs_showAll_field_REST_INFO_51925185',\n",
    "             'RCtable_rc_tableListJobs_showAll_field_REST_INFO_51925169',\n",
    "             'RCtable_rc_tableListJobs_showAll_field_REST_INFO_51925890',\n",
    "             'RCtable_rc_tableListJobs_showAll_field_REST_INFO_51925171',\n",
    "             'RCtable_rc_tableListJobs_showAll_field_REST_INFO_51925692']"
   ]
  },
  {
   "cell_type": "code",
   "execution_count": 35,
   "metadata": {},
   "outputs": [],
   "source": [
    "#loop for job description of jobs on fourth page\n",
    "for x in titleList10:    \n",
    "    buttonClick = driver.find_element_by_id(x)\n",
    "    buttonClick.click()\n",
    "    time.sleep(10)\n",
    "    jobtitle = driver.find_element_by_id(\"rc_details_title_div\")\n",
    "    joblocation = driver.find_element_by_id(\"value_STATE\")\n",
    "    var1=jobtitle.text\n",
    "    var2 = joblocation.text\n",
    "    text.append(var1)\n",
    "    textlocation.append(var2)\n",
    "    jobdescription = driver.find_element_by_id(\"value_PROJECT_DESC\")\n",
    "    var=jobdescription.text\n",
    "    textValue.append(var)\n",
    "    backButton = driver.find_element_by_id(\"rc_backButton_\")\n",
    "    backButton.click()\n",
    "    time.sleep(10)\n",
    "    whole.append([var1]+[var2]+[var]) "
   ]
  },
  {
   "cell_type": "code",
   "execution_count": 36,
   "metadata": {},
   "outputs": [
    {
     "name": "stdout",
     "output_type": "stream",
     "text": [
      "50\n"
     ]
    }
   ],
   "source": [
    "print(len(whole))"
   ]
  },
  {
   "cell_type": "code",
   "execution_count": 38,
   "metadata": {},
   "outputs": [
    {
     "name": "stdout",
     "output_type": "stream",
     "text": [
      "['Mortgage Loan Originator.', 'Florida', \"GENERAL FUNCTION: Performs a wide range of duties relating to the origination of residential 1st mortgage loans for outside referrals. Meets standards and objectives defined by management for mortgage loan sales and cross-selling objectives. Assumesoverall responsibility for the residential mortgage loan from application to closing.\\n\\nResponsible and accountable for risk by openly exchanging ideas and opinions, elevating concerns, and personally following policies and procedures as defined. Accountable for always doing the right thing for customers and colleagues, and ensures that actions and behaviors drive a positive customer experience. While operating within the Bank#s risk appetite, achieves results by consistently identifying, assessing, managing, monitoring, and reporting risks of all types.\\n\\nESSENTIAL DUTIES & RESPONSIBILITIES:\\n* Develop referral contacts (realtors, builders, professional and personal contacts).\\n* Maintain knowledge of Fifth Third Mortgage Company's policies and procedures.\\n* Maintain knowledge of available loan products, processing procedures, and underwriting and general departmental guidelines.\\n* Follow defined protocol for escalation exceptions.\\n* Take applicant applications by completing Fannie Mae form 1003 on the laptop.\\n* Utilize the laptop for communication and access of daily rates, applicant credit reports, Loan Prospector responses and transmitting the loan to LOMAS.\\n* Collect appropriate documentation from each applicant and deliver loan package in the time frames set by management.\\n* Manage pipeline for all originated loans through closing and complete required management reports.\\n* Communicate with branches and/or applicants of providing timely updates and progress reports.\\n* Maintain high levels of customer service while managing each applicant's and support staff#s expectations.\\n* Attend and participate in all Consumer Lending meetings as required by management.\\n\\nSUPERVISORY RESPONSIBILITIES: None.\"]\n"
     ]
    }
   ],
   "source": [
    "print(whole[49])"
   ]
  },
  {
   "cell_type": "code",
   "execution_count": 127,
   "metadata": {},
   "outputs": [
    {
     "name": "stdout",
     "output_type": "stream",
     "text": [
      "length word_count 100\n",
      "length wcist 100\n",
      "['financial', 'digital', 'services', 'economic', 'key', 'market', 'findings', 'platforms', 'bitcoin', 'payments', 'investors', 'insurance', 'technology', 'risk', 'transactions', 'asset', 'incumbents', 'regulators', 'institutions', 'capital', 'equity', 'global', 'investment', 'business', 'future', 'firms', 'solutions', 'management', 'infrastructure', 'potential', 'crowdfunding', 'cryptocurrency', 'contract', 'ecosystem', 'online', 'iot', 'transfer', 'kba', 'trade', 'saas', 'credit', 'markets', 'startup', 'loan', 'assets', 'validation', 'automated', 'role', 'lead', 'ledger', 'fintech', 'wef', 'lending', 'legal', 'costs', 'api', 'settlement', 'insurtech', 'partnerships', 'growth', 'evidence', 'loss', 'blockchain', 'regtech', 'mobile', 'development', 'underwriting', 'tokenization', 'exchange', 'government', 'experience', 'idps', 'money', 'stakeholders', 'innovation', 'network', 'funds', 'counterparty', 'retail', 'instech', 'unbanked', 'fico', 'interest', 'revenue', 'profit', 'recession', 'debt', 'collateral', 'debit', 'research', 'merger', 'account', 'funding', 'acquisition', 'shares', 'compliance', 'floating', 'overdraft', 'neobank', 'ai']\n",
      "length word_count 100\n",
      "length trlist 100\n",
      "['services', 'global', 'economic', 'forum', 'future', 'fintech', 'service', 'business', 'digital', 'financial', 'international', 'investment', 'regulators', 'incumbents', 'public', 'capital', 'leadership', 'revolution', 'llp', 'swift', 'markets', 'management', 'industrial', 'technology', 'firms', 'institutions', 'legal', 'stakeholders', 'innovations', 'ecosystem', 'market', 'uncertainties', 'crowdfunding', 'mapping', 'equity', 'payment', 'insurance', 'loss', 'future', 'stock', 'lending', 'assessment', 'financial services', 'management', 'portfolio', 'retail', 'capitalization', 'regulatory', 'transactions', 'quantitative', 'trading', 'chain', 'blockchain', 'underwriting', 'growth', 'competition', 'rp', 'executional', 'competitive', 'centrally', 'substantial', 'discrete', 'license', 'decrease', 'conscious', 'compliance', 'program', 'repository', 'automating', 'telecommunication', 'error', 'wallet', 'alliance', 'merger', 'takeover', 'exacerbate', 'positive', 'liability', 'attestation', 'cashflow', 'financing', 'accounting', 'fixed', 'floating', 'fundamental', 'interest', 'technique', 'governance', 'virtual', 'cls', 'leakage', 'bi', 'cryptocurrency', 'blockverify', 'scaling', 'validation', 'reliance', 'spectrum', 'ai', 'credentials']\n",
      "length word_count 100\n",
      "length tfidflist 100\n",
      "['global', 'stats', 'payments', 'mobile', 'multidimensional', 'future', 'crowdfunding', 'market ', 'equity', 'capitalise', 'settlements', 'cost', 'auction', 'marginalised', 'cobol', 'tellers', 'cybersecurity', 'register', 'mobilewallet', 'demonetization', 'currency', 'subsidized', 'custom', 'software', 'lockout', 'charting', 'remittances', 'al', 'credit', 'cfa', 'mutualizing', 'fintech', 'developer', 'payment ', 'credit', 'macroeconomic', 'bi', 'syndications', 'rerisk', 'cdo', 'blockchain', 'custodial', 'services ', 'percentages', 'brexit', 'audits', 'interest', 'tradeoffs', 'cashequity', 'management', 'longrunning', 'liquidation', 'intangible', 'reinforcement', 'machinelearning', 'mitigated', 'ledgerbased', 'accreditation', 'variances', 'neuralnetwork', 'digicash', 'visualisation', 'architectures', 'userfriendly', 'vouch', 'microeconomic', 'macroprudential', 'incentivised', 'exacerbating', 'federation', 'nonprofit', 'millennial', 'average', 'computation', 'benchmarking', 'turnover', 'overcapitalization', 'blockchain ', 'forecast', 'scrapped', 'bureaucratic', 'taxes', 'underwriter', 'selfinsurance', 'forwardlooking', 'fiduciary', 'log', 'custodianship', 'incentivizes', 'prototyping', 'crossproduct', 'synergies', 'inception', 'cyberattack', 'optimization', 'demandsupply', 'economical', 'demonetization', 'entrepreneurship', 'tokenization']\n"
     ]
    }
   ],
   "source": [
    "#CSV extraction for wordcount\n",
    "import csv\n",
    "import re\n",
    "word_count=[]\n",
    "with open ('test-final.csv','r')as csvfile:\n",
    "    csvreader=csv.reader(csvfile)\n",
    "    fields=next(csvreader)  \n",
    "    for row in csvreader:\n",
    "        word_count.append(row)\n",
    "print('length word_count',len(word_count))\n",
    "wclist=[]       \n",
    "for value in word_count:\n",
    "    rowid,word=value\n",
    "    wclist.append(word)\n",
    "print('length wcist',len(wclist))\n",
    "print(wclist)\n",
    "#--------------------------------------------------------------------\n",
    "#text rank dataset\n",
    "word_count=[]\n",
    "with open ('textrank-final.csv','r')as csvfile:\n",
    "    csvreader=csv.reader(csvfile)\n",
    "    fields=next(csvreader)  \n",
    "    for row in csvreader:\n",
    "        word_count.append(row)\n",
    "print('length word_count',len(word_count))\n",
    "trlist=[]       \n",
    "for value in word_count:\n",
    "    rowid,word=value\n",
    "    trlist.append(word)\n",
    "print('length trlist',len(trlist))\n",
    "print(trlist)\n",
    "#-----------------------------------------------------------------------\n",
    "#tfidf dataset\n",
    "word_count=[]\n",
    "with open ('tfidfreversorder-final.csv','r')as csvfile:\n",
    "    csvreader=csv.reader(csvfile)\n",
    "    fields=next(csvreader)  \n",
    "    for row in csvreader:\n",
    "        word_count.append(row)\n",
    "print('length word_count',len(word_count))\n",
    "tfidflist=[]       \n",
    "for value in word_count:\n",
    "    rowid,word=value\n",
    "    tfidflist.append(word)\n",
    "print('length tfidflist',len(tfidflist))\n",
    "print(tfidflist)\n"
   ]
  },
  {
   "cell_type": "code",
   "execution_count": 128,
   "metadata": {},
   "outputs": [],
   "source": [
    "#print(job_description[0])\n",
    "\n",
    "with open('fifthThird.csv', 'w') as f:\n",
    "    writer = csv.writer(f,delimiter=\",\", lineterminator=\"\\n\")\n",
    "    #writer.writerow(word1)\n",
    "    abc=['jobNo']+['Title']+['Location']+['Institution']+['List id (1,2,3)']\n",
    "    for i in range(1,101):\n",
    "        abc+=[str(i)]\n",
    "    writer.writerow(abc)"
   ]
  },
  {
   "cell_type": "code",
   "execution_count": 44,
   "metadata": {},
   "outputs": [
    {
     "name": "stdout",
     "output_type": "stream",
     "text": [
      "Lead Platform Engineer\n",
      "GENERAL FUNCTION:\n",
      "\n",
      "As part of the Systems Operation support discipline, the Lead Platform Engineer is responsible for leading operational support practices, projects and communication for operating software systems. This role coordinates with users andbusinesspartners and software vendors to determine requirements and support needs. Functions as technical lead and acts as liaison between business units. The Lead Platform Engineer will be expected to provide some level of direction to team member in the Senior Platform Engineer roles.\n",
      "\n",
      "Responsible and accountable for risk by openly exchanging ideas and opinions, elevating concerns, and personally following policies and procedures as defined. Accountable for always doing the right thing for customers and colleagues, and ensures that actions and behaviors drive a positive customer experience. While operating within the Bank's risk appetite, achieves results by consistently identifying, assessing, managing, monitoring, and reporting risks of all types.\n",
      "\n",
      "ESSENTIAL DUTIES & RESPONSIBILITIES:\n",
      "\n",
      "1. Lead new and existing application administration support programs.\n",
      "2. Assist with the planning and execution of system launches.\n",
      "3. Establish calls to manage our vendors and offshore partners closely\n",
      "4. Identify gaps in the process, create a plan and implement the practice within the team to enforce use of audit and risk compliance measures.\n",
      "5. Acts as a liaison in creating Disaster Recovery documentation.\n",
      "6. Executes on scripting for automation\n",
      "7. Functions as the first point of contact and provides for 24/7 on-call coverage\n",
      "8. Provides oversight and support documentation by establishing and following processes around the areas of issue handling, install, and application maintenance\n",
      "9. Collaborate with others to troubleshoot and identify problems and drive teams towards a resolution\n",
      "10. Execute on system capacity plans\n",
      "11. Establish system monitoring solutions to meet the needs of the business\n",
      "12. Stay current on industry knowledge and trends as it pertains to job functions\n",
      "13. Other duties as assigned\n",
      "50\n"
     ]
    }
   ],
   "source": [
    "print(text[0])\n",
    "print(textValue[0])\n",
    "print(len(textlocation))\n"
   ]
  },
  {
   "cell_type": "code",
   "execution_count": 41,
   "metadata": {},
   "outputs": [],
   "source": [
    "import csv"
   ]
  },
  {
   "cell_type": "code",
   "execution_count": 42,
   "metadata": {},
   "outputs": [],
   "source": [
    "#print(job_description[0])\n",
    "with open('fifththirdbank.csv', 'w') as f:\n",
    "    writer = csv.writer(f,delimiter=\",\", lineterminator=\"\\n\")\n",
    "   #writer.writerow(word1)\n",
    "    abc=['jobNo']+['Job Title']+['Job Description']+['Bank Name']+['Job Location']+['Web link']\n",
    "    writer.writerow(abc)\n",
    "\n",
    "empty='Invalid value'\n",
    "counter=0\n",
    "for i in range(0,50):\n",
    "    counter+=1\n",
    "    varlength=[]\n",
    "    with open('fifththirdbank.csv', 'a') as f:\n",
    "        varlength=[]\n",
    "        writer = csv.writer(f,delimiter=\",\", lineterminator=\"\\n\")\n",
    "        try:\n",
    "            varlength.append(counter)#Job ID\n",
    "            varlength.append(text[i])#Job Ritle\n",
    "            varlength.append(textValue[i])#Job Description\n",
    "            varlength.append(['Fifth Third Bank'])\n",
    "            varlength.append(textlocation[i])#Job Location\n",
    "            varlength.append(['https://jobcareer.53.com/sap/public/bc/ur/YEOPGL101307/standard/ExternalJobBoard/index.html'])\n",
    "        except:\n",
    "            print('1 Error')\n",
    "            print(error)\n",
    "            varlength.append('error')\n",
    "        try:\n",
    "            writer.writerow(varlength)\n",
    "        except UnicodeEncodeError:\n",
    "            writer.writerow(empty)\n",
    "    f.close"
   ]
  },
  {
   "cell_type": "code",
   "execution_count": 130,
   "metadata": {},
   "outputs": [],
   "source": [
    "empty='Invalid value'\n",
    "for i in range(0,50):\n",
    "    varlength=[]\n",
    "    list_id=1\n",
    "    if list_id==1:\n",
    "        with open('fifthThird.csv', 'a') as f:\n",
    "            varlength=[]\n",
    "            writer = csv.writer(f,delimiter=\",\", lineterminator=\"\\n\")\n",
    "        #writer.writerow(word1)\n",
    "            try: \n",
    "                varlength.append(i)\n",
    "                varlength.append(text[i])\n",
    "                varlength.append(textlocation[i])                \n",
    "                varlength.append(['https://jobcareer.53.com/sap/public/bc/ur/YEOPGL101307/standard/ExternalJobBoard/index.html'])\n",
    "                varlength.append([list_id])\n",
    "                for value1 in wclist:\n",
    "                    count2=re.findall(value1,textValue[i])\n",
    "                    abc=str(len(count2))\n",
    "                    empty='Invalid value'\n",
    "                    varlength.append(abc)\n",
    "                    #varlength.append(empty)\n",
    "            except:\n",
    "                print('1 Error')\n",
    "                print(error)\n",
    "                varlength.append('error')     \n",
    "        #writer = csv.writer(f)\n",
    "            try:\n",
    "                writer.writerow(varlength)\n",
    "            except UnicodeEncodeError:\n",
    "                writer.writerow(empty)\n",
    "            list_id+=1\n",
    "        f.close\n",
    "    if list_id==2:\n",
    "        with open('fifthThird.csv', 'a') as f:\n",
    "            varlength=[]\n",
    "            writer = csv.writer(f,delimiter=\",\", lineterminator=\"\\n\")\n",
    "            try: \n",
    "                varlength.append(i)\n",
    "                varlength.append(text[i])\n",
    "                varlength.append(textlocation[i])                \n",
    "                varlength.append(['https://jobcareer.53.com/sap/public/bc/ur/YEOPGL101307/standard/ExternalJobBoard/index.html'])\n",
    "                varlength.append([list_id])\n",
    "                for value1 in trlist:\n",
    "                    count2=re.findall(value1,textValue[i])\n",
    "                    abc=str(len(count2))\n",
    "                    empty='Invalid value'\n",
    "                    try:\n",
    "                        varlength.append(abc)\n",
    "                    except UnicodeEncodeError:\n",
    "                        varlength.append(empty)\n",
    "                        \n",
    "                    errormsg='InvalidValue' \n",
    "            except:\n",
    "                print('2 Error')\n",
    "                print(error)\n",
    "                varlength.append('error')     \n",
    "            try:\n",
    "                writer.writerow(varlength)\n",
    "            except UnicodeEncodeError:\n",
    "                writer.writerow(empty)\n",
    "            list_id+=1\n",
    "        f.close\n",
    "    if list_id==3:\n",
    "        with open('fifthThird.csv', 'a') as f:\n",
    "            varlength=[]\n",
    "            writer = csv.writer(f,delimiter=\",\", lineterminator=\"\\n\")\n",
    "            try: \n",
    "                varlength.append(i)\n",
    "                varlength.append(text[i])\n",
    "                varlength.append(textlocation[i])                \n",
    "                varlength.append(['https://jobcareer.53.com/sap/public/bc/ur/YEOPGL101307/standard/ExternalJobBoard/index.html'])\n",
    "                varlength.append([list_id])\n",
    "                for value1 in tfidflist:\n",
    "                    count2=re.findall(value1,textValue[i])\n",
    "                    abc=str(len(count2))\n",
    "                    empty='Invalid value'\n",
    "                    try:\n",
    "                        varlength.append(abc)\n",
    "                        errormsg='InvalidValue' \n",
    "                    except UnicodeEncodeError:\n",
    "                        varlength.append(empty)\n",
    "                     \n",
    "            except:\n",
    "                print(' 3 Error')\n",
    "                print(error)\n",
    "                varlength.append('error')     \n",
    "            try:\n",
    "                writer.writerow(varlength)\n",
    "            except UnicodeEncodeError:\n",
    "                writer.writerow(empty)\n",
    "        f.close"
   ]
  }
 ],
 "metadata": {
  "kernelspec": {
   "display_name": "Python 3",
   "language": "python",
   "name": "python3"
  },
  "language_info": {
   "codemirror_mode": {
    "name": "ipython",
    "version": 3
   },
   "file_extension": ".py",
   "mimetype": "text/x-python",
   "name": "python",
   "nbconvert_exporter": "python",
   "pygments_lexer": "ipython3",
   "version": "3.7.1"
  }
 },
 "nbformat": 4,
 "nbformat_minor": 2
}
