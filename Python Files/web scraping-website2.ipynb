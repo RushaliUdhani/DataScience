{
 "cells": [
  {
   "cell_type": "code",
   "execution_count": 1,
   "metadata": {},
   "outputs": [
    {
     "name": "stdout",
     "output_type": "stream",
     "text": [
      "Requirement already satisfied: selenium in c:\\programdata\\anaconda3\\lib\\site-packages (3.141.0)\n",
      "Requirement already satisfied: urllib3 in c:\\programdata\\anaconda3\\lib\\site-packages (from selenium) (1.24.1)\n"
     ]
    }
   ],
   "source": [
    "!pip install selenium"
   ]
  },
  {
   "cell_type": "code",
   "execution_count": 3,
   "metadata": {},
   "outputs": [],
   "source": [
    "from selenium import webdriver"
   ]
  },
  {
   "cell_type": "code",
   "execution_count": 5,
   "metadata": {},
   "outputs": [],
   "source": [
    "driver = webdriver.Chrome(r\"C:\\Users\\honra\\Downloads\\chromedriver_win32\\chromedriver.exe\")"
   ]
  },
  {
   "cell_type": "code",
   "execution_count": 6,
   "metadata": {},
   "outputs": [],
   "source": [
    "driver.get('https://jobcareer.53.com/sap/public/bc/ur/YEOPGL101307/standard/ExternalJobBoard/index.html')"
   ]
  },
  {
   "cell_type": "code",
   "execution_count": 8,
   "metadata": {},
   "outputs": [],
   "source": [
    "#going in the first link\n",
    "\n",
    "submitButton = driver.find_element_by_id(\"RCtable_rc_tableListJobs_showAll_field_REST_INFO_51919263\") \n",
    "submitButton.click() \n",
    "\n"
   ]
  },
  {
   "cell_type": "code",
   "execution_count": 9,
   "metadata": {},
   "outputs": [
    {
     "name": "stdout",
     "output_type": "stream",
     "text": [
      "GENERAL FUNCTION: Provide excellent customer care to customers regarding daily transactions,\n",
      "addressing inquiries, and problem resolution, in accordance with Fifth Third Bank policies. Refer\n",
      "customers to the appropriate business partner for products and services uncovered during business interactions and/or conversations.\n",
      "\n",
      "Responsible and accountable for risk by openly exchanging ideas and opinions, elevating concerns, and personally following policies and procedures as defined. Accountable for always doing the right thing for customers and colleagues, and ensuresthatactions and behaviors drive a positive customer experience. While operating within the Bank#s risk appetite, achieves results by consistently identifying, assessing, managing, monitoring, and reporting risks of all types.\n",
      "\n",
      "ESSENTIAL DUTIES & RESPONSIBILITIES:\n",
      ". Customer Experience Function:\n",
      "o Promote good customer experience by consistently providing best in class customer satisfaction by adhering to and applying customer experience key behaviors in a friendly demeanor, exemplifying a can-do attitude, and portraying awillingnesstohelpat all times.\n",
      "o Have a developed rapport with the customer base and have knowledge of account ownership.\n",
      "o Act with confidence by answering and/or finding answers to customer questions and finding solutions to customer issues; be responsive and timely with correspondence and problem resolution.\n",
      "o Maintain a position of trust and responsibility by keeping all customer business confidential.\n",
      "o Follow the Bancorp Code of Business Conduct and Ethics and other related policies, maintaining ethical behavior at all times.\n",
      "\n",
      ". Operations Function:\n",
      "o Perform daily office responsibilities, working with the platform team, to maintain the efficient operation of the office.\n",
      "o Maintain a balancing record that is in line with policy and have the ability to find and correct outages and to enlist help as needed.\n",
      "o Maintain knowledge of the bank policies and financial center procedures, and take responsibility to keep up to date on any changes.\n",
      "o Handle consumer and business customer problems with professionalism, directing more complex issues seamlessly to the Lead Customer Service Representative or other leadership as necessary.\n",
      "o Demonstrate sound judgment in decision making, abiding appropriately to established guidelines and procedures.\n",
      "\n",
      ". Referrals Function:\n",
      "o Consistently meet or exceed sales referrals, as set by management.\n",
      "o Actively involve self in daily huddles, sales meetings and staff meetings.\n",
      "o Maintain a well-developed working knowledge of the complete line of Retail products and services offered, taking responsibility to keep up to date and request assistance for further development needs.\n",
      "o Initiate conversations to uncover customer needs and effectively refer customers to business partners for the selling of bank products and services.\n",
      "o Utilize appropriate tools for all referrals sent to business partners for tracking purposes.\n",
      "o Consistent daily review of tools and dashboards for referral progression and monitoring of referral fulfillment to ensure proper disposition of referrals.\n",
      "o Continuously increase knowledge and skills through self-motivation, formal education, seminars and in-house training.\n",
      "\n",
      "SUPERVISORY RESPONSIBILITIES: None.\n"
     ]
    }
   ],
   "source": [
    "value=[]\n",
    "jobdescription = driver.find_element_by_id(\"value_PROJECT_DESC\")\n",
    "var=jobdescription.text\n",
    "value.append(var)\n",
    "print(var)"
   ]
  },
  {
   "cell_type": "code",
   "execution_count": 10,
   "metadata": {},
   "outputs": [],
   "source": [
    "driver.get('https://jobcareer.53.com/sap/public/bc/ur/YEOPGL101307/standard/ExternalJobBoard/index.html')"
   ]
  },
  {
   "cell_type": "code",
   "execution_count": 11,
   "metadata": {},
   "outputs": [],
   "source": [
    "#going in the 2nd link\n",
    "submitButton = driver.find_element_by_id(\"RCtable_rc_tableListJobs_showAll_field_REST_INFO_51919736\") \n",
    "submitButton.click()\n",
    "\n",
    "\n",
    "\n"
   ]
  },
  {
   "cell_type": "code",
   "execution_count": 12,
   "metadata": {},
   "outputs": [
    {
     "name": "stdout",
     "output_type": "stream",
     "text": [
      "length: 2\n",
      "GENERAL FUNCTION: Provide excellent customer care to customers regarding daily transactions,\n",
      "address\n",
      "GENERAL FUNCTION: The Digital Product Owner will be responsible for: 1) collaborating with design, t\n"
     ]
    }
   ],
   "source": [
    "jobdescription = driver.find_element_by_id(\"value_PROJECT_DESC\")\n",
    "var=jobdescription.text\n",
    "value.append(var)\n",
    "#print(value)\n",
    "print('length:',len(value))\n",
    "for var in value:\n",
    "    print(var[:100])"
   ]
  },
  {
   "cell_type": "code",
   "execution_count": 13,
   "metadata": {},
   "outputs": [],
   "source": [
    "driver.get('https://jobcareer.53.com/sap/public/bc/ur/YEOPGL101307/standard/ExternalJobBoard/index.html')"
   ]
  },
  {
   "cell_type": "code",
   "execution_count": 14,
   "metadata": {},
   "outputs": [],
   "source": [
    "#going into 3rd link\n",
    "submitButton = driver.find_element_by_id(\"RCtable_rc_tableListJobs_showAll_field_REST_INFO_51919449\") \n",
    "submitButton.click()"
   ]
  },
  {
   "cell_type": "code",
   "execution_count": 15,
   "metadata": {},
   "outputs": [
    {
     "name": "stdout",
     "output_type": "stream",
     "text": [
      "length: 3\n",
      "GENERAL FUNCTION: Provide excellent customer care to customers regarding daily transactions,\n",
      "address\n",
      "GENERAL FUNCTION: The Digital Product Owner will be responsible for: 1) collaborating with design, t\n",
      "This position can be located anywhere in the US.\n",
      "\n",
      "GENERAL FUNCTION: This position manages the bank's\n"
     ]
    }
   ],
   "source": [
    "jobdescription = driver.find_element_by_id(\"value_PROJECT_DESC\")\n",
    "var=jobdescription.text\n",
    "value.append(var)\n",
    "#print(value)\n",
    "print('length:',len(value))\n",
    "for var in value:\n",
    "    print(var[:100])"
   ]
  },
  {
   "cell_type": "code",
   "execution_count": 16,
   "metadata": {},
   "outputs": [],
   "source": [
    "driver.get('https://jobcareer.53.com/sap/public/bc/ur/YEOPGL101307/standard/ExternalJobBoard/index.html')"
   ]
  },
  {
   "cell_type": "code",
   "execution_count": 17,
   "metadata": {},
   "outputs": [],
   "source": [
    "#going into 4th link\n",
    "submitButton = driver.find_element_by_id(\"RCtable_rc_tableListJobs_showAll_field_REST_INFO_51919173\") \n",
    "submitButton.click()"
   ]
  },
  {
   "cell_type": "code",
   "execution_count": 18,
   "metadata": {},
   "outputs": [
    {
     "name": "stdout",
     "output_type": "stream",
     "text": [
      "length: 4\n",
      "GENERAL FUNCTION: Provide excellent customer care to customers regarding daily transactions,\n",
      "address\n",
      "GENERAL FUNCTION: The Digital Product Owner will be responsible for: 1) collaborating with design, t\n",
      "This position can be located anywhere in the US.\n",
      "\n",
      "GENERAL FUNCTION: This position manages the bank's\n",
      "GENERAL FUNCTION:\n",
      "The Credit Analyst II is primarily responsible for partnering with Portfolio Manag\n"
     ]
    }
   ],
   "source": [
    "jobdescription = driver.find_element_by_id(\"value_PROJECT_DESC\")\n",
    "var=jobdescription.text\n",
    "value.append(var)\n",
    "#print(value)\n",
    "print('length:',len(value))\n",
    "for var in value:\n",
    "    print(var[:100])"
   ]
  },
  {
   "cell_type": "code",
   "execution_count": 19,
   "metadata": {},
   "outputs": [],
   "source": [
    "driver.get('https://jobcareer.53.com/sap/public/bc/ur/YEOPGL101307/standard/ExternalJobBoard/index.html')"
   ]
  },
  {
   "cell_type": "code",
   "execution_count": 20,
   "metadata": {},
   "outputs": [],
   "source": [
    "\n",
    "submitButton = driver.find_element_by_id(\"RCtable_rc_tableListJobs_showAll_field_REST_INFO_51919352\") \n",
    "submitButton.click()"
   ]
  },
  {
   "cell_type": "code",
   "execution_count": 41,
   "metadata": {},
   "outputs": [
    {
     "name": "stdout",
     "output_type": "stream",
     "text": [
      "length: 4\n",
      "100\n",
      "suites\n",
      "GENERAL FUNCTION:\n",
      "This role is known internally as Group Manager, Methods and Process.\n",
      "\n",
      "Responsible for managing the full life-cycle of the Commercial Line of Business (LOB) program / project portfolio. Leads a dynamic, high performing team of program and project managers. Oversees the Commercial Project Management Office (CPMO) by providing Change Management expertise, setting standards and defining the methodologies, driving project performance, and training/coaching the team. Facilitates adequate governance, oversight and reporting of the LOB portfolio by the Commercial leadership.\n",
      "\n",
      "Responsible and accountable for risk by openly exchanging ideas and opinions, elevating concerns, and personally following policies and procedures as defined. Accountable for always doing the right thing for customers and colleagues, and ensures that actions and behaviors drive a positive customer experience. While operating within the Bank's risk appetite, achieves results by consistently identifying, assessing, managing, monitoring, and reporting risks of all types.\n",
      "\n",
      "ESSENTIAL DUTIES & RESPONSIBILITIES:\n",
      "Program Management Leadership\n",
      "• Provides leadership on an ongoing basis to the program / project managers in the team\n",
      "• Sets performance objectives, targets and expectations for the team, and manages their performance\n",
      "• Provides decisions, risk/issue resolution, resources and coaching to team members, as needed\n",
      "• Tracks progress on the programs / projects being managed and intervenes, if needed\n",
      "• Supervisory- Responsible for career development, training, on-the-job coaching and guidance, and salary administration for direct reports\n",
      "\n",
      "Strategic Planning\n",
      "• Participates in leadership discussions to influence LOB strategy and advise LOB leadership on strategic alignment, demand & resource management, budgets, portfolio status, etc.\n",
      "• Helps the leadership prepare business cases and cost-benefit analysis for strategic investments\n",
      "• Advocates sustainability measures and benefits measurement / realization for key programs\n",
      "• Leads the implementation of the Enterprise and LOB operating model by developing, deploying and continually improving consistent methodologies across the Bancorp.\n",
      "• Participates in relevant industry forums and professional organizations.\n",
      "\n",
      "Governance & Oversight\n",
      "• Drives and facilitates the ongoing governance and oversight of the Commercial LOB portfolio via multiple senior and executive leadership forums.\n",
      "• Provides regular and timely updates to senior leaders and committees to highlight major developments, key trends, risks/issues and project approvals / closures across the LOB portfolio\n",
      "GENERAL FUNCTION:\n",
      "This role is known internally as Group Manager, Methods and Process.\n",
      "\n",
      "Responsible for managing the full life-cycle of the Commercial Line of Business (LOB) program / project portfolio. Leads a dynamic, high performing team of program and project managers. Oversees the Commercial Project Management Office (CPMO) by providing Change Management expertise, setting standards and defining the methodologies, driving project performance, and training/coaching the team. Facilitates adequate governance, oversight and reporting of the LOB portfolio by the Commercial leadership.\n",
      "\n",
      "Responsible and accountable for risk by openly exchanging ideas and opinions, elevating concerns, and personally following policies and procedures as defined. Accountable for always doing the right thing for customers and colleagues, and ensures that actions and behaviors drive a positive customer experience. While operating within the Bank's risk appetite, achieves results by consistently identifying, assessing, managing, monitoring, and reporting risks of all types.\n",
      "\n",
      "ESSENTIAL DUTIES & RESPONSIBILITIES:\n",
      "Program Management Leadership\n",
      "• Provides leadership on an ongoing basis to the program / project managers in the team\n",
      "• Sets performance objectives, targets and expectations for the team, and manages their performance\n",
      "• Provides decisions, risk/issue resolution, resources and coaching to team members, as needed\n",
      "• Tracks progress on the programs / projects being managed and intervenes, if needed\n",
      "• Supervisory- Responsible for career development, training, on-the-job coaching and guidance, and salary administration for direct reports\n",
      "\n",
      "Strategic Planning\n",
      "• Participates in leadership discussions to influence LOB strategy and advise LOB leadership on strategic alignment, demand & resource management, budgets, portfolio status, etc.\n",
      "• Helps the leadership prepare business cases and cost-benefit analysis for strategic investments\n",
      "• Advocates sustainability measures and benefits measurement / realization for key programs\n",
      "• Leads the implementation of the Enterprise and LOB operating model by developing, deploying and continually improving consistent methodologies across the Bancorp.\n",
      "• Participates in relevant industry forums and professional organizations.\n",
      "\n",
      "Governance & Oversight\n",
      "• Drives and facilitates the ongoing governance and oversight of the Commercial LOB portfolio via multiple senior and executive leadership forums.\n",
      "• Provides regular and timely updates to senior leaders and committees to highlight major developments, key trends, risks/issues and project approvals / closures across the LOB portfolio\n",
      "E\n"
     ]
    }
   ],
   "source": [
    "jobdescription = driver.find_element_by_id(\"value_PROJECT_DESC\")\n",
    "var=jobdescription.text\n",
    "value.append(var)\n",
    "#print(value)\n",
    "print('length:',len(value))\n",
    "for var in value:\n",
    "    print(var)\n",
    "print(var[1])"
   ]
  },
  {
   "cell_type": "code",
   "execution_count": 22,
   "metadata": {},
   "outputs": [],
   "source": [
    "driver.get('https://jobcareer.53.com/sap/public/bc/ur/YEOPGL101307/standard/ExternalJobBoard/index.html')"
   ]
  },
  {
   "cell_type": "code",
   "execution_count": 23,
   "metadata": {},
   "outputs": [],
   "source": [
    "#going in the first link\n",
    "\n",
    "submitButton = driver.find_element_by_id(\"RCtable_rc_tableListJobs_showAll_field_REST_INFO_51919263\") \n",
    "submitButton.click() \n",
    "\n"
   ]
  },
  {
   "cell_type": "code",
   "execution_count": 24,
   "metadata": {},
   "outputs": [
    {
     "name": "stdout",
     "output_type": "stream",
     "text": [
      "length: 1\n",
      "CSR / Teller - Stone\n"
     ]
    }
   ],
   "source": [
    "titlelist = []\n",
    "title = driver.find_element_by_id(\"rc_details_title_div\")\n",
    "variable = title.text\n",
    "titlelist.append(variable)\n",
    "print('length:',len(titlelist))\n",
    "for variable in titlelist:\n",
    "    print(variable[:20])\n"
   ]
  },
  {
   "cell_type": "code",
   "execution_count": 25,
   "metadata": {},
   "outputs": [],
   "source": [
    "driver.get('https://jobcareer.53.com/sap/public/bc/ur/YEOPGL101307/standard/ExternalJobBoard/index.html')"
   ]
  },
  {
   "cell_type": "code",
   "execution_count": 26,
   "metadata": {},
   "outputs": [],
   "source": [
    "#going in the 2nd link\n",
    "submitButton = driver.find_element_by_id(\"RCtable_rc_tableListJobs_showAll_field_REST_INFO_51919736\") \n",
    "submitButton.click()"
   ]
  },
  {
   "cell_type": "code",
   "execution_count": 27,
   "metadata": {},
   "outputs": [
    {
     "name": "stdout",
     "output_type": "stream",
     "text": [
      "length: 2\n",
      "CSR / Teller - Stone\n",
      "Digital Product Owne\n"
     ]
    }
   ],
   "source": [
    "\n",
    "title = driver.find_element_by_id(\"rc_details_title_div\")\n",
    "variable = title.text\n",
    "titlelist.append(variable)\n",
    "print('length:',len(titlelist))\n",
    "for variable in titlelist:\n",
    "    print(variable[:20])\n"
   ]
  },
  {
   "cell_type": "code",
   "execution_count": 28,
   "metadata": {},
   "outputs": [],
   "source": [
    "driver.get('https://jobcareer.53.com/sap/public/bc/ur/YEOPGL101307/standard/ExternalJobBoard/index.html')"
   ]
  },
  {
   "cell_type": "code",
   "execution_count": 29,
   "metadata": {},
   "outputs": [],
   "source": [
    "#going into 3rd link\n",
    "submitButton = driver.find_element_by_id(\"RCtable_rc_tableListJobs_showAll_field_REST_INFO_51919449\") \n",
    "submitButton.click()"
   ]
  },
  {
   "cell_type": "code",
   "execution_count": 30,
   "metadata": {},
   "outputs": [
    {
     "name": "stdout",
     "output_type": "stream",
     "text": [
      "length: 3\n",
      "CSR / Teller - Stone\n",
      "Digital Product Owne\n",
      "National Healthcare \n"
     ]
    }
   ],
   "source": [
    "\n",
    "title = driver.find_element_by_id(\"rc_details_title_div\")\n",
    "variable = title.text\n",
    "titlelist.append(variable)\n",
    "print('length:',len(titlelist))\n",
    "for variable in titlelist:\n",
    "    print(variable[:20])\n"
   ]
  },
  {
   "cell_type": "code",
   "execution_count": 31,
   "metadata": {},
   "outputs": [],
   "source": [
    "driver.get('https://jobcareer.53.com/sap/public/bc/ur/YEOPGL101307/standard/ExternalJobBoard/index.html')"
   ]
  },
  {
   "cell_type": "code",
   "execution_count": 32,
   "metadata": {},
   "outputs": [],
   "source": [
    "#going into 4th link\n",
    "submitButton = driver.find_element_by_id(\"RCtable_rc_tableListJobs_showAll_field_REST_INFO_51919173\") \n",
    "submitButton.click()"
   ]
  },
  {
   "cell_type": "code",
   "execution_count": 33,
   "metadata": {},
   "outputs": [
    {
     "name": "stdout",
     "output_type": "stream",
     "text": [
      "length: 4\n",
      "CSR / Teller - Stone\n",
      "Digital Product Owne\n",
      "National Healthcare \n",
      "Credit Analyst II.-C\n"
     ]
    }
   ],
   "source": [
    "\n",
    "title = driver.find_element_by_id(\"rc_details_title_div\")\n",
    "variable = title.text\n",
    "titlelist.append(variable)\n",
    "print('length:',len(titlelist))\n",
    "for variable in titlelist:\n",
    "    print(variable[:20])\n"
   ]
  },
  {
   "cell_type": "code",
   "execution_count": 34,
   "metadata": {},
   "outputs": [],
   "source": [
    "driver.get('https://jobcareer.53.com/sap/public/bc/ur/YEOPGL101307/standard/ExternalJobBoard/index.html')"
   ]
  },
  {
   "cell_type": "code",
   "execution_count": 35,
   "metadata": {},
   "outputs": [],
   "source": [
    "\n",
    "submitButton = driver.find_element_by_id(\"RCtable_rc_tableListJobs_showAll_field_REST_INFO_51919352\") \n",
    "submitButton.click()"
   ]
  },
  {
   "cell_type": "code",
   "execution_count": 39,
   "metadata": {},
   "outputs": [
    {
     "name": "stdout",
     "output_type": "stream",
     "text": [
      "length: 6\n",
      "CSR / Teller - Stone\n",
      "Digital Product Owne\n",
      "National Healthcare \n",
      "Credit Analyst II.-C\n",
      "Group Manager - Proj\n",
      "Group Manager - Proj\n",
      "Group Manager - Project Management\n"
     ]
    }
   ],
   "source": [
    "\n",
    "title = driver.find_element_by_id(\"rc_details_title_div\")\n",
    "variable = title.text\n",
    "titlelist.append(variable)\n",
    "print('length:',len(titlelist))\n",
    "for variable in titlelist:\n",
    "    print(variable[:20])\n",
    "print(variable)\n"
   ]
  },
  {
   "cell_type": "code",
   "execution_count": 37,
   "metadata": {},
   "outputs": [
    {
     "name": "stdout",
     "output_type": "stream",
     "text": [
      "length word_count 100\n",
      "length wcist 100\n",
      "['financial', 'digital', 'data', 'services', 'bank', 'economic', 'blockchain', 'customers', 'market', 'findings', 'products', 'systems', 'platforms', 'payments', 'investors', 'insurance', 'transactions', 'asset', 'capital', 'equity', 'global', 'investment', 'attributes', 'regulatory', 'business', 'process', 'future', 'firms', 'solutions', 'entities', 'providers', 'banking', 'management', 'infrastructure', 'potential', 'online', 'debit', 'transfer', 'critical', 'time', 'opportunities', 'trade', 'credit', 'industry', 'automated', 'intermediaries', 'lead', 'insurers', 'ledger', 'fintechs', 'scale', 'costs', 'project', 'settlement', 'shift', 'models', 'distribution', 'lenders', 'offer', 'partnerships', 'growth', 'conditions', 'evidence', 'loss', 'activities', 'risks', 'regulator', 'private', 'compliance', 'mobile', 'development', 'core', 'focus', 'exchange', 'approach', 'increase', 'reduce', 'trading', 'retail', 'experience', 'implementation', 'ability', 'trusted', 'individual', 'report', 'innovation', 'network', 'emerging', 'funds', 'impact', 'lack', 'requirements', 'wealth', 'studies', 'funding', 'current', 'channels', 'managers', 'details', 'experts']\n",
      "length word_count 99\n",
      "length trlist 99\n",
      "['services', 'global', 'transaction', 'chief', 'group', 'strategy', 'head', 'executive', 'economic', 'forum', 'innovation', 'report', 'bank', 'officer', 'future', 'phase', 'partner', 'fintech', 'project', 'professional', 'member', 'business', 'director', 'support', 'digital', 'financial', 'transformative', 'international', 'context', 'branch', 'investment', 'accountability', 'senior', 'working', 'approach', 'publication', 'managerial', 'disruptive', 'deposit', 'system', 'cash', 'corporate', 'diversification', 'retail', 'compliance', 'steering', 'series', 'opportunity', 'limited', 'loss', 'initiative', 'regulators', 'public', 'incumbents', 'outreach', 'security', 'identity', 'role', 'research', 'collection', 'capital', 'focused', 'implications', 'analysis', 'leadership', 'action', 'revolution', 'llp', 'affect', 'accounting', 'swift', 'markets', 'understanding', 'excel', 'communication', 'management', 'industrial', 'portfolio', 'entrants', 'provide', 'cfa', 'detailed', 'learning', 'president', 'asset', 'technology', 'entities', 'cap ', 'firms', 'flow', 'lending', 'description', 'institutions', 'legal', 'banking', 'thomson', 'impact', 'stakeholders', 'potential']\n",
      "length word_count 100\n",
      "length tfidflist 100\n",
      "['pragmatic', 'concerning', 'assisted', 'sales', 'automation', 'mentorship', 'vision', 'inspirational', 'varied', 'distribution', 'concurrent', 'ibd', 'crosscutting', 'expanding', 'editors', 'compound', 'aftershocks', 'license', 'rupee', 'draws', 'importantly', 'lies', 'corporate', 'culmination', 'phases', 'strived', 'considers', 'produce', 'business ', 'asset', 'leasing', 'lending', 'branch', 'managements', 'overtaking', 'fallen', 'seized', 'subsector', 'shown', 'overestimated', 'interview', 'externalize', 'tempo', 'investment', 'retail', 'payment', 'mortgage', 'commoditize', 'clients', 'duplication', 'teller', 'word', 'deverticalize', 'costsharing', 'companywide', 'trade', 'separately', 'businesstobusiness', 'catalysts', 'intravalue', 'intervalue', 'proposing', 'exchange', 'curtailing', 'provider', 'shift', 'curation', 'deemphasizing', 'benchmarks', 'abusing', 'multiple', 'audiences', 'excel', 'tax', 'invoicing', 'analyst', 'dashboard', 'product', 'driven', 'snapshots', 'experience', 'optional', 'geolocation', 'debt', 'nonbanks', 'adds', 'equity', 'cashbacks', 'shareholders', 'arrival', 'workforces', 'machine', 'coworking', 'dominating', 'values', 'chatbot', 'mould', 'computers', 'multiplying', 'suites']\n"
     ]
    }
   ],
   "source": [
    "#CSV extraction for wordcount\n",
    "import csv\n",
    "import re\n",
    "word_count=[]\n",
    "with open ('Mwordcount.csv','r')as csvfile:\n",
    "    csvreader=csv.reader(csvfile)\n",
    "    fields=next(csvreader)  \n",
    "    for row in csvreader:\n",
    "        word_count.append(row)\n",
    "print('length word_count',len(word_count))\n",
    "wclist=[]       \n",
    "for value in word_count:\n",
    "    rowid,word=value\n",
    "    wclist.append(word)\n",
    "print('length wcist',len(wclist))\n",
    "print(wclist)\n",
    "#--------------------------------------------------------------------\n",
    "#text rank dataset\n",
    "word_count=[]\n",
    "with open ('textrank.csv','r')as csvfile:\n",
    "    csvreader=csv.reader(csvfile)\n",
    "    fields=next(csvreader)  \n",
    "    for row in csvreader:\n",
    "        word_count.append(row)\n",
    "print('length word_count',len(word_count))\n",
    "trlist=[]       \n",
    "for value in word_count:\n",
    "    rowid,word=value\n",
    "    trlist.append(word)\n",
    "print('length trlist',len(trlist))\n",
    "print(trlist)\n",
    "#-----------------------------------------------------------------------\n",
    "#tfidf dataset\n",
    "word_count=[]\n",
    "with open ('tfidf.csv','r')as csvfile:\n",
    "    csvreader=csv.reader(csvfile)\n",
    "    fields=next(csvreader)  \n",
    "    for row in csvreader:\n",
    "        word_count.append(row)\n",
    "print('length word_count',len(word_count))\n",
    "tfidflist=[]       \n",
    "for value in word_count:\n",
    "    rowid,word=value\n",
    "    tfidflist.append(word)\n",
    "print('length tfidflist',len(tfidflist))\n",
    "print(tfidflist)\n"
   ]
  },
  {
   "cell_type": "code",
   "execution_count": 87,
   "metadata": {},
   "outputs": [],
   "source": [
    "#print(job_description[0])\n",
    "with open('finaloutput2.csv', 'w') as f:\n",
    "    writer = csv.writer(f,delimiter=\",\", lineterminator=\"\\n\")\n",
    "    #writer.writerow(word1)\n",
    "    abc=['jobNo']+['Title']+['Institution']+['Job Description']+['List id (1,2,3)']\n",
    "    for i in range(1,101):\n",
    "        abc+=[str(i)]\n",
    "    writer.writerow(abc)"
   ]
  },
  {
   "cell_type": "code",
   "execution_count": 75,
   "metadata": {},
   "outputs": [],
   "source": [
    "wclist1=[]\n",
    "tflist1=[]\n",
    "tfidflist1=[]\n",
    "empty='Invalid value'\n",
    "error=\"Error\"\n",
    "for i in range(0,3):\n",
    "    varlength=[]\n",
    "    list_id=1\n",
    "    if list_id==1:\n",
    "        with open('finaloutput.csv', 'a') as f:\n",
    "            varlength=[]\n",
    "            writer = csv.writer(f,delimiter=\",\", lineterminator=\"\\n\")\n",
    "        #writer.writerow(word1)\n",
    "            try: \n",
    "                varlength.append(i)\n",
    "                varlength.append(variable[i])\n",
    "                varlength.append(['Fifth Third Bank'])                \n",
    "                varlength.append(value[i])\n",
    "                varlength.append([list_id])\n",
    "                for value1 in wclist:\n",
    "                    count2=re.findall(value1,value[i])  \n",
    "                    abc=str(len(count2))\n",
    "                    empty='Invalid value'\n",
    "                    try:\n",
    "                        varlength.append(abc)\n",
    "                        errormsg='InvalidValue' \n",
    "                    except UnicodeEncodeError:\n",
    "                        varlength.append(empty)\n",
    "                    abc=str(len(count2))\n",
    "                    empty='Invalid value'\n",
    "                    varlength.append(abc)\n",
    "                    #varlength.append(empty)\n",
    "            except:\n",
    "                print('1 Error')\n",
    "                print(error)\n",
    "                varlength.append('error')     \n",
    "        #writer = csv.writer(f)\n",
    "            try:\n",
    "                writer.writerow(varlength)\n",
    "            except UnicodeEncodeError:\n",
    "                writer.writerow(empty)\n",
    "            list_id+=1\n",
    "        f.close\n",
    "    if list_id==2:\n",
    "        with open('finaloutput.csv', 'a') as f:\n",
    "            varlength=[]\n",
    "            writer = csv.writer(f,delimiter=\",\", lineterminator=\"\\n\")\n",
    "            try: \n",
    "                varlength.append(i)\n",
    "                varlength.append(variable[i])\n",
    "                varlength.append(['Fifth Third Bank'])                \n",
    "                varlength.append(value[i])\n",
    "                varlength.append([list_id])\n",
    "                for value1 in wclist:\n",
    "                    count2=re.findall(value1,value[i])  \n",
    "                    abc=str(len(count2))\n",
    "                    empty='Invalid value'\n",
    "                    try:\n",
    "                        varlength.append(abc)\n",
    "                        errormsg='InvalidValue' \n",
    "                    except UnicodeEncodeError:\n",
    "                        varlength.append(empty)\n",
    "                    abc=str(len(count2))\n",
    "                    empty='Invalid value'\n",
    "                    try:\n",
    "                        varlength.append(abc)\n",
    "                    except UnicodeEncodeError:\n",
    "                        varlength.append(empty)\n",
    "                        \n",
    "                    errormsg='InvalidValue' \n",
    "            except:\n",
    "                print('2 Error')\n",
    "                print(error)\n",
    "                varlength.append('error')     \n",
    "            try:\n",
    "                writer.writerow(varlength)\n",
    "            except UnicodeEncodeError:\n",
    "                writer.writerow(empty)\n",
    "            list_id+=1\n",
    "        f.close\n",
    "    if list_id==3:\n",
    "        with open('finaloutput.csv', 'a') as f:\n",
    "            varlength=[]\n",
    "            writer = csv.writer(f,delimiter=\",\", lineterminator=\"\\n\")\n",
    "            try: \n",
    "                varlength.append(i)\n",
    "                varlength.append(variable[i])\n",
    "                varlength.append(['Fifth Third Bank'])                \n",
    "                varlength.append(value[i])\n",
    "                varlength.append([list_id])\n",
    "                for value1 in wclist:\n",
    "                    count2=re.findall(value1,value[i])  \n",
    "                    abc=str(len(count2))\n",
    "                    empty='Invalid value'\n",
    "                    try:\n",
    "                        varlength.append(abc)\n",
    "                        errormsg='InvalidValue' \n",
    "                    except UnicodeEncodeError:\n",
    "                        varlength.append(empty)\n",
    "                     \n",
    "            except:\n",
    "                print(' 3 Error')\n",
    "                print(error)\n",
    "                varlength.append('error')     \n",
    "            try:\n",
    "                writer.writerow(varlength)\n",
    "            except UnicodeEncodeError:\n",
    "                writer.writerow(empty)\n",
    "        f.close\n",
    "        "
   ]
  }
 ],
 "metadata": {
  "kernelspec": {
   "display_name": "Python 3",
   "language": "python",
   "name": "python3"
  },
  "language_info": {
   "codemirror_mode": {
    "name": "ipython",
    "version": 3
   },
   "file_extension": ".py",
   "mimetype": "text/x-python",
   "name": "python",
   "nbconvert_exporter": "python",
   "pygments_lexer": "ipython3",
   "version": "3.7.1"
  }
 },
 "nbformat": 4,
 "nbformat_minor": 2
}
