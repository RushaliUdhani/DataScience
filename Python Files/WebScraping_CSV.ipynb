{
 "cells": [
  {
   "cell_type": "code",
   "execution_count": 1,
   "metadata": {},
   "outputs": [
    {
     "name": "stdout",
     "output_type": "stream",
     "text": [
      "Requirement already satisfied: selenium in c:\\users\\rudha\\appdata\\local\\continuum\\anaconda3\\lib\\site-packages (3.141.0)\n",
      "Requirement already satisfied: urllib3 in c:\\users\\rudha\\appdata\\local\\continuum\\anaconda3\\lib\\site-packages (from selenium) (1.24.1)\n"
     ]
    }
   ],
   "source": [
    "!pip install selenium"
   ]
  },
  {
   "cell_type": "code",
   "execution_count": 1,
   "metadata": {},
   "outputs": [],
   "source": [
    "import time\n",
    "import pandas as pd\n",
    "from bs4 import BeautifulSoup"
   ]
  },
  {
   "cell_type": "code",
   "execution_count": 2,
   "metadata": {},
   "outputs": [],
   "source": [
    "from selenium import webdriver"
   ]
  },
  {
   "cell_type": "code",
   "execution_count": 3,
   "metadata": {},
   "outputs": [],
   "source": [
    "driver = webdriver.Chrome(r\"C:\\Users\\Admin\\Downloads\\chromedriver.exe\")"
   ]
  },
  {
   "cell_type": "code",
   "execution_count": 4,
   "metadata": {},
   "outputs": [],
   "source": [
    "driver.get('https://jobcareer.53.com/sap/public/bc/ur/YEOPGL101307/standard/ExternalJobBoard/index.html')\n"
   ]
  },
  {
   "cell_type": "code",
   "execution_count": 5,
   "metadata": {},
   "outputs": [],
   "source": [
    "#creating a list of all the id's\n",
    "titleList = ['RCtable_rc_tableListJobs_showAll_field_REST_INFO_51923643', \n",
    "             'RCtable_rc_tableListJobs_showAll_field_REST_INFO_51923991',\n",
    "            'RCtable_rc_tableListJobs_showAll_field_REST_INFO_51923279',\n",
    "            'RCtable_rc_tableListJobs_showAll_field_REST_INFO_51923720',\n",
    "            'RCtable_rc_tableListJobs_showAll_field_REST_INFO_51923553']\n",
    "\n"
   ]
  },
  {
   "cell_type": "markdown",
   "metadata": {},
   "source": [
    "# page 1"
   ]
  },
  {
   "cell_type": "code",
   "execution_count": 6,
   "metadata": {},
   "outputs": [],
   "source": [
    "\n",
    "textValue = []\n",
    "jobdescription = []\n",
    "#loop for job description of jobs on first page\n",
    "for x in titleList:\n",
    "    buttonClick = driver.find_element_by_id(x)\n",
    "    #time.sleep(5)\n",
    "    buttonClick.click()\n",
    "    time.sleep(5)\n",
    "    jobdescription = driver.find_element_by_id(\"value_PROJECT_DESC\")\n",
    "    var=jobdescription.text\n",
    "    textValue.append(var)\n",
    "    driver.get('https://jobcareer.53.com/sap/public/bc/ur/YEOPGL101307/standard/ExternalJobBoard/index.html')\n",
    "    time.sleep(5)\n",
    "    #textValue.append(txt.text)\n",
    "    #creating a list of all the id's\n",
    "    \n",
    "nextpage = driver.find_element_by_id(\"rc_table_rc_tableListJobs_showAlltableKit_next_but\")\n",
    "nextpage.click()\n",
    "\n",
    "    "
   ]
  },
  {
   "cell_type": "markdown",
   "metadata": {},
   "source": [
    "# page 2"
   ]
  },
  {
   "cell_type": "code",
   "execution_count": 7,
   "metadata": {},
   "outputs": [],
   "source": [
    "titleList2= ['RCtable_rc_tableListJobs_showAll_field_REST_INFO_51923908',\n",
    "            'RCtable_rc_tableListJobs_showAll_field_REST_INFO_51923998',\n",
    "            'RCtable_rc_tableListJobs_showAll_field_REST_INFO_51924203',\n",
    "            'RCtable_rc_tableListJobs_showAll_field_REST_INFO_51924052',\n",
    "            'RCtable_rc_tableListJobs_showAll_field_REST_INFO_51923772']"
   ]
  },
  {
   "cell_type": "code",
   "execution_count": 8,
   "metadata": {},
   "outputs": [],
   "source": [
    "\n",
    "\n",
    "#loop for job description of jobs on second page\n",
    "for y in titleList2:\n",
    "    buttonClick = driver.find_element_by_id(y)\n",
    "    #time.sleep(5)\n",
    "    buttonClick.click()\n",
    "    time.sleep(5)\n",
    "    jobdescription = driver.find_element_by_id(\"value_PROJECT_DESC\")\n",
    "    var=jobdescription.text\n",
    "    textValue.append(var)\n",
    "    backButton = driver.find_element_by_id(\"rc_backButton_\")\n",
    "    backButton.click()\n",
    "#     driver.get('https://jobcareer.53.com/sap/public/bc/ur/YEOPGL101307/standard/ExternalJobBoard/index.html')\n",
    "    time.sleep(5)\n",
    "    #textValue.append(txt.text)\n",
    "    #creating a list of all the id's\n",
    "    \n",
    "nextpage2 = driver.find_element_by_id(\"rc_table_rc_tableListJobs_showAlltableKit_next_but\")\n",
    "nextpage2.click()\n",
    "  \n",
    "    "
   ]
  },
  {
   "cell_type": "markdown",
   "metadata": {},
   "source": [
    "# page3"
   ]
  },
  {
   "cell_type": "code",
   "execution_count": 9,
   "metadata": {},
   "outputs": [],
   "source": [
    "titleList3= ['RCtable_rc_tableListJobs_showAll_field_REST_INFO_51923220',\n",
    "            'RCtable_rc_tableListJobs_showAll_field_REST_INFO_51923638',\n",
    "            'RCtable_rc_tableListJobs_showAll_field_REST_INFO_51923631',\n",
    "            'RCtable_rc_tableListJobs_showAll_field_REST_INFO_51923364',\n",
    "            'RCtable_rc_tableListJobs_showAll_field_REST_INFO_51923340']"
   ]
  },
  {
   "cell_type": "code",
   "execution_count": 10,
   "metadata": {},
   "outputs": [],
   "source": [
    "#loop for job description of jobs on third page\n",
    "for x in titleList3:\n",
    "    buttonClick = driver.find_element_by_id(x)\n",
    "    #time.sleep(5)\n",
    "    buttonClick.click()\n",
    "    time.sleep(5)\n",
    "    jobdescription = driver.find_element_by_id(\"value_PROJECT_DESC\")\n",
    "    var=jobdescription.text\n",
    "    textValue.append(var)\n",
    "    backButton = driver.find_element_by_id(\"rc_backButton_\")\n",
    "    backButton.click()\n",
    "#     driver.get('https://jobcareer.53.com/sap/public/bc/ur/YEOPGL101307/standard/ExternalJobBoard/index.html')\n",
    "    time.sleep(5)\n",
    "    #textValue.append(txt.text)\n",
    "    #creating a list of all the id's\n",
    "    \n",
    "nextpage3 = driver.find_element_by_id(\"rc_table_rc_tableListJobs_showAlltableKit_next_but\")\n",
    "nextpage3.click()"
   ]
  },
  {
   "cell_type": "markdown",
   "metadata": {},
   "source": [
    "# page4"
   ]
  },
  {
   "cell_type": "code",
   "execution_count": 14,
   "metadata": {},
   "outputs": [],
   "source": [
    "titleList4= ['RCtable_rc_tableListJobs_showAll_field_REST_INFO_51923767',\n",
    "            'RCtable_rc_tableListJobs_showAll_field_REST_INFO_51923496',\n",
    "            'RCtable_rc_tableListJobs_showAll_field_REST_INFO_51924037',\n",
    "            'RCtable_rc_tableListJobs_showAll_field_REST_INFO_51923290',\n",
    "            'RCtable_rc_tableListJobs_showAll_field_REST_INFO_51924578']"
   ]
  },
  {
   "cell_type": "code",
   "execution_count": 15,
   "metadata": {},
   "outputs": [],
   "source": [
    "#loop for job description of jobs on fourth page\n",
    "for x in titleList4:\n",
    "    buttonClick = driver.find_element_by_id(x)\n",
    "    #time.sleep(5)\n",
    "    buttonClick.click()\n",
    "    time.sleep(5)\n",
    "    jobdescription = driver.find_element_by_id(\"value_PROJECT_DESC\")\n",
    "    var=jobdescription.text\n",
    "    textValue.append(var)\n",
    "    backButton = driver.find_element_by_id(\"rc_backButton_\")\n",
    "    backButton.click()\n",
    "#     driver.get('https://jobcareer.53.com/sap/public/bc/ur/YEOPGL101307/standard/ExternalJobBoard/index.html')\n",
    "    time.sleep(5)\n",
    "    #textValue.append(txt.text)\n",
    "    #creating a list of all the id's\n",
    "    \n",
    "nextpage4 = driver.find_element_by_id(\"rc_table_rc_tableListJobs_showAlltableKit_next_but\")\n",
    "nextpage4.click()"
   ]
  },
  {
   "cell_type": "markdown",
   "metadata": {},
   "source": [
    "# page5"
   ]
  },
  {
   "cell_type": "code",
   "execution_count": 20,
   "metadata": {},
   "outputs": [],
   "source": [
    "titleList5= ['RCtable_rc_tableListJobs_showAll_field_REST_INFO_51923376',\n",
    "             'RCtable_rc_tableListJobs_showAll_field_REST_INFO_51891828',\n",
    "            'RCtable_rc_tableListJobs_showAll_field_REST_INFO_51923765',\n",
    "            'RCtable_rc_tableListJobs_showAll_field_REST_INFO_51924073',\n",
    "            'RCtable_rc_tableListJobs_showAll_field_REST_INFO_51922010']"
   ]
  },
  {
   "cell_type": "code",
   "execution_count": 21,
   "metadata": {},
   "outputs": [],
   "source": [
    "#loop for job description of jobs on fifth page\n",
    "for x in titleList5:\n",
    "    buttonClick = driver.find_element_by_id(x)\n",
    "    #time.sleep(5)\n",
    "    buttonClick.click()\n",
    "    time.sleep(5)\n",
    "    jobdescription = driver.find_element_by_id(\"value_PROJECT_DESC\")\n",
    "    var=jobdescription.text\n",
    "    textValue.append(var)\n",
    "    backButton = driver.find_element_by_id(\"rc_backButton_\")\n",
    "    backButton.click()\n",
    "#     driver.get('https://jobcareer.53.com/sap/public/bc/ur/YEOPGL101307/standard/ExternalJobBoard/index.html')\n",
    "    time.sleep(5)\n",
    "    #textValue.append(txt.text)\n",
    "    #creating a list of all the id's\n",
    "    \n",
    "nextpage5 = driver.find_element_by_id(\"rc_table_rc_tableListJobs_showAlltableKit_next_but\")\n",
    "nextpage5.click()"
   ]
  },
  {
   "cell_type": "markdown",
   "metadata": {},
   "source": [
    "# page6"
   ]
  },
  {
   "cell_type": "code",
   "execution_count": 24,
   "metadata": {},
   "outputs": [],
   "source": [
    "titleList6= ['RCtable_rc_tableListJobs_showAll_field_REST_INFO_51921818',\n",
    "             'RCtable_rc_tableListJobs_showAll_field_REST_INFO_51921829',\n",
    "            'RCtable_rc_tableListJobs_showAll_field_REST_INFO_51922293',\n",
    "            'RCtable_rc_tableListJobs_showAll_field_REST_INFO_51921758',\n",
    "            'RCtable_rc_tableListJobs_showAll_field_REST_INFO_51922578']"
   ]
  },
  {
   "cell_type": "code",
   "execution_count": 25,
   "metadata": {},
   "outputs": [],
   "source": [
    "#loop for job description of jobs on sixth page\n",
    "for x in titleList6:\n",
    "    buttonClick = driver.find_element_by_id(x)\n",
    "    #time.sleep(5)\n",
    "    buttonClick.click()\n",
    "    time.sleep(5)\n",
    "    jobdescription = driver.find_element_by_id(\"value_PROJECT_DESC\")\n",
    "    var=jobdescription.text\n",
    "    textValue.append(var)\n",
    "    backButton = driver.find_element_by_id(\"rc_backButton_\")\n",
    "    backButton.click()\n",
    "#     driver.get('https://jobcareer.53.com/sap/public/bc/ur/YEOPGL101307/standard/ExternalJobBoard/index.html')\n",
    "    time.sleep(5)\n",
    "    #textValue.append(txt.text)\n",
    "    #creating a list of all the id's\n",
    "    \n",
    "nextpage6 = driver.find_element_by_id(\"rc_table_rc_tableListJobs_showAlltableKit_next_but\")\n",
    "nextpage6.click()"
   ]
  },
  {
   "cell_type": "markdown",
   "metadata": {},
   "source": [
    "# page7"
   ]
  },
  {
   "cell_type": "code",
   "execution_count": 28,
   "metadata": {},
   "outputs": [],
   "source": [
    "titleList7= ['RCtable_rc_tableListJobs_showAll_field_REST_INFO_51921757',\n",
    "             'RCtable_rc_tableListJobs_showAll_field_REST_INFO_51882545',\n",
    "            'RCtable_rc_tableListJobs_showAll_field_REST_INFO_51922500',\n",
    "            'RCtable_rc_tableListJobs_showAll_field_REST_INFO_51922066',\n",
    "            'RCtable_rc_tableListJobs_showAll_field_REST_INFO_51921819']"
   ]
  },
  {
   "cell_type": "code",
   "execution_count": 29,
   "metadata": {},
   "outputs": [],
   "source": [
    "#loop for job description of jobs on seventh page\n",
    "for x in titleList7:\n",
    "    buttonClick = driver.find_element_by_id(x)\n",
    "    #time.sleep(5)\n",
    "    buttonClick.click()\n",
    "    time.sleep(5)\n",
    "    jobdescription = driver.find_element_by_id(\"value_PROJECT_DESC\")\n",
    "    var=jobdescription.text\n",
    "    textValue.append(var)\n",
    "    backButton = driver.find_element_by_id(\"rc_backButton_\")\n",
    "    backButton.click()\n",
    "#     driver.get('https://jobcareer.53.com/sap/public/bc/ur/YEOPGL101307/standard/ExternalJobBoard/index.html')\n",
    "    time.sleep(5)\n",
    "    #textValue.append(txt.text)\n",
    "    #creating a list of all the id's\n",
    "    \n",
    "nextpage7 = driver.find_element_by_id(\"rc_table_rc_tableListJobs_showAlltableKit_next_but\")\n",
    "nextpage7.click()"
   ]
  },
  {
   "cell_type": "markdown",
   "metadata": {},
   "source": [
    "# page8"
   ]
  },
  {
   "cell_type": "code",
   "execution_count": 30,
   "metadata": {},
   "outputs": [],
   "source": [
    "titleList8= ['RCtable_rc_tableListJobs_showAll_field_REST_INFO_51922347',\n",
    "             'RCtable_rc_tableListJobs_showAll_field_REST_INFO_51921777',\n",
    "            'RCtable_rc_tableListJobs_showAll_field_REST_INFO_51826945',\n",
    "            'RCtable_rc_tableListJobs_showAll_field_REST_INFO_51921686',\n",
    "            'RCtable_rc_tableListJobs_showAll_field_REST_INFO_51921782']"
   ]
  },
  {
   "cell_type": "code",
   "execution_count": 31,
   "metadata": {},
   "outputs": [],
   "source": [
    "#loop for job description of jobs on eighth page\n",
    "for x in titleList8:\n",
    "    buttonClick = driver.find_element_by_id(x)\n",
    "    #time.sleep(5)\n",
    "    buttonClick.click()\n",
    "    time.sleep(5)\n",
    "    jobdescription = driver.find_element_by_id(\"value_PROJECT_DESC\")\n",
    "    var=jobdescription.text\n",
    "    textValue.append(var)\n",
    "    backButton = driver.find_element_by_id(\"rc_backButton_\")\n",
    "    backButton.click()\n",
    "#     driver.get('https://jobcareer.53.com/sap/public/bc/ur/YEOPGL101307/standard/ExternalJobBoard/index.html')\n",
    "    time.sleep(5)\n",
    "    #textValue.append(txt.text)\n",
    "    #creating a list of all the id's\n",
    "    \n",
    "nextpage8 = driver.find_element_by_id(\"rc_table_rc_tableListJobs_showAlltableKit_next_but\")\n",
    "nextpage8.click()"
   ]
  },
  {
   "cell_type": "markdown",
   "metadata": {},
   "source": [
    "# page9"
   ]
  },
  {
   "cell_type": "code",
   "execution_count": 32,
   "metadata": {},
   "outputs": [],
   "source": [
    "titleList9= ['RCtable_rc_tableListJobs_showAll_field_REST_INFO_51922364',\n",
    "             'RCtable_rc_tableListJobs_showAll_field_REST_INFO_51921661',\n",
    "            'RCtable_rc_tableListJobs_showAll_field_REST_INFO_51922677',\n",
    "            'RCtable_rc_tableListJobs_showAll_field_REST_INFO_51828530',\n",
    "            'RCtable_rc_tableListJobs_showAll_field_REST_INFO_51879477']"
   ]
  },
  {
   "cell_type": "code",
   "execution_count": 33,
   "metadata": {},
   "outputs": [],
   "source": [
    "#loop for job description of jobs on ninth page\n",
    "for x in titleList9:\n",
    "    buttonClick = driver.find_element_by_id(x)\n",
    "    #time.sleep(5)\n",
    "    buttonClick.click()\n",
    "    time.sleep(5)\n",
    "    jobdescription = driver.find_element_by_id(\"value_PROJECT_DESC\")\n",
    "    var=jobdescription.text\n",
    "    textValue.append(var)\n",
    "    backButton = driver.find_element_by_id(\"rc_backButton_\")\n",
    "    backButton.click()\n",
    "#     driver.get('https://jobcareer.53.com/sap/public/bc/ur/YEOPGL101307/standard/ExternalJobBoard/index.html')\n",
    "    time.sleep(5)\n",
    "    #textValue.append(txt.text)\n",
    "    #creating a list of all the id's\n",
    "    \n",
    "nextpage9 = driver.find_element_by_id(\"rc_table_rc_tableListJobs_showAlltableKit_next_but\")\n",
    "nextpage9.click()"
   ]
  },
  {
   "cell_type": "markdown",
   "metadata": {},
   "source": [
    "# page10"
   ]
  },
  {
   "cell_type": "code",
   "execution_count": 34,
   "metadata": {},
   "outputs": [],
   "source": [
    "titleList10= ['RCtable_rc_tableListJobs_showAll_field_REST_INFO_51922581',\n",
    "              'RCtable_rc_tableListJobs_showAll_field_REST_INFO_51921706',\n",
    "             'RCtable_rc_tableListJobs_showAll_field_REST_INFO_51922361',\n",
    "             'RCtable_rc_tableListJobs_showAll_field_REST_INFO_51922527',\n",
    "             'RCtable_rc_tableListJobs_showAll_field_REST_INFO_51908131']"
   ]
  },
  {
   "cell_type": "code",
   "execution_count": 35,
   "metadata": {},
   "outputs": [],
   "source": [
    "#loop for job description of jobs on tenth page\n",
    "for x in titleList10:\n",
    "    buttonClick = driver.find_element_by_id(x)\n",
    "    #time.sleep(5)\n",
    "    buttonClick.click()\n",
    "    time.sleep(5)\n",
    "    jobdescription = driver.find_element_by_id(\"value_PROJECT_DESC\")\n",
    "    var=jobdescription.text\n",
    "    textValue.append(var)\n",
    "    backButton = driver.find_element_by_id(\"rc_backButton_\")\n",
    "    backButton.click()\n",
    "#     driver.get('https://jobcareer.53.com/sap/public/bc/ur/YEOPGL101307/standard/ExternalJobBoard/index.html')\n",
    "    time.sleep(5)\n",
    "    #textValue.append(txt.text)\n",
    "    #creating a list of all the id's\n",
    "    \n"
   ]
  },
  {
   "cell_type": "code",
   "execution_count": 37,
   "metadata": {},
   "outputs": [
    {
     "name": "stdout",
     "output_type": "stream",
     "text": [
      "GENERAL FUNCTION:\n",
      "This position is responsible for the strategic overall management of clients' plans and objectives and is also responsible for developing and maintaining relationships with other internal and external business partners and carriers. Collaborates withtheteam to consistently deliver high-quality customer service and ensures service standards including execution, delivery and retention are achieved.\n",
      "\n",
      "The role is responsible and accountable for risk by openly exchanging ideas and opinions, elevating concerns, and personally following policies and procedures as defined. Accountable for always doing the right thing for customers and colleagues,andensures that actions and behaviors drive a positive customer experience. While operating within the Bank's risk appetite, achieves results by consistently identifying, assessing, managing, monitoring, and reporting risks of all types.\n",
      "\n",
      "\n",
      "\n",
      "ESSENTIAL DUTIES AND RESPONSIBILITIES:\n",
      ". Responsible for the overall management, continued assistance with and retention of an assigned book of business. The AE's main focus is to understand their clients' business objectives and assist in developing plans that support clients' goals.\n",
      ". Deals with enrollment process management; benchmarking, RFP process and the marketing of clients' coverage, financial review, and coordination of onboarding for new customers. AE's are also responsible for identifying new opportunities ofaddingadditional lines of coverage for the client, and educating clients concerning the regulatory environment. Assists clients with compliance issues, as necessary.\n",
      ". Responsible for coordinating a joint effort by working with the Advisor, Account Manager, and\n",
      "Marketing Coordinator to deliver products and services to clients. This process for each client will be coordinated through a customized annual service timeline for each customer assigned in their book of business. The service timeline will allow theAEto oversee the renewal process that includes; marketing activities, underwriting and renewal development, and negotiating on behalf of client.\n",
      ". Follows agency policies and procedures, including reviewing client contracts, ordering carrier reporting for clients, and maintaining files.\n",
      ". Participates in special projects/teams, assists in workflow review and improvement initiatives, and performs all other activities inside and outside of job scope.\n",
      ". Gathers data for quotes and prepares quote request submissions; completes application for new business submissions\n",
      ". Reviews, markets, and delivers renewals as needed; processes and reviews plan amendments.\n",
      ". Must be able to profile clients and then articulate complex concepts, in an understandable way and converse with clients and their advisors convincingly.\n",
      ". Leadership oversight for client objectives and head the delivery of final product & financial oversight for the clients by way of reviewing, marketing, and working closely with the producers and clients on new business and renewals as needed;processesand reviews plan amendments.\n",
      "\n",
      "\n",
      "SUPERVISORY RESPONSIBILITIES: None\n"
     ]
    }
   ],
   "source": [
    "print(textValue[10])"
   ]
  },
  {
   "cell_type": "markdown",
   "metadata": {},
   "source": [
    "# getting the titles of all the jobs"
   ]
  },
  {
   "cell_type": "code",
   "execution_count": 59,
   "metadata": {},
   "outputs": [
    {
     "ename": "MaxRetryError",
     "evalue": "HTTPConnectionPool(host='127.0.0.1', port=60439): Max retries exceeded with url: /session/63b46a5c68548fdf9c9107ddb8fd8f55/source (Caused by NewConnectionError('<urllib3.connection.HTTPConnection object at 0x0000023A47DFB4A8>: Failed to establish a new connection: [WinError 10061] No connection could be made because the target machine actively refused it'))",
     "output_type": "error",
     "traceback": [
      "\u001b[1;31m---------------------------------------------------------------------------\u001b[0m",
      "\u001b[1;31mConnectionRefusedError\u001b[0m                    Traceback (most recent call last)",
      "\u001b[1;32mC:\\ProgramData\\Anaconda3\\lib\\site-packages\\urllib3\\connection.py\u001b[0m in \u001b[0;36m_new_conn\u001b[1;34m(self)\u001b[0m\n\u001b[0;32m    158\u001b[0m             conn = connection.create_connection(\n\u001b[1;32m--> 159\u001b[1;33m                 (self._dns_host, self.port), self.timeout, **extra_kw)\n\u001b[0m\u001b[0;32m    160\u001b[0m \u001b[1;33m\u001b[0m\u001b[0m\n",
      "\u001b[1;32mC:\\ProgramData\\Anaconda3\\lib\\site-packages\\urllib3\\util\\connection.py\u001b[0m in \u001b[0;36mcreate_connection\u001b[1;34m(address, timeout, source_address, socket_options)\u001b[0m\n\u001b[0;32m     79\u001b[0m     \u001b[1;32mif\u001b[0m \u001b[0merr\u001b[0m \u001b[1;32mis\u001b[0m \u001b[1;32mnot\u001b[0m \u001b[1;32mNone\u001b[0m\u001b[1;33m:\u001b[0m\u001b[1;33m\u001b[0m\u001b[1;33m\u001b[0m\u001b[0m\n\u001b[1;32m---> 80\u001b[1;33m         \u001b[1;32mraise\u001b[0m \u001b[0merr\u001b[0m\u001b[1;33m\u001b[0m\u001b[1;33m\u001b[0m\u001b[0m\n\u001b[0m\u001b[0;32m     81\u001b[0m \u001b[1;33m\u001b[0m\u001b[0m\n",
      "\u001b[1;32mC:\\ProgramData\\Anaconda3\\lib\\site-packages\\urllib3\\util\\connection.py\u001b[0m in \u001b[0;36mcreate_connection\u001b[1;34m(address, timeout, source_address, socket_options)\u001b[0m\n\u001b[0;32m     69\u001b[0m                 \u001b[0msock\u001b[0m\u001b[1;33m.\u001b[0m\u001b[0mbind\u001b[0m\u001b[1;33m(\u001b[0m\u001b[0msource_address\u001b[0m\u001b[1;33m)\u001b[0m\u001b[1;33m\u001b[0m\u001b[1;33m\u001b[0m\u001b[0m\n\u001b[1;32m---> 70\u001b[1;33m             \u001b[0msock\u001b[0m\u001b[1;33m.\u001b[0m\u001b[0mconnect\u001b[0m\u001b[1;33m(\u001b[0m\u001b[0msa\u001b[0m\u001b[1;33m)\u001b[0m\u001b[1;33m\u001b[0m\u001b[1;33m\u001b[0m\u001b[0m\n\u001b[0m\u001b[0;32m     71\u001b[0m             \u001b[1;32mreturn\u001b[0m \u001b[0msock\u001b[0m\u001b[1;33m\u001b[0m\u001b[1;33m\u001b[0m\u001b[0m\n",
      "\u001b[1;31mConnectionRefusedError\u001b[0m: [WinError 10061] No connection could be made because the target machine actively refused it",
      "\nDuring handling of the above exception, another exception occurred:\n",
      "\u001b[1;31mNewConnectionError\u001b[0m                        Traceback (most recent call last)",
      "\u001b[1;32mC:\\ProgramData\\Anaconda3\\lib\\site-packages\\urllib3\\connectionpool.py\u001b[0m in \u001b[0;36murlopen\u001b[1;34m(self, method, url, body, headers, retries, redirect, assert_same_host, timeout, pool_timeout, release_conn, chunked, body_pos, **response_kw)\u001b[0m\n\u001b[0;32m    599\u001b[0m                                                   \u001b[0mbody\u001b[0m\u001b[1;33m=\u001b[0m\u001b[0mbody\u001b[0m\u001b[1;33m,\u001b[0m \u001b[0mheaders\u001b[0m\u001b[1;33m=\u001b[0m\u001b[0mheaders\u001b[0m\u001b[1;33m,\u001b[0m\u001b[1;33m\u001b[0m\u001b[1;33m\u001b[0m\u001b[0m\n\u001b[1;32m--> 600\u001b[1;33m                                                   chunked=chunked)\n\u001b[0m\u001b[0;32m    601\u001b[0m \u001b[1;33m\u001b[0m\u001b[0m\n",
      "\u001b[1;32mC:\\ProgramData\\Anaconda3\\lib\\site-packages\\urllib3\\connectionpool.py\u001b[0m in \u001b[0;36m_make_request\u001b[1;34m(self, conn, method, url, timeout, chunked, **httplib_request_kw)\u001b[0m\n\u001b[0;32m    353\u001b[0m         \u001b[1;32melse\u001b[0m\u001b[1;33m:\u001b[0m\u001b[1;33m\u001b[0m\u001b[1;33m\u001b[0m\u001b[0m\n\u001b[1;32m--> 354\u001b[1;33m             \u001b[0mconn\u001b[0m\u001b[1;33m.\u001b[0m\u001b[0mrequest\u001b[0m\u001b[1;33m(\u001b[0m\u001b[0mmethod\u001b[0m\u001b[1;33m,\u001b[0m \u001b[0murl\u001b[0m\u001b[1;33m,\u001b[0m \u001b[1;33m**\u001b[0m\u001b[0mhttplib_request_kw\u001b[0m\u001b[1;33m)\u001b[0m\u001b[1;33m\u001b[0m\u001b[1;33m\u001b[0m\u001b[0m\n\u001b[0m\u001b[0;32m    355\u001b[0m \u001b[1;33m\u001b[0m\u001b[0m\n",
      "\u001b[1;32mC:\\ProgramData\\Anaconda3\\lib\\http\\client.py\u001b[0m in \u001b[0;36mrequest\u001b[1;34m(self, method, url, body, headers, encode_chunked)\u001b[0m\n\u001b[0;32m   1228\u001b[0m         \u001b[1;34m\"\"\"Send a complete request to the server.\"\"\"\u001b[0m\u001b[1;33m\u001b[0m\u001b[1;33m\u001b[0m\u001b[0m\n\u001b[1;32m-> 1229\u001b[1;33m         \u001b[0mself\u001b[0m\u001b[1;33m.\u001b[0m\u001b[0m_send_request\u001b[0m\u001b[1;33m(\u001b[0m\u001b[0mmethod\u001b[0m\u001b[1;33m,\u001b[0m \u001b[0murl\u001b[0m\u001b[1;33m,\u001b[0m \u001b[0mbody\u001b[0m\u001b[1;33m,\u001b[0m \u001b[0mheaders\u001b[0m\u001b[1;33m,\u001b[0m \u001b[0mencode_chunked\u001b[0m\u001b[1;33m)\u001b[0m\u001b[1;33m\u001b[0m\u001b[1;33m\u001b[0m\u001b[0m\n\u001b[0m\u001b[0;32m   1230\u001b[0m \u001b[1;33m\u001b[0m\u001b[0m\n",
      "\u001b[1;32mC:\\ProgramData\\Anaconda3\\lib\\http\\client.py\u001b[0m in \u001b[0;36m_send_request\u001b[1;34m(self, method, url, body, headers, encode_chunked)\u001b[0m\n\u001b[0;32m   1274\u001b[0m             \u001b[0mbody\u001b[0m \u001b[1;33m=\u001b[0m \u001b[0m_encode\u001b[0m\u001b[1;33m(\u001b[0m\u001b[0mbody\u001b[0m\u001b[1;33m,\u001b[0m \u001b[1;34m'body'\u001b[0m\u001b[1;33m)\u001b[0m\u001b[1;33m\u001b[0m\u001b[1;33m\u001b[0m\u001b[0m\n\u001b[1;32m-> 1275\u001b[1;33m         \u001b[0mself\u001b[0m\u001b[1;33m.\u001b[0m\u001b[0mendheaders\u001b[0m\u001b[1;33m(\u001b[0m\u001b[0mbody\u001b[0m\u001b[1;33m,\u001b[0m \u001b[0mencode_chunked\u001b[0m\u001b[1;33m=\u001b[0m\u001b[0mencode_chunked\u001b[0m\u001b[1;33m)\u001b[0m\u001b[1;33m\u001b[0m\u001b[1;33m\u001b[0m\u001b[0m\n\u001b[0m\u001b[0;32m   1276\u001b[0m \u001b[1;33m\u001b[0m\u001b[0m\n",
      "\u001b[1;32mC:\\ProgramData\\Anaconda3\\lib\\http\\client.py\u001b[0m in \u001b[0;36mendheaders\u001b[1;34m(self, message_body, encode_chunked)\u001b[0m\n\u001b[0;32m   1223\u001b[0m             \u001b[1;32mraise\u001b[0m \u001b[0mCannotSendHeader\u001b[0m\u001b[1;33m(\u001b[0m\u001b[1;33m)\u001b[0m\u001b[1;33m\u001b[0m\u001b[1;33m\u001b[0m\u001b[0m\n\u001b[1;32m-> 1224\u001b[1;33m         \u001b[0mself\u001b[0m\u001b[1;33m.\u001b[0m\u001b[0m_send_output\u001b[0m\u001b[1;33m(\u001b[0m\u001b[0mmessage_body\u001b[0m\u001b[1;33m,\u001b[0m \u001b[0mencode_chunked\u001b[0m\u001b[1;33m=\u001b[0m\u001b[0mencode_chunked\u001b[0m\u001b[1;33m)\u001b[0m\u001b[1;33m\u001b[0m\u001b[1;33m\u001b[0m\u001b[0m\n\u001b[0m\u001b[0;32m   1225\u001b[0m \u001b[1;33m\u001b[0m\u001b[0m\n",
      "\u001b[1;32mC:\\ProgramData\\Anaconda3\\lib\\http\\client.py\u001b[0m in \u001b[0;36m_send_output\u001b[1;34m(self, message_body, encode_chunked)\u001b[0m\n\u001b[0;32m   1015\u001b[0m         \u001b[1;32mdel\u001b[0m \u001b[0mself\u001b[0m\u001b[1;33m.\u001b[0m\u001b[0m_buffer\u001b[0m\u001b[1;33m[\u001b[0m\u001b[1;33m:\u001b[0m\u001b[1;33m]\u001b[0m\u001b[1;33m\u001b[0m\u001b[1;33m\u001b[0m\u001b[0m\n\u001b[1;32m-> 1016\u001b[1;33m         \u001b[0mself\u001b[0m\u001b[1;33m.\u001b[0m\u001b[0msend\u001b[0m\u001b[1;33m(\u001b[0m\u001b[0mmsg\u001b[0m\u001b[1;33m)\u001b[0m\u001b[1;33m\u001b[0m\u001b[1;33m\u001b[0m\u001b[0m\n\u001b[0m\u001b[0;32m   1017\u001b[0m \u001b[1;33m\u001b[0m\u001b[0m\n",
      "\u001b[1;32mC:\\ProgramData\\Anaconda3\\lib\\http\\client.py\u001b[0m in \u001b[0;36msend\u001b[1;34m(self, data)\u001b[0m\n\u001b[0;32m    955\u001b[0m             \u001b[1;32mif\u001b[0m \u001b[0mself\u001b[0m\u001b[1;33m.\u001b[0m\u001b[0mauto_open\u001b[0m\u001b[1;33m:\u001b[0m\u001b[1;33m\u001b[0m\u001b[1;33m\u001b[0m\u001b[0m\n\u001b[1;32m--> 956\u001b[1;33m                 \u001b[0mself\u001b[0m\u001b[1;33m.\u001b[0m\u001b[0mconnect\u001b[0m\u001b[1;33m(\u001b[0m\u001b[1;33m)\u001b[0m\u001b[1;33m\u001b[0m\u001b[1;33m\u001b[0m\u001b[0m\n\u001b[0m\u001b[0;32m    957\u001b[0m             \u001b[1;32melse\u001b[0m\u001b[1;33m:\u001b[0m\u001b[1;33m\u001b[0m\u001b[1;33m\u001b[0m\u001b[0m\n",
      "\u001b[1;32mC:\\ProgramData\\Anaconda3\\lib\\site-packages\\urllib3\\connection.py\u001b[0m in \u001b[0;36mconnect\u001b[1;34m(self)\u001b[0m\n\u001b[0;32m    180\u001b[0m     \u001b[1;32mdef\u001b[0m \u001b[0mconnect\u001b[0m\u001b[1;33m(\u001b[0m\u001b[0mself\u001b[0m\u001b[1;33m)\u001b[0m\u001b[1;33m:\u001b[0m\u001b[1;33m\u001b[0m\u001b[1;33m\u001b[0m\u001b[0m\n\u001b[1;32m--> 181\u001b[1;33m         \u001b[0mconn\u001b[0m \u001b[1;33m=\u001b[0m \u001b[0mself\u001b[0m\u001b[1;33m.\u001b[0m\u001b[0m_new_conn\u001b[0m\u001b[1;33m(\u001b[0m\u001b[1;33m)\u001b[0m\u001b[1;33m\u001b[0m\u001b[1;33m\u001b[0m\u001b[0m\n\u001b[0m\u001b[0;32m    182\u001b[0m         \u001b[0mself\u001b[0m\u001b[1;33m.\u001b[0m\u001b[0m_prepare_conn\u001b[0m\u001b[1;33m(\u001b[0m\u001b[0mconn\u001b[0m\u001b[1;33m)\u001b[0m\u001b[1;33m\u001b[0m\u001b[1;33m\u001b[0m\u001b[0m\n",
      "\u001b[1;32mC:\\ProgramData\\Anaconda3\\lib\\site-packages\\urllib3\\connection.py\u001b[0m in \u001b[0;36m_new_conn\u001b[1;34m(self)\u001b[0m\n\u001b[0;32m    167\u001b[0m             raise NewConnectionError(\n\u001b[1;32m--> 168\u001b[1;33m                 self, \"Failed to establish a new connection: %s\" % e)\n\u001b[0m\u001b[0;32m    169\u001b[0m \u001b[1;33m\u001b[0m\u001b[0m\n",
      "\u001b[1;31mNewConnectionError\u001b[0m: <urllib3.connection.HTTPConnection object at 0x0000023A47DFB4A8>: Failed to establish a new connection: [WinError 10061] No connection could be made because the target machine actively refused it",
      "\nDuring handling of the above exception, another exception occurred:\n",
      "\u001b[1;31mMaxRetryError\u001b[0m                             Traceback (most recent call last)",
      "\u001b[1;32m<ipython-input-59-46562511be49>\u001b[0m in \u001b[0;36m<module>\u001b[1;34m\u001b[0m\n\u001b[0;32m      1\u001b[0m \u001b[1;32mwhile\u001b[0m \u001b[1;32mTrue\u001b[0m\u001b[1;33m:\u001b[0m\u001b[1;33m\u001b[0m\u001b[1;33m\u001b[0m\u001b[0m\n\u001b[1;32m----> 2\u001b[1;33m     \u001b[0msoup\u001b[0m \u001b[1;33m=\u001b[0m \u001b[0mBeautifulSoup\u001b[0m\u001b[1;33m(\u001b[0m\u001b[0mdriver\u001b[0m\u001b[1;33m.\u001b[0m\u001b[0mpage_source\u001b[0m\u001b[1;33m,\u001b[0m \u001b[1;34m'html5lib'\u001b[0m\u001b[1;33m)\u001b[0m\u001b[1;33m\u001b[0m\u001b[1;33m\u001b[0m\u001b[0m\n\u001b[0m\u001b[0;32m      3\u001b[0m     \u001b[0mtable\u001b[0m \u001b[1;33m=\u001b[0m \u001b[0msoup\u001b[0m\u001b[1;33m.\u001b[0m\u001b[0mfind_all\u001b[0m\u001b[1;33m(\u001b[0m\u001b[0mid\u001b[0m\u001b[1;33m=\u001b[0m\u001b[1;34m'rc_table_rc_tableListJobs_showAll'\u001b[0m\u001b[1;33m)\u001b[0m\u001b[1;33m[\u001b[0m\u001b[1;36m0\u001b[0m\u001b[1;33m]\u001b[0m\u001b[1;33m\u001b[0m\u001b[1;33m\u001b[0m\u001b[0m\n\u001b[0;32m      4\u001b[0m     \u001b[1;32mfor\u001b[0m \u001b[0minfo\u001b[0m \u001b[1;32min\u001b[0m \u001b[0mtable\u001b[0m\u001b[1;33m.\u001b[0m\u001b[0mfind_all\u001b[0m\u001b[1;33m(\u001b[0m\u001b[1;34m'tr'\u001b[0m\u001b[1;33m)\u001b[0m\u001b[1;33m:\u001b[0m\u001b[1;33m\u001b[0m\u001b[1;33m\u001b[0m\u001b[0m\n\u001b[0;32m      5\u001b[0m         \u001b[0mdata\u001b[0m \u001b[1;33m=\u001b[0m \u001b[1;33m[\u001b[0m\u001b[0mitem\u001b[0m\u001b[1;33m.\u001b[0m\u001b[0mtext\u001b[0m \u001b[1;32mfor\u001b[0m \u001b[0mitem\u001b[0m \u001b[1;32min\u001b[0m \u001b[0minfo\u001b[0m\u001b[1;33m.\u001b[0m\u001b[0mfind_all\u001b[0m\u001b[1;33m(\u001b[0m\u001b[1;34m\"td\"\u001b[0m\u001b[1;33m)\u001b[0m\u001b[1;33m]\u001b[0m\u001b[1;33m\u001b[0m\u001b[1;33m\u001b[0m\u001b[0m\n",
      "\u001b[1;32mC:\\ProgramData\\Anaconda3\\lib\\site-packages\\selenium\\webdriver\\remote\\webdriver.py\u001b[0m in \u001b[0;36mpage_source\u001b[1;34m(self)\u001b[0m\n\u001b[0;32m    677\u001b[0m             \u001b[0mdriver\u001b[0m\u001b[1;33m.\u001b[0m\u001b[0mpage_source\u001b[0m\u001b[1;33m\u001b[0m\u001b[1;33m\u001b[0m\u001b[0m\n\u001b[0;32m    678\u001b[0m         \"\"\"\n\u001b[1;32m--> 679\u001b[1;33m         \u001b[1;32mreturn\u001b[0m \u001b[0mself\u001b[0m\u001b[1;33m.\u001b[0m\u001b[0mexecute\u001b[0m\u001b[1;33m(\u001b[0m\u001b[0mCommand\u001b[0m\u001b[1;33m.\u001b[0m\u001b[0mGET_PAGE_SOURCE\u001b[0m\u001b[1;33m)\u001b[0m\u001b[1;33m[\u001b[0m\u001b[1;34m'value'\u001b[0m\u001b[1;33m]\u001b[0m\u001b[1;33m\u001b[0m\u001b[1;33m\u001b[0m\u001b[0m\n\u001b[0m\u001b[0;32m    680\u001b[0m \u001b[1;33m\u001b[0m\u001b[0m\n\u001b[0;32m    681\u001b[0m     \u001b[1;32mdef\u001b[0m \u001b[0mclose\u001b[0m\u001b[1;33m(\u001b[0m\u001b[0mself\u001b[0m\u001b[1;33m)\u001b[0m\u001b[1;33m:\u001b[0m\u001b[1;33m\u001b[0m\u001b[1;33m\u001b[0m\u001b[0m\n",
      "\u001b[1;32mC:\\ProgramData\\Anaconda3\\lib\\site-packages\\selenium\\webdriver\\remote\\webdriver.py\u001b[0m in \u001b[0;36mexecute\u001b[1;34m(self, driver_command, params)\u001b[0m\n\u001b[0;32m    317\u001b[0m \u001b[1;33m\u001b[0m\u001b[0m\n\u001b[0;32m    318\u001b[0m         \u001b[0mparams\u001b[0m \u001b[1;33m=\u001b[0m \u001b[0mself\u001b[0m\u001b[1;33m.\u001b[0m\u001b[0m_wrap_value\u001b[0m\u001b[1;33m(\u001b[0m\u001b[0mparams\u001b[0m\u001b[1;33m)\u001b[0m\u001b[1;33m\u001b[0m\u001b[1;33m\u001b[0m\u001b[0m\n\u001b[1;32m--> 319\u001b[1;33m         \u001b[0mresponse\u001b[0m \u001b[1;33m=\u001b[0m \u001b[0mself\u001b[0m\u001b[1;33m.\u001b[0m\u001b[0mcommand_executor\u001b[0m\u001b[1;33m.\u001b[0m\u001b[0mexecute\u001b[0m\u001b[1;33m(\u001b[0m\u001b[0mdriver_command\u001b[0m\u001b[1;33m,\u001b[0m \u001b[0mparams\u001b[0m\u001b[1;33m)\u001b[0m\u001b[1;33m\u001b[0m\u001b[1;33m\u001b[0m\u001b[0m\n\u001b[0m\u001b[0;32m    320\u001b[0m         \u001b[1;32mif\u001b[0m \u001b[0mresponse\u001b[0m\u001b[1;33m:\u001b[0m\u001b[1;33m\u001b[0m\u001b[1;33m\u001b[0m\u001b[0m\n\u001b[0;32m    321\u001b[0m             \u001b[0mself\u001b[0m\u001b[1;33m.\u001b[0m\u001b[0merror_handler\u001b[0m\u001b[1;33m.\u001b[0m\u001b[0mcheck_response\u001b[0m\u001b[1;33m(\u001b[0m\u001b[0mresponse\u001b[0m\u001b[1;33m)\u001b[0m\u001b[1;33m\u001b[0m\u001b[1;33m\u001b[0m\u001b[0m\n",
      "\u001b[1;32mC:\\ProgramData\\Anaconda3\\lib\\site-packages\\selenium\\webdriver\\remote\\remote_connection.py\u001b[0m in \u001b[0;36mexecute\u001b[1;34m(self, command, params)\u001b[0m\n\u001b[0;32m    372\u001b[0m         \u001b[0mdata\u001b[0m \u001b[1;33m=\u001b[0m \u001b[0mutils\u001b[0m\u001b[1;33m.\u001b[0m\u001b[0mdump_json\u001b[0m\u001b[1;33m(\u001b[0m\u001b[0mparams\u001b[0m\u001b[1;33m)\u001b[0m\u001b[1;33m\u001b[0m\u001b[1;33m\u001b[0m\u001b[0m\n\u001b[0;32m    373\u001b[0m         \u001b[0murl\u001b[0m \u001b[1;33m=\u001b[0m \u001b[1;34m'%s%s'\u001b[0m \u001b[1;33m%\u001b[0m \u001b[1;33m(\u001b[0m\u001b[0mself\u001b[0m\u001b[1;33m.\u001b[0m\u001b[0m_url\u001b[0m\u001b[1;33m,\u001b[0m \u001b[0mpath\u001b[0m\u001b[1;33m)\u001b[0m\u001b[1;33m\u001b[0m\u001b[1;33m\u001b[0m\u001b[0m\n\u001b[1;32m--> 374\u001b[1;33m         \u001b[1;32mreturn\u001b[0m \u001b[0mself\u001b[0m\u001b[1;33m.\u001b[0m\u001b[0m_request\u001b[0m\u001b[1;33m(\u001b[0m\u001b[0mcommand_info\u001b[0m\u001b[1;33m[\u001b[0m\u001b[1;36m0\u001b[0m\u001b[1;33m]\u001b[0m\u001b[1;33m,\u001b[0m \u001b[0murl\u001b[0m\u001b[1;33m,\u001b[0m \u001b[0mbody\u001b[0m\u001b[1;33m=\u001b[0m\u001b[0mdata\u001b[0m\u001b[1;33m)\u001b[0m\u001b[1;33m\u001b[0m\u001b[1;33m\u001b[0m\u001b[0m\n\u001b[0m\u001b[0;32m    375\u001b[0m \u001b[1;33m\u001b[0m\u001b[0m\n\u001b[0;32m    376\u001b[0m     \u001b[1;32mdef\u001b[0m \u001b[0m_request\u001b[0m\u001b[1;33m(\u001b[0m\u001b[0mself\u001b[0m\u001b[1;33m,\u001b[0m \u001b[0mmethod\u001b[0m\u001b[1;33m,\u001b[0m \u001b[0murl\u001b[0m\u001b[1;33m,\u001b[0m \u001b[0mbody\u001b[0m\u001b[1;33m=\u001b[0m\u001b[1;32mNone\u001b[0m\u001b[1;33m)\u001b[0m\u001b[1;33m:\u001b[0m\u001b[1;33m\u001b[0m\u001b[1;33m\u001b[0m\u001b[0m\n",
      "\u001b[1;32mC:\\ProgramData\\Anaconda3\\lib\\site-packages\\selenium\\webdriver\\remote\\remote_connection.py\u001b[0m in \u001b[0;36m_request\u001b[1;34m(self, method, url, body)\u001b[0m\n\u001b[0;32m    395\u001b[0m \u001b[1;33m\u001b[0m\u001b[0m\n\u001b[0;32m    396\u001b[0m         \u001b[1;32mif\u001b[0m \u001b[0mself\u001b[0m\u001b[1;33m.\u001b[0m\u001b[0mkeep_alive\u001b[0m\u001b[1;33m:\u001b[0m\u001b[1;33m\u001b[0m\u001b[1;33m\u001b[0m\u001b[0m\n\u001b[1;32m--> 397\u001b[1;33m             \u001b[0mresp\u001b[0m \u001b[1;33m=\u001b[0m \u001b[0mself\u001b[0m\u001b[1;33m.\u001b[0m\u001b[0m_conn\u001b[0m\u001b[1;33m.\u001b[0m\u001b[0mrequest\u001b[0m\u001b[1;33m(\u001b[0m\u001b[0mmethod\u001b[0m\u001b[1;33m,\u001b[0m \u001b[0murl\u001b[0m\u001b[1;33m,\u001b[0m \u001b[0mbody\u001b[0m\u001b[1;33m=\u001b[0m\u001b[0mbody\u001b[0m\u001b[1;33m,\u001b[0m \u001b[0mheaders\u001b[0m\u001b[1;33m=\u001b[0m\u001b[0mheaders\u001b[0m\u001b[1;33m)\u001b[0m\u001b[1;33m\u001b[0m\u001b[1;33m\u001b[0m\u001b[0m\n\u001b[0m\u001b[0;32m    398\u001b[0m \u001b[1;33m\u001b[0m\u001b[0m\n\u001b[0;32m    399\u001b[0m             \u001b[0mstatuscode\u001b[0m \u001b[1;33m=\u001b[0m \u001b[0mresp\u001b[0m\u001b[1;33m.\u001b[0m\u001b[0mstatus\u001b[0m\u001b[1;33m\u001b[0m\u001b[1;33m\u001b[0m\u001b[0m\n",
      "\u001b[1;32mC:\\ProgramData\\Anaconda3\\lib\\site-packages\\urllib3\\request.py\u001b[0m in \u001b[0;36mrequest\u001b[1;34m(self, method, url, fields, headers, **urlopen_kw)\u001b[0m\n\u001b[0;32m     66\u001b[0m             return self.request_encode_url(method, url, fields=fields,\n\u001b[0;32m     67\u001b[0m                                            \u001b[0mheaders\u001b[0m\u001b[1;33m=\u001b[0m\u001b[0mheaders\u001b[0m\u001b[1;33m,\u001b[0m\u001b[1;33m\u001b[0m\u001b[1;33m\u001b[0m\u001b[0m\n\u001b[1;32m---> 68\u001b[1;33m                                            **urlopen_kw)\n\u001b[0m\u001b[0;32m     69\u001b[0m         \u001b[1;32melse\u001b[0m\u001b[1;33m:\u001b[0m\u001b[1;33m\u001b[0m\u001b[1;33m\u001b[0m\u001b[0m\n\u001b[0;32m     70\u001b[0m             return self.request_encode_body(method, url, fields=fields,\n",
      "\u001b[1;32mC:\\ProgramData\\Anaconda3\\lib\\site-packages\\urllib3\\request.py\u001b[0m in \u001b[0;36mrequest_encode_url\u001b[1;34m(self, method, url, fields, headers, **urlopen_kw)\u001b[0m\n\u001b[0;32m     87\u001b[0m             \u001b[0murl\u001b[0m \u001b[1;33m+=\u001b[0m \u001b[1;34m'?'\u001b[0m \u001b[1;33m+\u001b[0m \u001b[0murlencode\u001b[0m\u001b[1;33m(\u001b[0m\u001b[0mfields\u001b[0m\u001b[1;33m)\u001b[0m\u001b[1;33m\u001b[0m\u001b[1;33m\u001b[0m\u001b[0m\n\u001b[0;32m     88\u001b[0m \u001b[1;33m\u001b[0m\u001b[0m\n\u001b[1;32m---> 89\u001b[1;33m         \u001b[1;32mreturn\u001b[0m \u001b[0mself\u001b[0m\u001b[1;33m.\u001b[0m\u001b[0murlopen\u001b[0m\u001b[1;33m(\u001b[0m\u001b[0mmethod\u001b[0m\u001b[1;33m,\u001b[0m \u001b[0murl\u001b[0m\u001b[1;33m,\u001b[0m \u001b[1;33m**\u001b[0m\u001b[0mextra_kw\u001b[0m\u001b[1;33m)\u001b[0m\u001b[1;33m\u001b[0m\u001b[1;33m\u001b[0m\u001b[0m\n\u001b[0m\u001b[0;32m     90\u001b[0m \u001b[1;33m\u001b[0m\u001b[0m\n\u001b[0;32m     91\u001b[0m     def request_encode_body(self, method, url, fields=None, headers=None,\n",
      "\u001b[1;32mC:\\ProgramData\\Anaconda3\\lib\\site-packages\\urllib3\\poolmanager.py\u001b[0m in \u001b[0;36murlopen\u001b[1;34m(self, method, url, redirect, **kw)\u001b[0m\n\u001b[0;32m    321\u001b[0m             \u001b[0mresponse\u001b[0m \u001b[1;33m=\u001b[0m \u001b[0mconn\u001b[0m\u001b[1;33m.\u001b[0m\u001b[0murlopen\u001b[0m\u001b[1;33m(\u001b[0m\u001b[0mmethod\u001b[0m\u001b[1;33m,\u001b[0m \u001b[0murl\u001b[0m\u001b[1;33m,\u001b[0m \u001b[1;33m**\u001b[0m\u001b[0mkw\u001b[0m\u001b[1;33m)\u001b[0m\u001b[1;33m\u001b[0m\u001b[1;33m\u001b[0m\u001b[0m\n\u001b[0;32m    322\u001b[0m         \u001b[1;32melse\u001b[0m\u001b[1;33m:\u001b[0m\u001b[1;33m\u001b[0m\u001b[1;33m\u001b[0m\u001b[0m\n\u001b[1;32m--> 323\u001b[1;33m             \u001b[0mresponse\u001b[0m \u001b[1;33m=\u001b[0m \u001b[0mconn\u001b[0m\u001b[1;33m.\u001b[0m\u001b[0murlopen\u001b[0m\u001b[1;33m(\u001b[0m\u001b[0mmethod\u001b[0m\u001b[1;33m,\u001b[0m \u001b[0mu\u001b[0m\u001b[1;33m.\u001b[0m\u001b[0mrequest_uri\u001b[0m\u001b[1;33m,\u001b[0m \u001b[1;33m**\u001b[0m\u001b[0mkw\u001b[0m\u001b[1;33m)\u001b[0m\u001b[1;33m\u001b[0m\u001b[1;33m\u001b[0m\u001b[0m\n\u001b[0m\u001b[0;32m    324\u001b[0m \u001b[1;33m\u001b[0m\u001b[0m\n\u001b[0;32m    325\u001b[0m         \u001b[0mredirect_location\u001b[0m \u001b[1;33m=\u001b[0m \u001b[0mredirect\u001b[0m \u001b[1;32mand\u001b[0m \u001b[0mresponse\u001b[0m\u001b[1;33m.\u001b[0m\u001b[0mget_redirect_location\u001b[0m\u001b[1;33m(\u001b[0m\u001b[1;33m)\u001b[0m\u001b[1;33m\u001b[0m\u001b[1;33m\u001b[0m\u001b[0m\n",
      "\u001b[1;32mC:\\ProgramData\\Anaconda3\\lib\\site-packages\\urllib3\\connectionpool.py\u001b[0m in \u001b[0;36murlopen\u001b[1;34m(self, method, url, body, headers, retries, redirect, assert_same_host, timeout, pool_timeout, release_conn, chunked, body_pos, **response_kw)\u001b[0m\n\u001b[0;32m    665\u001b[0m                                 \u001b[0mtimeout\u001b[0m\u001b[1;33m=\u001b[0m\u001b[0mtimeout\u001b[0m\u001b[1;33m,\u001b[0m \u001b[0mpool_timeout\u001b[0m\u001b[1;33m=\u001b[0m\u001b[0mpool_timeout\u001b[0m\u001b[1;33m,\u001b[0m\u001b[1;33m\u001b[0m\u001b[1;33m\u001b[0m\u001b[0m\n\u001b[0;32m    666\u001b[0m                                 \u001b[0mrelease_conn\u001b[0m\u001b[1;33m=\u001b[0m\u001b[0mrelease_conn\u001b[0m\u001b[1;33m,\u001b[0m \u001b[0mbody_pos\u001b[0m\u001b[1;33m=\u001b[0m\u001b[0mbody_pos\u001b[0m\u001b[1;33m,\u001b[0m\u001b[1;33m\u001b[0m\u001b[1;33m\u001b[0m\u001b[0m\n\u001b[1;32m--> 667\u001b[1;33m                                 **response_kw)\n\u001b[0m\u001b[0;32m    668\u001b[0m \u001b[1;33m\u001b[0m\u001b[0m\n\u001b[0;32m    669\u001b[0m         \u001b[1;32mdef\u001b[0m \u001b[0mdrain_and_release_conn\u001b[0m\u001b[1;33m(\u001b[0m\u001b[0mresponse\u001b[0m\u001b[1;33m)\u001b[0m\u001b[1;33m:\u001b[0m\u001b[1;33m\u001b[0m\u001b[1;33m\u001b[0m\u001b[0m\n",
      "\u001b[1;32mC:\\ProgramData\\Anaconda3\\lib\\site-packages\\urllib3\\connectionpool.py\u001b[0m in \u001b[0;36murlopen\u001b[1;34m(self, method, url, body, headers, retries, redirect, assert_same_host, timeout, pool_timeout, release_conn, chunked, body_pos, **response_kw)\u001b[0m\n\u001b[0;32m    665\u001b[0m                                 \u001b[0mtimeout\u001b[0m\u001b[1;33m=\u001b[0m\u001b[0mtimeout\u001b[0m\u001b[1;33m,\u001b[0m \u001b[0mpool_timeout\u001b[0m\u001b[1;33m=\u001b[0m\u001b[0mpool_timeout\u001b[0m\u001b[1;33m,\u001b[0m\u001b[1;33m\u001b[0m\u001b[1;33m\u001b[0m\u001b[0m\n\u001b[0;32m    666\u001b[0m                                 \u001b[0mrelease_conn\u001b[0m\u001b[1;33m=\u001b[0m\u001b[0mrelease_conn\u001b[0m\u001b[1;33m,\u001b[0m \u001b[0mbody_pos\u001b[0m\u001b[1;33m=\u001b[0m\u001b[0mbody_pos\u001b[0m\u001b[1;33m,\u001b[0m\u001b[1;33m\u001b[0m\u001b[1;33m\u001b[0m\u001b[0m\n\u001b[1;32m--> 667\u001b[1;33m                                 **response_kw)\n\u001b[0m\u001b[0;32m    668\u001b[0m \u001b[1;33m\u001b[0m\u001b[0m\n\u001b[0;32m    669\u001b[0m         \u001b[1;32mdef\u001b[0m \u001b[0mdrain_and_release_conn\u001b[0m\u001b[1;33m(\u001b[0m\u001b[0mresponse\u001b[0m\u001b[1;33m)\u001b[0m\u001b[1;33m:\u001b[0m\u001b[1;33m\u001b[0m\u001b[1;33m\u001b[0m\u001b[0m\n",
      "\u001b[1;32mC:\\ProgramData\\Anaconda3\\lib\\site-packages\\urllib3\\connectionpool.py\u001b[0m in \u001b[0;36murlopen\u001b[1;34m(self, method, url, body, headers, retries, redirect, assert_same_host, timeout, pool_timeout, release_conn, chunked, body_pos, **response_kw)\u001b[0m\n\u001b[0;32m    665\u001b[0m                                 \u001b[0mtimeout\u001b[0m\u001b[1;33m=\u001b[0m\u001b[0mtimeout\u001b[0m\u001b[1;33m,\u001b[0m \u001b[0mpool_timeout\u001b[0m\u001b[1;33m=\u001b[0m\u001b[0mpool_timeout\u001b[0m\u001b[1;33m,\u001b[0m\u001b[1;33m\u001b[0m\u001b[1;33m\u001b[0m\u001b[0m\n\u001b[0;32m    666\u001b[0m                                 \u001b[0mrelease_conn\u001b[0m\u001b[1;33m=\u001b[0m\u001b[0mrelease_conn\u001b[0m\u001b[1;33m,\u001b[0m \u001b[0mbody_pos\u001b[0m\u001b[1;33m=\u001b[0m\u001b[0mbody_pos\u001b[0m\u001b[1;33m,\u001b[0m\u001b[1;33m\u001b[0m\u001b[1;33m\u001b[0m\u001b[0m\n\u001b[1;32m--> 667\u001b[1;33m                                 **response_kw)\n\u001b[0m\u001b[0;32m    668\u001b[0m \u001b[1;33m\u001b[0m\u001b[0m\n\u001b[0;32m    669\u001b[0m         \u001b[1;32mdef\u001b[0m \u001b[0mdrain_and_release_conn\u001b[0m\u001b[1;33m(\u001b[0m\u001b[0mresponse\u001b[0m\u001b[1;33m)\u001b[0m\u001b[1;33m:\u001b[0m\u001b[1;33m\u001b[0m\u001b[1;33m\u001b[0m\u001b[0m\n",
      "\u001b[1;32mC:\\ProgramData\\Anaconda3\\lib\\site-packages\\urllib3\\connectionpool.py\u001b[0m in \u001b[0;36murlopen\u001b[1;34m(self, method, url, body, headers, retries, redirect, assert_same_host, timeout, pool_timeout, release_conn, chunked, body_pos, **response_kw)\u001b[0m\n\u001b[0;32m    636\u001b[0m \u001b[1;33m\u001b[0m\u001b[0m\n\u001b[0;32m    637\u001b[0m             retries = retries.increment(method, url, error=e, _pool=self,\n\u001b[1;32m--> 638\u001b[1;33m                                         _stacktrace=sys.exc_info()[2])\n\u001b[0m\u001b[0;32m    639\u001b[0m             \u001b[0mretries\u001b[0m\u001b[1;33m.\u001b[0m\u001b[0msleep\u001b[0m\u001b[1;33m(\u001b[0m\u001b[1;33m)\u001b[0m\u001b[1;33m\u001b[0m\u001b[1;33m\u001b[0m\u001b[0m\n\u001b[0;32m    640\u001b[0m \u001b[1;33m\u001b[0m\u001b[0m\n",
      "\u001b[1;32mC:\\ProgramData\\Anaconda3\\lib\\site-packages\\urllib3\\util\\retry.py\u001b[0m in \u001b[0;36mincrement\u001b[1;34m(self, method, url, response, error, _pool, _stacktrace)\u001b[0m\n\u001b[0;32m    396\u001b[0m \u001b[1;33m\u001b[0m\u001b[0m\n\u001b[0;32m    397\u001b[0m         \u001b[1;32mif\u001b[0m \u001b[0mnew_retry\u001b[0m\u001b[1;33m.\u001b[0m\u001b[0mis_exhausted\u001b[0m\u001b[1;33m(\u001b[0m\u001b[1;33m)\u001b[0m\u001b[1;33m:\u001b[0m\u001b[1;33m\u001b[0m\u001b[1;33m\u001b[0m\u001b[0m\n\u001b[1;32m--> 398\u001b[1;33m             \u001b[1;32mraise\u001b[0m \u001b[0mMaxRetryError\u001b[0m\u001b[1;33m(\u001b[0m\u001b[0m_pool\u001b[0m\u001b[1;33m,\u001b[0m \u001b[0murl\u001b[0m\u001b[1;33m,\u001b[0m \u001b[0merror\u001b[0m \u001b[1;32mor\u001b[0m \u001b[0mResponseError\u001b[0m\u001b[1;33m(\u001b[0m\u001b[0mcause\u001b[0m\u001b[1;33m)\u001b[0m\u001b[1;33m)\u001b[0m\u001b[1;33m\u001b[0m\u001b[1;33m\u001b[0m\u001b[0m\n\u001b[0m\u001b[0;32m    399\u001b[0m \u001b[1;33m\u001b[0m\u001b[0m\n\u001b[0;32m    400\u001b[0m         \u001b[0mlog\u001b[0m\u001b[1;33m.\u001b[0m\u001b[0mdebug\u001b[0m\u001b[1;33m(\u001b[0m\u001b[1;34m\"Incremented Retry for (url='%s'): %r\"\u001b[0m\u001b[1;33m,\u001b[0m \u001b[0murl\u001b[0m\u001b[1;33m,\u001b[0m \u001b[0mnew_retry\u001b[0m\u001b[1;33m)\u001b[0m\u001b[1;33m\u001b[0m\u001b[1;33m\u001b[0m\u001b[0m\n",
      "\u001b[1;31mMaxRetryError\u001b[0m: HTTPConnectionPool(host='127.0.0.1', port=60439): Max retries exceeded with url: /session/63b46a5c68548fdf9c9107ddb8fd8f55/source (Caused by NewConnectionError('<urllib3.connection.HTTPConnection object at 0x0000023A47DFB4A8>: Failed to establish a new connection: [WinError 10061] No connection could be made because the target machine actively refused it'))"
     ]
    }
   ],
   "source": [
    "while True:\n",
    "    soup = BeautifulSoup(driver.page_source, 'html5lib')\n",
    "    table = soup.find_all(id='rc_table_rc_tableListJobs_showAll')[0]\n",
    "    for info in table.find_all('tr'):\n",
    "        data = [item.text for item in info.find_all(\"td\")]\n",
    "        print(data)\n",
    "\n",
    "    try:\n",
    "        driver.find_element_by_partial_link_text('Next').click()\n",
    "    except:\n",
    "        break\n",
    "\n",
    "driver.quit()"
   ]
  },
  {
   "cell_type": "code",
   "execution_count": 44,
   "metadata": {},
   "outputs": [
    {
     "name": "stdout",
     "output_type": "stream",
     "text": [
      "GENERAL FUNCTION:\n",
      "Selected candidates are intended to become a Retail Personal Banker II after completing a 4-8 week on-boarding and education program that includes rotations in Operations and Sales & Service. There will be a certification at the conclusion of theprogramto provide selected candidates the opportunity to demonstrate skills necessary to successfully perform a role within the Retail Personal Banker job family.\n",
      "\n",
      "The Retail Personal Banker II role is a sales position with a primary focus on sales development and relationship building through the promotion of deposits, loans, fee-based services and the retention of customers. Responsible for selling a full rangeofbanking products and services to meet existing and prospective customer's needs, while providing specialized care and service to existing and prospective bank customers. Utilize and promote the consultative sales and service process, using theprescribedtools and interacting with the staff for referral activity.\n",
      "\n",
      "Responsible and accountable for risk by openly exchanging ideas and opinions, elevating concerns, and personally following policies and procedures as defined. Accountable for always doing the right thing for customers and colleagues, and ensuresthatactions and behaviors drive a positive customer experience. While operating within the Bank's risk appetite, achieves results by consistently identifying, assessing, managing, monitoring, and reporting risks of all types.\n",
      "\n",
      "ESSENTIAL DUTIES & RESPONSIBILITIES:\n",
      "Sales/Goals Function:\n",
      ". Use the consultative sales process and Financial Needs Assessment to build a thorough customer profile and identify current and future financial needs.\n",
      ". Maintain an in-depth knowledge of Retail consumer and small business products/services and recommend appropriate solutions using our value proposition.\n",
      ". Utilize CAMP and other approved Marketing tools to proactively reach out to customers and set appointments for periodic financial reviews.\n",
      ". Primarily focused on cross-selling to existing customer base and engaging in outside sales activities (i.e. Membership Advantage onsite presentations, business sales calls, community financial literacy events, etc.) as directed.\n",
      ". Establish close working relationships with assigned Business Partners (Mortgage, Small Business, Commercial and Investment), referring customers when appropriate to provide timely, and holistic financial solutions.\n",
      ". Consistently meet/exceed customer experience and individual/team production goals and enhance year-over-year revenue growth as measured by the Financial Center P&L.\n",
      ". Provide guidance to CSRs with respect to the sales and referral process.\n",
      "\n",
      "Customer Service:\n",
      ". Promote customer satisfaction with a friendly, helpful demeanor and professionalism.\n",
      ". Act with confidence by answering customer questions and owning customer issues.\n",
      ". Maintain a position of trust and responsibility by keeping all business confidential.\n",
      ". Follow the Bancorp Code of Business Conduct and Ethics and other related policies, maintaining ethical behavior at all times.\n",
      "\n",
      "Bank Operations:\n",
      ". Adhere to established policies and procedures while opening/servicing the full range of Retail products.\n",
      ". Participate in the consumer loan and bankcard process, owning sourced loans from application through closing.\n",
      ". Participate in the opening/closing process of the Financial Center or Bank Mart as directed by the Financial Center Manager.\n",
      ". Keep up to date on Retail procedures in place to mitigate fraudulent activity and unnecessary risk or exposure.\n",
      "\n",
      "SUPERVISORY RESPONSIBILITIES: None.\n"
     ]
    }
   ],
   "source": [
    "print(textValue[0])"
   ]
  },
  {
   "cell_type": "code",
   "execution_count": 50,
   "metadata": {},
   "outputs": [
    {
     "name": "stdout",
     "output_type": "stream",
     "text": [
      "length word_count 132\n",
      "length wcist 132\n",
      "['digital', 'data', 'services', 'bank', 'economic', 'blockchain', 'customers', 'market', 'findings', 'banks', 'products', 'systems', 'customer', 'platforms', 'payments', 'investors', 'system', 'insurance', 'transactions', 'asset', 'capital', 'equity', 'global', 'provide', 'investment', 'attributes', 'regulatory', 'business', 'process', 'payment', 'large', 'processes', 'future', 'firms', 'solutions', 'entities', 'providers', 'platform', 'banking', 'management', 'infrastructure', 'potential', 'investor', 'product', 'online', 'service', 'transaction', 'transfer', 'critical', 'time', 'opportunities', 'trade', 'distributed', 'credit', 'markets', 'industry', 'automated', 'role', 'intermediaries', 'entity', 'lead', 'insurers', 'ledger', 'fintechs', 'scale', 'costs', 'cost', 'project', 'required', 'settlement', 'shift', 'models', 'distribution', 'lenders', 'offer', 'partnerships', 'growth', 'conditions', 'evidence', 'loss', 'increasing', 'activities', 'risks', 'regulator', 'private', 'compliance', 'mobile', 'development', 'core', 'based', 'focus', 'exchange', 'solution', 'approach', 'increase', 'reduce', 'trading', 'improved', 'experience', 'implementation', 'individuals', 'ability', 'trusted', 'individual', 'attribute', 'report', 'innovation', 'network', 'emerging', 'funds', 'impact', 'lack', 'requirements', 'wealth', 'studies', 'funding', 'current', 'model', 'channels', 'managers', 'ensure', 'details', 'experts', 'participants', 'multiple', 'chain', 'diligence', 'retail', 'accounts', 'responsible', 'deliver', 'standards']\n",
      "length word_count 99\n",
      "length trlist 99\n",
      "['services', 'global', 'transaction', 'chief', 'group', 'strategy', 'head', 'executive', 'economic', 'forum', 'innovation', 'report', 'bank', 'officer', 'future', 'phase', 'partner', 'fintech', 'project', 'professional', 'member', 'business', 'director', 'support', 'digital', 'financial', 'transformative', 'international', 'context', 'branch', 'investment', 'accountability', 'senior', 'working', 'approach', 'publication', 'managerial', 'disruptive', 'deposit', 'system', 'cash', 'corporate', 'diversification', 'retail', 'compliance', 'steering', 'series', 'opportunity', 'limited', 'loss', 'initiative', 'regulators', 'public', 'incumbents', 'outreach', 'security', 'identity', 'role', 'research', 'collection', 'capital', 'focused', 'implications', 'analysis', 'leadership', 'action', 'revolution', 'llp', 'affect', 'accounting', 'swift', 'markets', 'understanding', 'excel', 'communication', 'management', 'industrial', 'portfolio', 'entrants', 'provide', 'cfa', 'detailed', 'learning', 'president', 'asset', 'technology', 'entities', 'cap ', 'firms', 'flow', 'lending', 'description', 'institutions', 'legal', 'banking', 'thomson', 'impact', 'stakeholders', 'potential']\n",
      "length word_count 99\n",
      "length tfidflist 99\n",
      "['system', 'insurance', 'users', 'models', 'alternative', 'lending', 'user', 'insurers', 'automated', 'risks', 'increased', 'based', 'number', 'network', 'assets', 'credit', 'distributed', 'create', 'banking', 'transfer', 'increasing', 'core', 'additional', 'limited', 'evidence', 'model', 'funds', 'channels', 'improved', 'realtime', 'reduce', 'low', 'transparency', 'support', 'enabling', 'continue', 'stakeholders', 'connected', 'compliance', 'public', 'continued', 'trust', 'relationships', 'loan', 'direct', 'businesses', 'ensure', 'regulations', 'entrants', 'creating', 'deposits', 'account', 'small', 'analysis', 'specific', 'developed', 'cases', 'growing', 'environment', 'creation', 'processing', 'best', 'leverage', 'points', 'company', 'difficult', 'party', 'work', 'narrative', 'partner', 'choose', 'regulator', 'price', 'connectivity', 'margins', 'strong', 'greater', 'return', 'sector', 'easily', 'delivery', 'receive', 'years', 'efforts', 'exist', 'relationship', 'rates', 'legacy', 'issues', 'standard', 'protection', 'designed', 'choice', 'understand', 'larger', 'partnership', 'clearing', 'identity', 'merchant']\n"
     ]
    }
   ],
   "source": [
    "#CSV extraction for wordcount\n",
    "import csv\n",
    "import re\n",
    "word_count=[]\n",
    "with open ('wordcount.csv','r')as csvfile:\n",
    "    csvreader=csv.reader(csvfile)\n",
    "    fields=next(csvreader)  \n",
    "    for row in csvreader:\n",
    "        word_count.append(row)\n",
    "print('length word_count',len(word_count))\n",
    "wclist=[]       \n",
    "for value in word_count:\n",
    "    rowid,word=value\n",
    "    wclist.append(word)\n",
    "print('length wcist',len(wclist))\n",
    "print(wclist)\n",
    "#--------------------------------------------------------------------\n",
    "#text rank dataset\n",
    "word_count=[]\n",
    "with open ('textrank.csv','r')as csvfile:\n",
    "    csvreader=csv.reader(csvfile)\n",
    "    fields=next(csvreader)  \n",
    "    for row in csvreader:\n",
    "        word_count.append(row)\n",
    "print('length word_count',len(word_count))\n",
    "trlist=[]       \n",
    "for value in word_count:\n",
    "    rowid,word=value\n",
    "    trlist.append(word)\n",
    "print('length trlist',len(trlist))\n",
    "print(trlist)\n",
    "#-----------------------------------------------------------------------\n",
    "#tfidf dataset\n",
    "word_count=[]\n",
    "with open ('tfidf.csv','r')as csvfile:\n",
    "    csvreader=csv.reader(csvfile)\n",
    "    fields=next(csvreader)  \n",
    "    for row in csvreader:\n",
    "        word_count.append(row)\n",
    "print('length word_count',len(word_count))\n",
    "tfidflist=[]       \n",
    "for value in word_count:\n",
    "    word,rowid=value\n",
    "    tfidflist.append(word)\n",
    "print('length tfidflist',len(tfidflist))\n",
    "print(tfidflist)\n"
   ]
  },
  {
   "cell_type": "code",
   "execution_count": 54,
   "metadata": {},
   "outputs": [],
   "source": [
    "with open('finaloutput.csv', 'w') as f:\n",
    "    writer = csv.writer(f,delimiter=\",\", lineterminator=\"\\n\")\n",
    "    #writer.writerow(word1)\n",
    "    abc=['jobNo']+['List id (1,2,3)']\n",
    "    for i in range(1,101):\n",
    "        abc+=[str(i)]\n",
    "    writer.writerow(abc)"
   ]
  },
  {
   "cell_type": "code",
   "execution_count": 55,
   "metadata": {},
   "outputs": [],
   "source": [
    "wclist1=[]\n",
    "trlist1=[]\n",
    "tfidflist1=[]\n",
    "empty='Invalid value'\n",
    "for i in range(0,70):\n",
    "    varlength=[]\n",
    "    list_id=1\n",
    "    if list_id==1:\n",
    "        with open('finaloutput.csv', 'a') as f:\n",
    "            varlength=[]\n",
    "            writer = csv.writer(f,delimiter=\",\", lineterminator=\"\\n\")\n",
    "        #writer.writerow(word1)\n",
    "            try: \n",
    "                varlength.append(i)\n",
    "                #varlength.append(job_title[i])\n",
    "                #varlength.append(job_location[i])                \n",
    "                #varlength.append(weblinks1[i])\n",
    "                varlength.append([list_id])\n",
    "                for value1 in wclist:\n",
    "                    count2=re.findall(value1,textValue[i])\n",
    "                    abc=str(len(count2))\n",
    "                    empty='Invalid value'\n",
    "                    varlength.append(abc)\n",
    "                    #varlength.append(empty)\n",
    "            except:\n",
    "                print('1 Error')\n",
    "                print(error)\n",
    "                varlength.append('error')     \n",
    "        #writer = csv.writer(f)\n",
    "            try:\n",
    "                writer.writerow(varlength)\n",
    "            except UnicodeEncodeError:\n",
    "                writer.writerow(empty)\n",
    "            list_id+=1\n",
    "        f.close\n",
    "    if list_id==2:\n",
    "        with open('finaloutput.csv', 'a') as f:\n",
    "            varlength=[]\n",
    "            writer = csv.writer(f,delimiter=\",\", lineterminator=\"\\n\")\n",
    "            try: \n",
    "                varlength.append(i)\n",
    "                #varlength.append(job_title[i])\n",
    "                #varlength.append(job_location[i])                \n",
    "                #varlength.append(weblinks1[i])\n",
    "                varlength.append([list_id])\n",
    "                for value1 in trlist:\n",
    "                    count2=re.findall(value1,textValue[i])\n",
    "                    abc=str(len(count2))\n",
    "                    empty='Invalid value'\n",
    "                    try:\n",
    "                        varlength.append(abc)\n",
    "                    except UnicodeEncodeError:\n",
    "                        varlength.append(empty)\n",
    "                        \n",
    "                    errormsg='InvalidValue' \n",
    "            except:\n",
    "                print('2 Error')\n",
    "                print(error)\n",
    "                varlength.append('error')     \n",
    "            try:\n",
    "                writer.writerow(varlength)\n",
    "            except UnicodeEncodeError:\n",
    "                writer.writerow(empty)\n",
    "            list_id+=1\n",
    "        f.close\n",
    "    if list_id==3:\n",
    "        with open('finaloutput.csv', 'a') as f:\n",
    "            varlength=[]\n",
    "            writer = csv.writer(f,delimiter=\",\", lineterminator=\"\\n\")\n",
    "            try: \n",
    "                varlength.append(i)\n",
    "                #varlength.append(job_title[i])\n",
    "                #varlength.append(job_location[i])                \n",
    "                #varlength.append(weblinks1[i])\n",
    "                varlength.append([list_id])\n",
    "                for value1 in tfidflist:\n",
    "                    count2=re.findall(value1,textValue[i])\n",
    "                    abc=str(len(count2))\n",
    "                    empty='Invalid value'\n",
    "                    try:\n",
    "                        varlength.append(abc)\n",
    "                        errormsg='InvalidValue' \n",
    "                    except UnicodeEncodeError:\n",
    "                        varlength.append(empty)\n",
    "                     \n",
    "            except:\n",
    "                print(' 3 Error')\n",
    "                print(error)\n",
    "                varlength.append('error')     \n",
    "            try:\n",
    "                writer.writerow(varlength)\n",
    "            except UnicodeEncodeError:\n",
    "                writer.writerow(empty)\n",
    "        f.close"
   ]
  }
 ],
 "metadata": {
  "kernelspec": {
   "display_name": "Python 3",
   "language": "python",
   "name": "python3"
  },
  "language_info": {
   "codemirror_mode": {
    "name": "ipython",
    "version": 3
   },
   "file_extension": ".py",
   "mimetype": "text/x-python",
   "name": "python",
   "nbconvert_exporter": "python",
   "pygments_lexer": "ipython3",
   "version": "3.7.1"
  }
 },
 "nbformat": 4,
 "nbformat_minor": 2
}
