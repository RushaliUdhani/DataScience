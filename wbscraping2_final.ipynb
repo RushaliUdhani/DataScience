{
 "cells": [
  {
   "cell_type": "code",
   "execution_count": 1,
   "metadata": {},
   "outputs": [
    {
     "name": "stdout",
     "output_type": "stream",
     "text": [
      "Requirement already satisfied: selenium in c:\\users\\rudha\\appdata\\local\\continuum\\anaconda3\\lib\\site-packages (3.141.0)\n",
      "Requirement already satisfied: urllib3 in c:\\users\\rudha\\appdata\\local\\continuum\\anaconda3\\lib\\site-packages (from selenium) (1.24.1)\n"
     ]
    }
   ],
   "source": [
    "!pip install selenium"
   ]
  },
  {
   "cell_type": "code",
   "execution_count": 167,
   "metadata": {},
   "outputs": [],
   "source": [
    "import time\n",
    "import pandas as pd\n",
    "from bs4 import BeautifulSoup"
   ]
  },
  {
   "cell_type": "code",
   "execution_count": 75,
   "metadata": {},
   "outputs": [],
   "source": [
    "from selenium import webdriver"
   ]
  },
  {
   "cell_type": "code",
   "execution_count": 118,
   "metadata": {},
   "outputs": [],
   "source": [
    "driver = webdriver.Chrome(r\"C:\\Users\\rudha\\Downloads\\chromedriver_win32\\chromedriver.exe\")"
   ]
  },
  {
   "cell_type": "code",
   "execution_count": 119,
   "metadata": {},
   "outputs": [],
   "source": [
    "driver.get('https://jobcareer.53.com/sap/public/bc/ur/YEOPGL101307/standard/ExternalJobBoard/index.html')\n"
   ]
  },
  {
   "cell_type": "code",
   "execution_count": 122,
   "metadata": {},
   "outputs": [],
   "source": [
    "#creating a list of all the id's\n",
    "titleList = ['RCtable_rc_tableListJobs_showAll_field_REST_INFO_51923643', \n",
    "             'RCtable_rc_tableListJobs_showAll_field_REST_INFO_51923991',\n",
    "            'RCtable_rc_tableListJobs_showAll_field_REST_INFO_51923279',\n",
    "            'RCtable_rc_tableListJobs_showAll_field_REST_INFO_51923720',\n",
    "            'RCtable_rc_tableListJobs_showAll_field_REST_INFO_51923553']\n",
    "\n"
   ]
  },
  {
   "cell_type": "markdown",
   "metadata": {},
   "source": [
    "# page 1"
   ]
  },
  {
   "cell_type": "code",
   "execution_count": 123,
   "metadata": {},
   "outputs": [],
   "source": [
    "\n",
    "textValue = []\n",
    "jobdescription = []\n",
    "#loop for job description of jobs on first page\n",
    "for x in titleList:\n",
    "    buttonClick = driver.find_element_by_id(x)\n",
    "    #time.sleep(5)\n",
    "    buttonClick.click()\n",
    "    time.sleep(5)\n",
    "    jobdescription = driver.find_element_by_id(\"value_PROJECT_DESC\")\n",
    "    var=jobdescription.text\n",
    "    textValue.append(var)\n",
    "    driver.get('https://jobcareer.53.com/sap/public/bc/ur/YEOPGL101307/standard/ExternalJobBoard/index.html')\n",
    "    time.sleep(5)\n",
    "    #textValue.append(txt.text)\n",
    "    #creating a list of all the id's\n",
    "    \n",
    "nextpage = driver.find_element_by_id(\"rc_table_rc_tableListJobs_showAlltableKit_next_but\")\n",
    "nextpage.click()\n",
    "\n",
    "    "
   ]
  },
  {
   "cell_type": "markdown",
   "metadata": {},
   "source": [
    "# page 2"
   ]
  },
  {
   "cell_type": "code",
   "execution_count": 134,
   "metadata": {},
   "outputs": [],
   "source": [
    "titleList2= ['RCtable_rc_tableListJobs_showAll_field_REST_INFO_51923908',\n",
    "            'RCtable_rc_tableListJobs_showAll_field_REST_INFO_51923998',\n",
    "            'RCtable_rc_tableListJobs_showAll_field_REST_INFO_51924203',\n",
    "            'RCtable_rc_tableListJobs_showAll_field_REST_INFO_51924052',\n",
    "            'RCtable_rc_tableListJobs_showAll_field_REST_INFO_51923772']"
   ]
  },
  {
   "cell_type": "code",
   "execution_count": 135,
   "metadata": {},
   "outputs": [],
   "source": [
    "\n",
    "\n",
    "#loop for job description of jobs on second page\n",
    "for y in titleList2:\n",
    "    buttonClick = driver.find_element_by_id(y)\n",
    "    #time.sleep(5)\n",
    "    buttonClick.click()\n",
    "    time.sleep(5)\n",
    "    jobdescription = driver.find_element_by_id(\"value_PROJECT_DESC\")\n",
    "    var=jobdescription.text\n",
    "    textValue.append(var)\n",
    "    backButton = driver.find_element_by_id(\"rc_backButton_\")\n",
    "    backButton.click()\n",
    "#     driver.get('https://jobcareer.53.com/sap/public/bc/ur/YEOPGL101307/standard/ExternalJobBoard/index.html')\n",
    "    time.sleep(5)\n",
    "    #textValue.append(txt.text)\n",
    "    #creating a list of all the id's\n",
    "    \n",
    "nextpage2 = driver.find_element_by_id(\"rc_table_rc_tableListJobs_showAlltableKit_next_but\")\n",
    "nextpage2.click()\n",
    "  \n",
    "    "
   ]
  },
  {
   "cell_type": "markdown",
   "metadata": {},
   "source": [
    "# page3"
   ]
  },
  {
   "cell_type": "code",
   "execution_count": 140,
   "metadata": {},
   "outputs": [],
   "source": [
    "titleList3= ['RCtable_rc_tableListJobs_showAll_field_REST_INFO_51923220',\n",
    "            'RCtable_rc_tableListJobs_showAll_field_REST_INFO_51923638',\n",
    "            'RCtable_rc_tableListJobs_showAll_field_REST_INFO_51923631',\n",
    "            'RCtable_rc_tableListJobs_showAll_field_REST_INFO_51923364',\n",
    "            'RCtable_rc_tableListJobs_showAll_field_REST_INFO_51923340']"
   ]
  },
  {
   "cell_type": "code",
   "execution_count": 141,
   "metadata": {},
   "outputs": [],
   "source": [
    "#loop for job description of jobs on third page\n",
    "for x in titleList3:\n",
    "    buttonClick = driver.find_element_by_id(x)\n",
    "    #time.sleep(5)\n",
    "    buttonClick.click()\n",
    "    time.sleep(5)\n",
    "    jobdescription = driver.find_element_by_id(\"value_PROJECT_DESC\")\n",
    "    var=jobdescription.text\n",
    "    textValue.append(var)\n",
    "    backButton = driver.find_element_by_id(\"rc_backButton_\")\n",
    "    backButton.click()\n",
    "#     driver.get('https://jobcareer.53.com/sap/public/bc/ur/YEOPGL101307/standard/ExternalJobBoard/index.html')\n",
    "    time.sleep(5)\n",
    "    #textValue.append(txt.text)\n",
    "    #creating a list of all the id's\n",
    "    \n",
    "nextpage3 = driver.find_element_by_id(\"rc_table_rc_tableListJobs_showAlltableKit_next_but\")\n",
    "nextpage3.click()"
   ]
  },
  {
   "cell_type": "markdown",
   "metadata": {},
   "source": [
    "# page4"
   ]
  },
  {
   "cell_type": "code",
   "execution_count": 142,
   "metadata": {},
   "outputs": [],
   "source": [
    "titleList4= ['RCtable_rc_tableListJobs_showAll_field_REST_INFO_51923767',\n",
    "            'RCtable_rc_tableListJobs_showAll_field_REST_INFO_51923496',\n",
    "            'RCtable_rc_tableListJobs_showAll_field_REST_INFO_51924037',\n",
    "            'RCtable_rc_tableListJobs_showAll_field_REST_INFO_51923290',\n",
    "            'RCtable_rc_tableListJobs_showAll_field_REST_INFO_51923376']"
   ]
  },
  {
   "cell_type": "code",
   "execution_count": 143,
   "metadata": {},
   "outputs": [],
   "source": [
    "#loop for job description of jobs on fourth page\n",
    "for x in titleList4:\n",
    "    buttonClick = driver.find_element_by_id(x)\n",
    "    #time.sleep(5)\n",
    "    buttonClick.click()\n",
    "    time.sleep(5)\n",
    "    jobdescription = driver.find_element_by_id(\"value_PROJECT_DESC\")\n",
    "    var=jobdescription.text\n",
    "    textValue.append(var)\n",
    "    backButton = driver.find_element_by_id(\"rc_backButton_\")\n",
    "    backButton.click()\n",
    "#     driver.get('https://jobcareer.53.com/sap/public/bc/ur/YEOPGL101307/standard/ExternalJobBoard/index.html')\n",
    "    time.sleep(5)\n",
    "    #textValue.append(txt.text)\n",
    "    #creating a list of all the id's\n",
    "    \n",
    "nextpage4 = driver.find_element_by_id(\"rc_table_rc_tableListJobs_showAlltableKit_next_but\")\n",
    "nextpage4.click()"
   ]
  },
  {
   "cell_type": "markdown",
   "metadata": {},
   "source": [
    "# page5"
   ]
  },
  {
   "cell_type": "code",
   "execution_count": 146,
   "metadata": {},
   "outputs": [],
   "source": [
    "titleList5= ['RCtable_rc_tableListJobs_showAll_field_REST_INFO_51891828',\n",
    "            'RCtable_rc_tableListJobs_showAll_field_REST_INFO_51923765',\n",
    "            'RCtable_rc_tableListJobs_showAll_field_REST_INFO_51924073',\n",
    "            'RCtable_rc_tableListJobs_showAll_field_REST_INFO_51922010',\n",
    "            'RCtable_rc_tableListJobs_showAll_field_REST_INFO_51921818']"
   ]
  },
  {
   "cell_type": "code",
   "execution_count": 147,
   "metadata": {},
   "outputs": [],
   "source": [
    "#loop for job description of jobs on fifth page\n",
    "for x in titleList5:\n",
    "    buttonClick = driver.find_element_by_id(x)\n",
    "    #time.sleep(5)\n",
    "    buttonClick.click()\n",
    "    time.sleep(5)\n",
    "    jobdescription = driver.find_element_by_id(\"value_PROJECT_DESC\")\n",
    "    var=jobdescription.text\n",
    "    textValue.append(var)\n",
    "    backButton = driver.find_element_by_id(\"rc_backButton_\")\n",
    "    backButton.click()\n",
    "#     driver.get('https://jobcareer.53.com/sap/public/bc/ur/YEOPGL101307/standard/ExternalJobBoard/index.html')\n",
    "    time.sleep(5)\n",
    "    #textValue.append(txt.text)\n",
    "    #creating a list of all the id's\n",
    "    \n",
    "nextpage5 = driver.find_element_by_id(\"rc_table_rc_tableListJobs_showAlltableKit_next_but\")\n",
    "nextpage5.click()"
   ]
  },
  {
   "cell_type": "markdown",
   "metadata": {},
   "source": [
    "# page6"
   ]
  },
  {
   "cell_type": "code",
   "execution_count": 148,
   "metadata": {},
   "outputs": [],
   "source": [
    "titleList6= ['RCtable_rc_tableListJobs_showAll_field_REST_INFO_51921829',\n",
    "            'RCtable_rc_tableListJobs_showAll_field_REST_INFO_51922293',\n",
    "            'RCtable_rc_tableListJobs_showAll_field_REST_INFO_51921758',\n",
    "            'RCtable_rc_tableListJobs_showAll_field_REST_INFO_51922578',\n",
    "            'RCtable_rc_tableListJobs_showAll_field_REST_INFO_51921757']"
   ]
  },
  {
   "cell_type": "code",
   "execution_count": 149,
   "metadata": {},
   "outputs": [],
   "source": [
    "#loop for job description of jobs on sixth page\n",
    "for x in titleList6:\n",
    "    buttonClick = driver.find_element_by_id(x)\n",
    "    #time.sleep(5)\n",
    "    buttonClick.click()\n",
    "    time.sleep(5)\n",
    "    jobdescription = driver.find_element_by_id(\"value_PROJECT_DESC\")\n",
    "    var=jobdescription.text\n",
    "    textValue.append(var)\n",
    "    backButton = driver.find_element_by_id(\"rc_backButton_\")\n",
    "    backButton.click()\n",
    "#     driver.get('https://jobcareer.53.com/sap/public/bc/ur/YEOPGL101307/standard/ExternalJobBoard/index.html')\n",
    "    time.sleep(5)\n",
    "    #textValue.append(txt.text)\n",
    "    #creating a list of all the id's\n",
    "    \n",
    "nextpage6 = driver.find_element_by_id(\"rc_table_rc_tableListJobs_showAlltableKit_next_but\")\n",
    "nextpage6.click()"
   ]
  },
  {
   "cell_type": "markdown",
   "metadata": {},
   "source": [
    "# page7"
   ]
  },
  {
   "cell_type": "code",
   "execution_count": 150,
   "metadata": {},
   "outputs": [],
   "source": [
    "titleList7= ['RCtable_rc_tableListJobs_showAll_field_REST_INFO_51882545',\n",
    "            'RCtable_rc_tableListJobs_showAll_field_REST_INFO_51922500',\n",
    "            'RCtable_rc_tableListJobs_showAll_field_REST_INFO_51922066',\n",
    "            'RCtable_rc_tableListJobs_showAll_field_REST_INFO_51921819',\n",
    "            'RCtable_rc_tableListJobs_showAll_field_REST_INFO_51922347']"
   ]
  },
  {
   "cell_type": "code",
   "execution_count": 151,
   "metadata": {},
   "outputs": [],
   "source": [
    "#loop for job description of jobs on seventh page\n",
    "for x in titleList7:\n",
    "    buttonClick = driver.find_element_by_id(x)\n",
    "    #time.sleep(5)\n",
    "    buttonClick.click()\n",
    "    time.sleep(5)\n",
    "    jobdescription = driver.find_element_by_id(\"value_PROJECT_DESC\")\n",
    "    var=jobdescription.text\n",
    "    textValue.append(var)\n",
    "    backButton = driver.find_element_by_id(\"rc_backButton_\")\n",
    "    backButton.click()\n",
    "#     driver.get('https://jobcareer.53.com/sap/public/bc/ur/YEOPGL101307/standard/ExternalJobBoard/index.html')\n",
    "    time.sleep(5)\n",
    "    #textValue.append(txt.text)\n",
    "    #creating a list of all the id's\n",
    "    \n",
    "nextpage7 = driver.find_element_by_id(\"rc_table_rc_tableListJobs_showAlltableKit_next_but\")\n",
    "nextpage7.click()"
   ]
  },
  {
   "cell_type": "markdown",
   "metadata": {},
   "source": [
    "# page8"
   ]
  },
  {
   "cell_type": "code",
   "execution_count": 152,
   "metadata": {},
   "outputs": [],
   "source": [
    "titleList8= ['RCtable_rc_tableListJobs_showAll_field_REST_INFO_51921777',\n",
    "            'RCtable_rc_tableListJobs_showAll_field_REST_INFO_51826945',\n",
    "            'RCtable_rc_tableListJobs_showAll_field_REST_INFO_51921686',\n",
    "            'RCtable_rc_tableListJobs_showAll_field_REST_INFO_51921782',\n",
    "            'RCtable_rc_tableListJobs_showAll_field_REST_INFO_51922364']"
   ]
  },
  {
   "cell_type": "code",
   "execution_count": 153,
   "metadata": {},
   "outputs": [],
   "source": [
    "#loop for job description of jobs on eighth page\n",
    "for x in titleList8:\n",
    "    buttonClick = driver.find_element_by_id(x)\n",
    "    #time.sleep(5)\n",
    "    buttonClick.click()\n",
    "    time.sleep(5)\n",
    "    jobdescription = driver.find_element_by_id(\"value_PROJECT_DESC\")\n",
    "    var=jobdescription.text\n",
    "    textValue.append(var)\n",
    "    backButton = driver.find_element_by_id(\"rc_backButton_\")\n",
    "    backButton.click()\n",
    "#     driver.get('https://jobcareer.53.com/sap/public/bc/ur/YEOPGL101307/standard/ExternalJobBoard/index.html')\n",
    "    time.sleep(5)\n",
    "    #textValue.append(txt.text)\n",
    "    #creating a list of all the id's\n",
    "    \n",
    "nextpage8 = driver.find_element_by_id(\"rc_table_rc_tableListJobs_showAlltableKit_next_but\")\n",
    "nextpage8.click()"
   ]
  },
  {
   "cell_type": "markdown",
   "metadata": {},
   "source": [
    "# page9"
   ]
  },
  {
   "cell_type": "code",
   "execution_count": 155,
   "metadata": {},
   "outputs": [],
   "source": [
    "titleList9= ['RCtable_rc_tableListJobs_showAll_field_REST_INFO_51921661',\n",
    "            'RCtable_rc_tableListJobs_showAll_field_REST_INFO_51922677',\n",
    "            'RCtable_rc_tableListJobs_showAll_field_REST_INFO_51828530',\n",
    "            'RCtable_rc_tableListJobs_showAll_field_REST_INFO_51879477',\n",
    "            'RCtable_rc_tableListJobs_showAll_field_REST_INFO_51922581']"
   ]
  },
  {
   "cell_type": "code",
   "execution_count": 156,
   "metadata": {},
   "outputs": [],
   "source": [
    "#loop for job description of jobs on ninth page\n",
    "for x in titleList9:\n",
    "    buttonClick = driver.find_element_by_id(x)\n",
    "    #time.sleep(5)\n",
    "    buttonClick.click()\n",
    "    time.sleep(5)\n",
    "    jobdescription = driver.find_element_by_id(\"value_PROJECT_DESC\")\n",
    "    var=jobdescription.text\n",
    "    textValue.append(var)\n",
    "    backButton = driver.find_element_by_id(\"rc_backButton_\")\n",
    "    backButton.click()\n",
    "#     driver.get('https://jobcareer.53.com/sap/public/bc/ur/YEOPGL101307/standard/ExternalJobBoard/index.html')\n",
    "    time.sleep(5)\n",
    "    #textValue.append(txt.text)\n",
    "    #creating a list of all the id's\n",
    "    \n",
    "nextpage9 = driver.find_element_by_id(\"rc_table_rc_tableListJobs_showAlltableKit_next_but\")\n",
    "nextpage9.click()"
   ]
  },
  {
   "cell_type": "markdown",
   "metadata": {},
   "source": [
    "# page10"
   ]
  },
  {
   "cell_type": "code",
   "execution_count": 157,
   "metadata": {},
   "outputs": [],
   "source": [
    "titleList10= ['RCtable_rc_tableListJobs_showAll_field_REST_INFO_51921706',\n",
    "             'RCtable_rc_tableListJobs_showAll_field_REST_INFO_51922361',\n",
    "             'RCtable_rc_tableListJobs_showAll_field_REST_INFO_51922527',\n",
    "             'RCtable_rc_tableListJobs_showAll_field_REST_INFO_51908131',\n",
    "             'RCtable_rc_tableListJobs_showAll_field_REST_INFO_51908656']"
   ]
  },
  {
   "cell_type": "code",
   "execution_count": 158,
   "metadata": {},
   "outputs": [],
   "source": [
    "#loop for job description of jobs on tenth page\n",
    "for x in titleList10:\n",
    "    buttonClick = driver.find_element_by_id(x)\n",
    "    #time.sleep(5)\n",
    "    buttonClick.click()\n",
    "    time.sleep(5)\n",
    "    jobdescription = driver.find_element_by_id(\"value_PROJECT_DESC\")\n",
    "    var=jobdescription.text\n",
    "    textValue.append(var)\n",
    "    backButton = driver.find_element_by_id(\"rc_backButton_\")\n",
    "    backButton.click()\n",
    "#     driver.get('https://jobcareer.53.com/sap/public/bc/ur/YEOPGL101307/standard/ExternalJobBoard/index.html')\n",
    "    time.sleep(5)\n",
    "    #textValue.append(txt.text)\n",
    "    #creating a list of all the id's\n",
    "    \n"
   ]
  },
  {
   "cell_type": "code",
   "execution_count": 163,
   "metadata": {},
   "outputs": [
    {
     "name": "stdout",
     "output_type": "stream",
     "text": [
      "GENERAL FUNCTION: Incumbents at this level may manage a department, product or process with a large amount of independence. Typically referred to as technical expert and known internally and externally as reliable,knowledgeableresource.Developsandexercised business plans, policies and procedures and may also be responsible for various projects to improve efficiencies. Individual at this level has a clear understanding of the firm's different businesses and therelatedeconomics.\n",
      "\n",
      "Responsible and accountable for risk by openly exchanging ideas and opinions, elevating concerns, and personally following policies and procedures as defined. Accountable for always doing the right thing for customers and colleagues, andensuresthatactions and behaviors drive a positive customer experience. While operating within the Bank's risk appetite, achieves results by consistently identifying, assessing, managing, monitoring, and reporting risks of all types.\n",
      "\n",
      "ESSENTIAL DUTIES & RESPONSIBILITIES: This person will provide quantitative support throughout the Risk or Finance divisions. This will include the implementation, modeling, and validation of quantitative models including PD, LGD, ALM,CCAR,QRM,MRMandEconomic Capital . Provide ongoing support to the development and implementation of quantitative and statistical models. Developing, maintaining, and back testing models to support respective LOBs. Also will haveresponsibilityforad-hocreportingrequests for quantitative modeling.\n"
     ]
    }
   ],
   "source": [
    "print(textValue[73])"
   ]
  },
  {
   "cell_type": "markdown",
   "metadata": {},
   "source": [
    "# getting the titles of all the jobs"
   ]
  },
  {
   "cell_type": "code",
   "execution_count": 168,
   "metadata": {},
   "outputs": [
    {
     "name": "stdout",
     "output_type": "stream",
     "text": [
      "[]\n",
      "['', '', 'Personal Banker II - Cornelius, NC51922376\\xa0-\\xa0Cornelius\\xa0-\\xa0North Carolina\\xa0-\\xa0Retail\\xa0-\\xa0Full-time']\n",
      "['', '', ' Lead CSR / Teller - Eastpoint Bank Mart - Full-Time51922558\\xa0-\\xa0Columbus\\xa0-\\xa0Ohio\\xa0-\\xa0Retail\\xa0-\\xa0Full-time']\n",
      "['', '', 'College Co-Op51916370\\xa0-\\xa0Cincinnati\\xa0-\\xa0Ohio\\xa0-\\xa0WAM\\xa0-\\xa0Full-time']\n",
      "['', '', ' Project Analyst, EPMO.51916902\\xa0-\\xa0Cincinnati\\xa0-\\xa0Ohio\\xa0-\\xa0CAO\\xa0-\\xa0Full-time']\n",
      "['', '', 'CSR / Teller - East Lansing - Part-Time51921406\\xa0-\\xa0East Lansing\\xa0-\\xa0Michigan\\xa0-\\xa0Retail\\xa0-\\xa0Part-time']\n",
      "['', '', ' Corporate Culture Analyst.51915339\\xa0-\\xa0Cincinnati\\xa0-\\xa0Ohio\\xa0-\\xa0CAO\\xa0-\\xa0Full-time']\n",
      "['', '', 'Float CSR / Teller - Wadsworth - Full-Time51922618\\xa0-\\xa0Wadsworth\\xa0-\\xa0Ohio\\xa0-\\xa0Retail\\xa0-\\xa0Full-time']\n",
      "['', '', 'NOC Technician51919264\\xa0-\\xa0Grand Rapids\\xa0-\\xa0Michigan\\xa0-\\xa0IT\\xa0-\\xa0Full-time']\n",
      "['', '', 'CSR / Teller - Tallmadge - Part-Time51923999\\xa0-\\xa0Tallmadge\\xa0-\\xa0Ohio\\xa0-\\xa0Retail\\xa0-\\xa0Part-time']\n",
      "['', '', 'Retail Personal Banker Associate II51893086\\xa0-\\xa0Farmington Hills\\xa0-\\xa0Michigan\\xa0-\\xa0Retail\\xa0-\\xa0Full-time']\n",
      "['', '', 'Employee Benefits Sr. Account Executive51919687\\xa0-\\xa0New Albany\\xa0-\\xa0Indiana\\xa0-\\xa0WAM\\xa0-\\xa0Full-time']\n",
      "['', '', 'CSR / Teller - Deland FC - Part-Time51922061\\xa0-\\xa0Deland\\xa0-\\xa0Florida\\xa0-\\xa0Retail\\xa0-\\xa0Part-time']\n",
      "['', '', ' Compliance Officer I-Compliance Programs and Practices Business Analyst51916363\\xa0-\\xa0Cincinnati\\xa0-\\xa0Ohio\\xa0-\\xa0Risk / Compl\\xa0-\\xa0Full-time']\n",
      "['', '', ' Sr. HR Consultant.51923207\\xa0-\\xa0Louisville\\xa0-\\xa0Kentucky\\xa0-\\xa0WAM\\xa0-\\xa0Full-time']\n",
      "['', '', 'CSR / Teller - Hyde Park - Part-Time51922330\\xa0-\\xa0Chicago\\xa0-\\xa0Illinois\\xa0-\\xa0Retail\\xa0-\\xa0Part-time']\n",
      "['', '', 'Retail Personal Banker Associate I51893084\\xa0-\\xa0Farmington Hills\\xa0-\\xa0Michigan\\xa0-\\xa0Retail\\xa0-\\xa0Full-time']\n",
      "['', '', ' Float CSR / Teller - 44911 Mound Road - Full-Time51921215\\xa0-\\xa0Sterling Heights\\xa0-\\xa0Michigan\\xa0-\\xa0Retail\\xa0-\\xa0Full-time']\n",
      "['', '', ' Customer Experience Senior Analyst.51902391\\xa0-\\xa0Cincinnati\\xa0-\\xa0Ohio\\xa0-\\xa0CSO\\xa0-\\xa0Full-time']\n",
      "['', '', ' Institutional Sales Officer II.51908566\\xa0-\\xa0Chicago\\xa0-\\xa0Illinois\\xa0-\\xa0WAM\\xa0-\\xa0Full-time']\n",
      "['', '', 'Mortgage Loan Originator51922331\\xa0-\\xa0Pickerington\\xa0-\\xa0Ohio\\xa0-\\xa0Mortgage\\xa0-\\xa0Full-time']\n",
      "['', '', 'Business Banking Relationship Manager IV51891827\\xa0-\\xa0Nashville\\xa0-\\xa0Tennessee\\xa0-\\xa0Business Bkng\\xa0-\\xa0Full-time']\n",
      "['', '', 'Retail Personal Banker Associate I51893085\\xa0-\\xa0Plymouth\\xa0-\\xa0Michigan\\xa0-\\xa0Retail\\xa0-\\xa0Full-time']\n",
      "['', '', 'Assistant Center Manager51919692\\xa0-\\xa0Naples\\xa0-\\xa0Florida\\xa0-\\xa0Retail\\xa0-\\xa0Full-time']\n",
      "['', '', ' HR Specialist-HRRG51919269\\xa0-\\xa0Cincinnati\\xa0-\\xa0Ohio\\xa0-\\xa0HR / Staff\\xa0-\\xa0Full-time']\n",
      "['', '', 'CSR / Teller - Southchase FC - Part-Time51919882\\xa0-\\xa0Orlando\\xa0-\\xa0Florida\\xa0-\\xa0Retail\\xa0-\\xa0Part-time']\n",
      "['', '', ' Retail Personal Banker Associate II.51919270\\xa0-\\xa0Greensburg\\xa0-\\xa0Indiana\\xa0-\\xa0Retail\\xa0-\\xa0Full-time']\n",
      "['', '', 'Retail Personal Banker Associate II - Algonquin51922291\\xa0-\\xa0Algonquin\\xa0-\\xa0Illinois\\xa0-\\xa0Full-time']\n",
      "['', '', 'Mortgage Loan Originator51919615\\xa0-\\xa0Monroe\\xa0-\\xa0Michigan\\xa0-\\xa0Mortgage\\xa0-\\xa0Full-time']\n",
      "['', '', ' Retail Personal Banker Associate II.51908648\\xa0-\\xa0Elyria\\xa0-\\xa0Ohio\\xa0-\\xa0Retail\\xa0-\\xa0Full-time']\n",
      "['', '', 'Area Sales Manager (ASM) I51919616\\xa0-\\xa0Charleston\\xa0-\\xa0West Virginia\\xa0-\\xa0Mortgage\\xa0-\\xa0Full-time']\n",
      "['', '', 'CSR / Teller - Miller - Part-Time51881426\\xa0-\\xa0Gary\\xa0-\\xa0Indiana\\xa0-\\xa0Retail\\xa0-\\xa0Part-time']\n",
      "['', '', 'Financial Center Manager II - Palatine51922449\\xa0-\\xa0Palatine\\xa0-\\xa0Illinois\\xa0-\\xa0Full-time']\n",
      "['', '', 'Payables Product Team Leader51916992\\xa0-\\xa0Charlotte\\xa0-\\xa0North Carolina\\xa0-\\xa0Payments\\xa0-\\xa0Full-time']\n",
      "['', '', 'CSR / Teller - Wiregrass FC - Part-Time51919895\\xa0-\\xa0Wesley Chapel\\xa0-\\xa0Florida\\xa0-\\xa0Retail\\xa0-\\xa0Part-time']\n",
      "['', '', ' Deposit Ops Recon & Processing Spec.51917919\\xa0-\\xa0Cincinnati\\xa0-\\xa0Ohio\\xa0-\\xa0Operations\\xa0-\\xa0Full-time']\n",
      "['', '', 'Financial Center Manager - Central Charlotte, NC51919786\\xa0-\\xa0Charlotte\\xa0-\\xa0North Carolina\\xa0-\\xa0Retail\\xa0-\\xa0Full-time']\n",
      "['', '', 'Retail Personal Banker Associate II- Marion Branch51788816\\xa0-\\xa0Columbus\\xa0-\\xa0Ohio\\xa0-\\xa0Retail\\xa0-\\xa0Full-time']\n",
      "['', '', 'Personal Banker II - Mt. Pleasant, NC51751221\\xa0-\\xa0Mount Pleasant\\xa0-\\xa0North Carolina\\xa0-\\xa0Retail\\xa0-\\xa0Full-time']\n",
      "['', '', 'Licensed Invest Support Specialist II - Indiana51919617\\xa0-\\xa0Indianapolis\\xa0-\\xa0Indiana\\xa0-\\xa0WAM\\xa0-\\xa0Full-time']\n",
      "['', '', 'Commercial Portfolio Manager II51913753\\xa0-\\xa0Houston\\xa0-\\xa0Texas\\xa0-\\xa0Commercial\\xa0-\\xa0Full-time']\n",
      "['', '', 'Licensed Invest Support Specialist II51920525\\xa0-\\xa0Gahanna\\xa0-\\xa0Ohio\\xa0-\\xa0WAM\\xa0-\\xa0Full-time']\n",
      "['', '', 'Retail Personal Banker II - Mature51922555\\xa0-\\xa0Chicago\\xa0-\\xa0Illinois\\xa0-\\xa0Retail\\xa0-\\xa0Full-time']\n",
      "['', '', 'Preferred Relationship Manager - Charlotte, NC51822334\\xa0-\\xa0Waxhaw\\xa0-\\xa0North Carolina\\xa0-\\xa0Retail\\xa0-\\xa0Full-time']\n",
      "['', '', ' Wealth Management Advisor II.51874920\\xa0-\\xa0Birmingham\\xa0-\\xa0Michigan\\xa0-\\xa0WAM\\xa0-\\xa0Full-time']\n",
      "['', '', ' Retail Personal Banker Associate II.51908649\\xa0-\\xa0Parma Heights\\xa0-\\xa0Ohio\\xa0-\\xa0Retail\\xa0-\\xa0Full-time']\n",
      "['', '', ' CSR / Teller - Princeton Downtown - Part-Time51919345\\xa0-\\xa0Princeton\\xa0-\\xa0Indiana\\xa0-\\xa0Retail\\xa0-\\xa0Part-time']\n",
      "['', '', 'Credit Analyst II51918582\\xa0-\\xa0Houston\\xa0-\\xa0Texas\\xa0-\\xa0Commercial\\xa0-\\xa0Full-time']\n",
      "['', '', 'Software  Engineer (Mobile, Java Services, or Client)51916484\\xa0-\\xa0Cincinnati\\xa0-\\xa0Ohio\\xa0-\\xa0IT\\xa0-\\xa0Full-time']\n",
      "['', '', ' LOB Reporting & Analytics Mgr51901531\\xa0-\\xa0Cincinnati\\xa0-\\xa0Ohio\\xa0-\\xa0Payments\\xa0-\\xa0Full-time']\n",
      "['', '', ' Quantitative Analytics Manager51901533\\xa0-\\xa0Cincinnati\\xa0-\\xa0Ohio\\xa0-\\xa0Payments\\xa0-\\xa0Full-time']\n",
      "['<<<10\\xa0 of 10 >>>No results found']\n"
     ]
    }
   ],
   "source": [
    "while True:\n",
    "    soup = BeautifulSoup(driver.page_source, 'html5lib')\n",
    "    table = soup.find_all(id='rc_table_rc_tableListJobs_showAll')[0]\n",
    "    for info in table.find_all('tr'):\n",
    "        data = [item.text for item in info.find_all(\"td\")]\n",
    "        print(data)\n",
    "\n",
    "    try:\n",
    "        driver.find_element_by_partial_link_text('Next').click()\n",
    "    except:\n",
    "        break\n",
    "\n",
    "driver.quit()"
   ]
  },
  {
   "cell_type": "code",
   "execution_count": 1,
   "metadata": {},
   "outputs": [
    {
     "name": "stdout",
     "output_type": "stream",
     "text": [
      "length word_count 100\n",
      "length wcist 100\n",
      "['financial', 'digital', 'data', 'services', 'bank', 'economic', 'blockchain', 'customers', 'market', 'findings', 'products', 'systems', 'platforms', 'payments', 'investors', 'insurance', 'transactions', 'asset', 'capital', 'equity', 'global', 'investment', 'attributes', 'regulatory', 'business', 'process', 'future', 'firms', 'solutions', 'entities', 'providers', 'banking', 'management', 'infrastructure', 'potential', 'online', 'debit', 'transfer', 'critical', 'time', 'opportunities', 'trade', 'credit', 'industry', 'automated', 'intermediaries', 'lead', 'insurers', 'ledger', 'fintechs', 'scale', 'costs', 'project', 'settlement', 'shift', 'models', 'distribution', 'lenders', 'offer', 'partnerships', 'growth', 'conditions', 'evidence', 'loss', 'activities', 'risks', 'regulator', 'private', 'compliance', 'mobile', 'development', 'core', 'focus', 'exchange', 'approach', 'increase', 'reduce', 'trading', 'retail', 'experience', 'implementation', 'ability', 'trusted', 'individual', 'report', 'innovation', 'network', 'emerging', 'funds', 'impact', 'lack', 'requirements', 'wealth', 'studies', 'funding', 'current', 'channels', 'managers', 'details', 'experts']\n",
      "length word_count 99\n",
      "length trlist 99\n",
      "['services', 'global', 'transaction', 'chief', 'group', 'strategy', 'head', 'executive', 'economic', 'forum', 'innovation', 'report', 'bank', 'officer', 'future', 'phase', 'partner', 'fintech', 'project', 'professional', 'member', 'business', 'director', 'support', 'digital', 'financial', 'transformative', 'international', 'context', 'branch', 'investment', 'accountability', 'senior', 'working', 'approach', 'publication', 'managerial', 'disruptive', 'deposit', 'system', 'cash', 'corporate', 'diversification', 'retail', 'compliance', 'steering', 'series', 'opportunity', 'limited', 'loss', 'initiative', 'regulators', 'public', 'incumbents', 'outreach', 'security', 'identity', 'role', 'research', 'collection', 'capital', 'focused', 'implications', 'analysis', 'leadership', 'action', 'revolution', 'llp', 'affect', 'accounting', 'swift', 'markets', 'understanding', 'excel', 'communication', 'management', 'industrial', 'portfolio', 'entrants', 'provide', 'cfa', 'detailed', 'learning', 'president', 'asset', 'technology', 'entities', 'cap ', 'firms', 'flow', 'lending', 'description', 'institutions', 'legal', 'banking', 'thomson', 'impact', 'stakeholders', 'potential']\n",
      "length word_count 100\n",
      "length tfidflist 100\n",
      "['pragmatic', 'concerning', 'assisted', 'sales', 'automation', 'mentorship', 'vision', 'inspirational', 'varied', 'distribution', 'concurrent', 'ibd', 'crosscutting', 'expanding', 'editors', 'compound', 'aftershocks', 'license', 'rupee', 'draws', 'importantly', 'lies', 'corporate', 'culmination', 'phases', 'strived', 'considers', 'produce', 'business ', 'asset', 'leasing', 'lending', 'branch', 'managements', 'overtaking', 'fallen', 'seized', 'subsector', 'shown', 'overestimated', 'interview', 'externalize', 'tempo', 'investment', 'retail', 'payment', 'mortgage', 'commoditize', 'clients', 'duplication', 'teller', 'word', 'deverticalize', 'costsharing', 'companywide', 'trade', 'separately', 'businesstobusiness', 'catalysts', 'intravalue', 'intervalue', 'proposing', 'exchange', 'curtailing', 'provider', 'shift', 'curation', 'deemphasizing', 'benchmarks', 'abusing', 'multiple', 'audiences', 'excel', 'tax', 'invoicing', 'analyst', 'dashboard', 'product', 'driven', 'snapshots', 'experience', 'optional', 'geolocation', 'debt', 'nonbanks', 'adds', 'equity', 'cashbacks', 'shareholders', 'arrival', 'workforces', 'machine', 'coworking', 'dominating', 'values', 'chatbot', 'mould', 'computers', 'multiplying', 'suites']\n"
     ]
    }
   ],
   "source": [
    "#CSV extraction for wordcount\n",
    "import csv\n",
    "import re\n",
    "word_count=[]\n",
    "with open ('Mwordcount.csv','r')as csvfile:\n",
    "    csvreader=csv.reader(csvfile)\n",
    "    fields=next(csvreader)  \n",
    "    for row in csvreader:\n",
    "        word_count.append(row)\n",
    "print('length word_count',len(word_count))\n",
    "wclist=[]       \n",
    "for value in word_count:\n",
    "    rowid,word=value\n",
    "    wclist.append(word)\n",
    "print('length wcist',len(wclist))\n",
    "print(wclist)\n",
    "#--------------------------------------------------------------------\n",
    "#text rank dataset\n",
    "word_count=[]\n",
    "with open ('textrank.csv','r')as csvfile:\n",
    "    csvreader=csv.reader(csvfile)\n",
    "    fields=next(csvreader)  \n",
    "    for row in csvreader:\n",
    "        word_count.append(row)\n",
    "print('length word_count',len(word_count))\n",
    "trlist=[]       \n",
    "for value in word_count:\n",
    "    rowid,word=value\n",
    "    trlist.append(word)\n",
    "print('length trlist',len(trlist))\n",
    "print(trlist)\n",
    "#-----------------------------------------------------------------------\n",
    "#tfidf dataset\n",
    "word_count=[]\n",
    "with open ('tfidf.csv','r')as csvfile:\n",
    "    csvreader=csv.reader(csvfile)\n",
    "    fields=next(csvreader)  \n",
    "    for row in csvreader:\n",
    "        word_count.append(row)\n",
    "print('length word_count',len(word_count))\n",
    "tfidflist=[]       \n",
    "for value in word_count:\n",
    "    rowid,word=value\n",
    "    tfidflist.append(word)\n",
    "print('length tfidflist',len(tfidflist))\n",
    "print(tfidflist)\n",
    "\n"
   ]
  },
  {
   "cell_type": "code",
   "execution_count": 6,
   "metadata": {},
   "outputs": [],
   "source": [
    "#print(job_description[0])\n",
    "with open('finaloutput2.csv', 'w') as f:\n",
    "    writer = csv.writer(f,delimiter=\",\", lineterminator=\"\\n\")\n",
    "    #writer.writerow(word1)\n",
    "    abc=['jobdesc']+['List id (1,2,3)']\n",
    "    for i in range(1,101):\n",
    "        abc+=[str(i)]\n",
    "    writer.writerow(abc)"
   ]
  },
  {
   "cell_type": "code",
   "execution_count": 8,
   "metadata": {},
   "outputs": [],
   "source": [
    "#print(job_description[0])\n",
    "\n",
    "with open('finaloutput2.csv', 'w') as f:\n",
    "    writer = csv.writer(f,delimiter=\",\", lineterminator=\"\\n\")\n",
    "    #writer.writerow(word1)\n",
    "    abc=['jobdesc']+['List id (1,2,3)']\n",
    "    for i in range(1,101):\n",
    "        abc+=[str(i)]\n",
    "    writer.writerow(abc)\n",
    "\n",
    "       "
   ]
  },
  {
   "cell_type": "code",
   "execution_count": 9,
   "metadata": {},
   "outputs": [
    {
     "name": "stdout",
     "output_type": "stream",
     "text": [
      "1 Error\n"
     ]
    },
    {
     "ename": "NameError",
     "evalue": "name 'error' is not defined",
     "output_type": "error",
     "traceback": [
      "\u001b[1;31m---------------------------------------------------------------------------\u001b[0m",
      "\u001b[1;31mNameError\u001b[0m                                 Traceback (most recent call last)",
      "\u001b[1;32m<ipython-input-9-fec9e6a77fed>\u001b[0m in \u001b[0;36m<module>\u001b[1;34m\u001b[0m\n\u001b[0;32m     14\u001b[0m                 \u001b[0mvarlength\u001b[0m\u001b[1;33m.\u001b[0m\u001b[0mappend\u001b[0m\u001b[1;33m(\u001b[0m\u001b[0mi\u001b[0m\u001b[1;33m)\u001b[0m\u001b[1;33m\u001b[0m\u001b[1;33m\u001b[0m\u001b[0m\n\u001b[1;32m---> 15\u001b[1;33m                 \u001b[0mvarlength\u001b[0m\u001b[1;33m.\u001b[0m\u001b[0mappend\u001b[0m\u001b[1;33m(\u001b[0m\u001b[0mjob_desc\u001b[0m\u001b[1;33m[\u001b[0m\u001b[0mi\u001b[0m\u001b[1;33m]\u001b[0m\u001b[1;33m)\u001b[0m\u001b[1;33m\u001b[0m\u001b[1;33m\u001b[0m\u001b[0m\n\u001b[0m\u001b[0;32m     16\u001b[0m                 \u001b[0mvarlength\u001b[0m\u001b[1;33m.\u001b[0m\u001b[0mappend\u001b[0m\u001b[1;33m(\u001b[0m\u001b[1;33m[\u001b[0m\u001b[0mlist_id\u001b[0m\u001b[1;33m]\u001b[0m\u001b[1;33m)\u001b[0m\u001b[1;33m\u001b[0m\u001b[1;33m\u001b[0m\u001b[0m\n",
      "\u001b[1;31mNameError\u001b[0m: name 'job_desc' is not defined",
      "\nDuring handling of the above exception, another exception occurred:\n",
      "\u001b[1;31mNameError\u001b[0m                                 Traceback (most recent call last)",
      "\u001b[1;32m<ipython-input-9-fec9e6a77fed>\u001b[0m in \u001b[0;36m<module>\u001b[1;34m\u001b[0m\n\u001b[0;32m     23\u001b[0m             \u001b[1;32mexcept\u001b[0m\u001b[1;33m:\u001b[0m\u001b[1;33m\u001b[0m\u001b[1;33m\u001b[0m\u001b[0m\n\u001b[0;32m     24\u001b[0m                 \u001b[0mprint\u001b[0m\u001b[1;33m(\u001b[0m\u001b[1;34m'1 Error'\u001b[0m\u001b[1;33m)\u001b[0m\u001b[1;33m\u001b[0m\u001b[1;33m\u001b[0m\u001b[0m\n\u001b[1;32m---> 25\u001b[1;33m                 \u001b[0mprint\u001b[0m\u001b[1;33m(\u001b[0m\u001b[0merror\u001b[0m\u001b[1;33m)\u001b[0m\u001b[1;33m\u001b[0m\u001b[1;33m\u001b[0m\u001b[0m\n\u001b[0m\u001b[0;32m     26\u001b[0m                 \u001b[0mvarlength\u001b[0m\u001b[1;33m.\u001b[0m\u001b[0mappend\u001b[0m\u001b[1;33m(\u001b[0m\u001b[1;34m'error'\u001b[0m\u001b[1;33m)\u001b[0m\u001b[1;33m\u001b[0m\u001b[1;33m\u001b[0m\u001b[0m\n\u001b[0;32m     27\u001b[0m         \u001b[1;31m#writer = csv.writer(f)\u001b[0m\u001b[1;33m\u001b[0m\u001b[1;33m\u001b[0m\u001b[1;33m\u001b[0m\u001b[0m\n",
      "\u001b[1;31mNameError\u001b[0m: name 'error' is not defined"
     ]
    }
   ],
   "source": [
    "wclist1=[]\n",
    "tflist1=[]\n",
    "tfidflist1=[]\n",
    "empty='Invalid value'\n",
    "for i in range(500,535):\n",
    "    varlength=[]\n",
    "    list_id=1\n",
    "    if list_id==1:\n",
    "        with open('finaloutput2.csv', 'a') as f:\n",
    "            varlength=[]\n",
    "            writer = csv.writer(f,delimiter=\",\", lineterminator=\"\\n\")\n",
    "        #writer.writerow(word1)\n",
    "            try: \n",
    "                varlength.append(i)\n",
    "                varlength.append(job_desc[i])\n",
    "                varlength.append([list_id])\n",
    "                for value1 in wclist:\n",
    "                    count2=re.findall(value1,job_description[i])\n",
    "                    abc=str(len(count2))\n",
    "                    empty='Invalid value'\n",
    "                    varlength.append(abc)\n",
    "                    #varlength.append(empty)\n",
    "            except:\n",
    "                print('1 Error')\n",
    "                print(error)\n",
    "                varlength.append('error')     \n",
    "        #writer = csv.writer(f)\n",
    "            try:\n",
    "                writer.writerow(varlength)\n",
    "            except UnicodeEncodeError:\n",
    "                writer.writerow(empty)\n",
    "            list_id+=1\n",
    "        f.close\n",
    "    if list_id==2:\n",
    "        with open('finaloutput.csv', 'a') as f:\n",
    "            varlength=[]\n",
    "            writer = csv.writer(f,delimiter=\",\", lineterminator=\"\\n\")\n",
    "            try: \n",
    "                varlength.append(i)\n",
    "                varlength.append(jobdesc[i])\n",
    "                varlength.append([list_id])\n",
    "                for value1 in trlist:\n",
    "                    count2=re.findall(value1,job_description[i])\n",
    "                    abc=str(len(count2))\n",
    "                    empty='Invalid value'\n",
    "                    try:\n",
    "                        varlength.append(abc)\n",
    "                    except UnicodeEncodeError:\n",
    "                        varlength.append(empty)\n",
    "                        \n",
    "                    errormsg='InvalidValue' \n",
    "            except:\n",
    "                print('2 Error')\n",
    "                print(error)\n",
    "                varlength.append('error')     \n",
    "            try:\n",
    "                writer.writerow(varlength)\n",
    "            except UnicodeEncodeError:\n",
    "                writer.writerow(empty)\n",
    "            list_id+=1\n",
    "        f.close\n",
    "    if list_id==3:\n",
    "        with open('finaloutput2.csv', 'a') as f:\n",
    "            varlength=[]\n",
    "            writer = csv.writer(f,delimiter=\",\", lineterminator=\"\\n\")\n",
    "            try: \n",
    "                varlength.append(i)\n",
    "                varlength.append(jobdesc[i])\n",
    "                varlength.append([list_id])\n",
    "                for value1 in tfidflist:\n",
    "                    count2=re.findall(value1,job_description[i])\n",
    "                    abc=str(len(count2))\n",
    "                    empty='Invalid value'\n",
    "                    try:\n",
    "                        varlength.append(abc)\n",
    "                        errormsg='InvalidValue' \n",
    "                    except UnicodeEncodeError:\n",
    "                        varlength.append(empty)\n",
    "                     \n",
    "            except:\n",
    "                print(' 3 Error')\n",
    "                print(error)\n",
    "                varlength.append('error')     \n",
    "            try:\n",
    "                writer.writerow(varlength)\n",
    "            except UnicodeEncodeError:\n",
    "                writer.writerow(empty)\n",
    "        f.close\n",
    "        "
   ]
  }
 ],
 "metadata": {
  "kernelspec": {
   "display_name": "Python 3",
   "language": "python",
   "name": "python3"
  },
  "language_info": {
   "codemirror_mode": {
    "name": "ipython",
    "version": 3
   },
   "file_extension": ".py",
   "mimetype": "text/x-python",
   "name": "python",
   "nbconvert_exporter": "python",
   "pygments_lexer": "ipython3",
   "version": "3.7.1"
  }
 },
 "nbformat": 4,
 "nbformat_minor": 2
}
